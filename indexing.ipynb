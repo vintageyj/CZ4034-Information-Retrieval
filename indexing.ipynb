{
 "cells": [
  {
   "cell_type": "code",
   "execution_count": 40,
   "metadata": {},
   "outputs": [],
   "source": [
    "import pandas as pd\n",
    "import numpy as np\n",
    "import matplotlib.pyplot as plt\n",
    "from datetime import datetime"
   ]
  },
  {
   "cell_type": "code",
   "execution_count": 41,
   "metadata": {},
   "outputs": [],
   "source": [
    "df = pd.read_csv(\"sg_companies_reviews.csv\")"
   ]
  },
  {
   "cell_type": "code",
   "execution_count": 42,
   "metadata": {},
   "outputs": [
    {
     "data": {
      "text/plain": [
       "Company Name         0\n",
       "Overall Rating       0\n",
       "Review Date          0\n",
       "Review Title        66\n",
       "Job Title            5\n",
       "Job Details          0\n",
       "Location          2763\n",
       "Pros                 0\n",
       "Cons                 0\n",
       "dtype: int64"
      ]
     },
     "execution_count": 42,
     "metadata": {},
     "output_type": "execute_result"
    }
   ],
   "source": [
    "df.isna().sum()"
   ]
  },
  {
   "cell_type": "code",
   "execution_count": 43,
   "metadata": {},
   "outputs": [],
   "source": [
    "def format_date(x, input_format = \"%d-%b-%y\", ignore_errors = False):\n",
    "    try:\n",
    "        return datetime.strptime(x, input_format)\n",
    "    except Exception as e:\n",
    "        if ignore_errors:\n",
    "            return x\n",
    "        else:\n",
    "            raise e\n",
    "\n",
    "def clean_df_dates(df, date_col, **args):\n",
    "    df[date_col] = df[date_col].apply(lambda x: format_date(x, **args))\n",
    "    return df\n",
    "\n",
    "df = clean_df_dates(df, \"Review Date\", ignore_errors = True)"
   ]
  },
  {
   "cell_type": "code",
   "execution_count": 52,
   "metadata": {},
   "outputs": [
    {
     "name": "stdout",
     "output_type": "stream",
     "text": [
      "Non-ASCII strings in 'Review Title':\n",
      "0\n",
      "Non-ASCII strings in 'Job Title':\n",
      "0\n",
      "Non-ASCII strings in 'Job Details':\n",
      "0\n",
      "Non-ASCII strings in 'Pros':\n",
      "0\n",
      "Non-ASCII strings in 'Cons':\n",
      "0\n"
     ]
    }
   ],
   "source": [
    "from cleantext import clean\n",
    "import emoji\n",
    "\n",
    "def convert_emoji_to_text(emoji_text):\n",
    "    try:\n",
    "        text_with_aliases = emoji.demojize(emoji_text, delimiters=(\"<\", \">\"))\n",
    "    except:\n",
    "        return emoji_text\n",
    "    return text_with_aliases\n",
    "\n",
    "def is_ascii(s):\n",
    "    try:\n",
    "        s.encode(encoding='utf-8').decode('ascii')\n",
    "        return True\n",
    "    except UnicodeDecodeError:\n",
    "        return False\n",
    "\n",
    "def get_non_ascii_strings(df, col):\n",
    "    # Use apply function to check each value in the specified column\n",
    "    non_ascii_mask = df[col].apply(lambda x: not is_ascii(str(x)))\n",
    "\n",
    "    # Return a DataFrame containing non-ASCII strings\n",
    "    return df[non_ascii_mask]\n",
    "\n",
    "def clean_text(df, col):\n",
    "    df = df.copy()\n",
    "    df[col] = df[col].apply(lambda x: clean(x, no_emoji=False, no_punct=True))\n",
    "    df[col] = df[col].apply(lambda x: convert_emoji_to_text(x))\n",
    "    return df\n",
    "\n",
    "text_columns = ['Review Title', 'Job Title', 'Job Details', 'Pros', 'Cons']\n",
    "df_clean = df.copy()\n",
    "for column_to_check in text_columns:\n",
    "    df_clean = clean_text(df_clean, column_to_check)\n",
    "    result = get_non_ascii_strings(df_clean, column_to_check)\n",
    "    print(f\"Non-ASCII strings in '{column_to_check}':\")\n",
    "    print(len(result))\n",
    "    if len(result) > 0:\n",
    "        display(result)\n"
   ]
  },
  {
   "cell_type": "code",
   "execution_count": 59,
   "metadata": {},
   "outputs": [
    {
     "name": "stdout",
     "output_type": "stream",
     "text": [
      "💩Jaipur sitapura uper management\n",
      "==========================\n",
      "After cleaning\n",
      "==========================\n",
      "<pile_of_poo>jaipur sitapura uper management\n"
     ]
    }
   ],
   "source": [
    "print(df.iloc[4088]['Review Title'])\n",
    "print(\"==========================\")\n",
    "print(\"After cleaning\")\n",
    "print(\"==========================\")\n",
    "print(df_clean.iloc[4088]['Review Title'])"
   ]
  },
  {
   "cell_type": "code",
   "execution_count": null,
   "metadata": {},
   "outputs": [],
   "source": []
  }
 ],
 "metadata": {
  "kernelspec": {
   "display_name": "dev",
   "language": "python",
   "name": "python3"
  },
  "language_info": {
   "codemirror_mode": {
    "name": "ipython",
    "version": 3
   },
   "file_extension": ".py",
   "mimetype": "text/x-python",
   "name": "python",
   "nbconvert_exporter": "python",
   "pygments_lexer": "ipython3",
   "version": "3.11.5"
  }
 },
 "nbformat": 4,
 "nbformat_minor": 2
}
