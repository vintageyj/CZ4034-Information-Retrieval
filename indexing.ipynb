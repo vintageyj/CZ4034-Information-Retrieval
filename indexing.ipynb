{
 "cells": [
  {
   "cell_type": "code",
   "execution_count": 174,
   "metadata": {},
   "outputs": [],
   "source": [
    "import pandas as pd\n",
    "import numpy as np\n",
    "import matplotlib.pyplot as plt\n",
    "from datetime import datetime"
   ]
  },
  {
   "cell_type": "code",
   "execution_count": 175,
   "metadata": {},
   "outputs": [],
   "source": [
    "df = pd.read_csv(\"data/new_sg_companies_reviews.csv\")"
   ]
  },
  {
   "cell_type": "code",
   "execution_count": 176,
   "metadata": {},
   "outputs": [
    {
     "data": {
      "text/plain": [
       "Company Name         0\n",
       "Overall Rating       0\n",
       "Review Date          0\n",
       "Review Title       109\n",
       "Job Title            8\n",
       "Job Details          0\n",
       "Location          5772\n",
       "Pros                 0\n",
       "Cons                 0\n",
       "dtype: int64"
      ]
     },
     "execution_count": 176,
     "metadata": {},
     "output_type": "execute_result"
    }
   ],
   "source": [
    "df.isna().sum()"
   ]
  },
  {
   "cell_type": "code",
   "execution_count": 177,
   "metadata": {},
   "outputs": [
    {
     "data": {
      "text/plain": [
       "(20035, 9)"
      ]
     },
     "execution_count": 177,
     "metadata": {},
     "output_type": "execute_result"
    }
   ],
   "source": [
    "df.shape"
   ]
  },
  {
   "cell_type": "code",
   "execution_count": 178,
   "metadata": {},
   "outputs": [],
   "source": [
    "def format_date(x, input_format = \"%d-%b-%y\", ignore_errors = False):\n",
    "    try:\n",
    "        return datetime.strptime(x, input_format)\n",
    "    except Exception as e:\n",
    "        if ignore_errors:\n",
    "            return x\n",
    "        else:\n",
    "            raise e\n",
    "    \n",
    "def format_non_conventional_dates(x):\n",
    "    if isinstance(x, datetime):\n",
    "        return x\n",
    "    if not isinstance(x, float):\n",
    "        try:\n",
    "            x = float(x)\n",
    "        except:\n",
    "            print(f\"{x} unknown date type\")\n",
    "            return x\n",
    "    return pd.Timedelta(x, unit='d') + datetime(1899, 12, 30)\n",
    "\n",
    "def clean_df_dates(df, date_col, **args):\n",
    "    df[date_col] = df[date_col].apply(lambda x: format_date(x, input_format = \"%d-%b-%y\", **args))\n",
    "    df[date_col] = df[date_col].apply(lambda x: format_date(x, input_format = \"%b %d, %Y\", **args))\n",
    "    df[date_col] = df[date_col].apply(lambda x: format_non_conventional_dates(x))\n",
    "    return df\n",
    "\n",
    "df = clean_df_dates(df, \"Review Date\", ignore_errors = True)"
   ]
  },
  {
   "cell_type": "code",
   "execution_count": 179,
   "metadata": {},
   "outputs": [],
   "source": [
    "df = df.reset_index(names=\"id\")\n",
    "df['id'] = df.apply(lambda x: f\"{x['Review Date']}{x['Review Title']}{x['id']}\", axis = 1)\n",
    "df.to_csv(\"data/new_sg_companies_reviews_UID.csv\", index = False)"
   ]
  },
  {
   "cell_type": "code",
   "execution_count": 180,
   "metadata": {},
   "outputs": [],
   "source": [
    "def clean_yj_style(df):\n",
    "    df.replace('#NAME?', pd.NA, inplace=True) # replace '#NAME?' with NaN\n",
    "    # Replace '' with NaN\n",
    "    df.replace('', pd.NA, inplace=True) # replace '' with NaN\n",
    "    # df.replace('•', '', inplace=True) # replace '•' with ''\n",
    "    # df.replace('’', \"'\", inplace=True) # replace '’' with \"'\"\n",
    "    df.replace('\\u2022', '', regex=True, inplace=True) # replace '•' with ''\n",
    "    df.replace('\\u2019', \"'\", regex=True, inplace=True) # replace '’' with \"'\"\n",
    "    df.replace('\\r\\n\\-', ' ', regex=True, inplace=True) # replace '\\r\\n-' with ' '\n",
    "    df.replace('\\r\\n\\*', ' ', regex=True, inplace=True) # replace '\\r\\n*' with ' '\n",
    "    df.replace('\\r\\n•', ' ', regex=True, inplace=True) # replace '\\r\\n•' with ' '\n",
    "    df.replace('\\n\\r\\-', ' ', regex=True, inplace=True) # replace '\\n\\r-' with ' '\n",
    "    df.replace('\\n\\r\\*', ' ', regex=True, inplace=True) # replace '\\n\\r*' with ' '\n",
    "    df.replace('\\n\\r•', ' ', regex=True, inplace=True) # replace '\\n\\r•' with ' '\n",
    "    df.replace('\\n\\-', ' ', regex=True, inplace=True) # replace '\\n-' with ' '\n",
    "    df.replace('\\n\\*', '', regex=True, inplace=True) # replace '\\n*' with ' '\n",
    "    df.replace('\\n•', ' ', inplace=True) # replace '\\n•' with ' '\n",
    "    df.replace('\\r-', ' ', inplace=True) # replace '\\r-' with ' '\n",
    "    df.replace('\\r*', ' ', inplace=True) # replace '\\r*' with ' '\n",
    "    df.replace('\\r•', ' ', inplace=True) # replace '\\r•' with ' '\n",
    "    df.replace('\\n',' ', regex=True, inplace=True) # replace '\\n' with ' '\n",
    "    df.replace('\\r',' ', regex=True, inplace=True) # replace '\\r' with ' '\n",
    "    df.replace('\\t',' ', regex=True, inplace=True) # replace '\\t' with ' '\n",
    "    df['Pros'] = df['Pros'].map(lambda x: x.lstrip('- ') if isinstance(x, str) else x)\n",
    "    df['Cons'] = df['Cons'].map(lambda x: x.lstrip('- ') if isinstance(x, str) else x)\n",
    "    df['Pros'] = df['Pros'].map(lambda x: x.lstrip('* ') if isinstance(x, str) else x)\n",
    "    df['Cons'] = df['Cons'].map(lambda x: x.lstrip('* ') if isinstance(x, str) else x)\n",
    "    return df"
   ]
  },
  {
   "cell_type": "code",
   "execution_count": 181,
   "metadata": {},
   "outputs": [
    {
     "name": "stdout",
     "output_type": "stream",
     "text": [
      "Non-ASCII strings in 'Review Title':\n",
      "0\n",
      "Non-ASCII strings in 'Job Title':\n",
      "0\n",
      "Non-ASCII strings in 'Job Details':\n",
      "0\n",
      "Non-ASCII strings in 'Pros':\n",
      "0\n",
      "Non-ASCII strings in 'Cons':\n",
      "0\n"
     ]
    }
   ],
   "source": [
    "from cleantext import clean\n",
    "import emoji\n",
    "import re\n",
    "\n",
    "def convert_emoji_to_text(emoji_text):\n",
    "    try:\n",
    "        text_with_aliases = emoji.demojize(emoji_text, delimiters=(\"\", \"_emoji \"))\n",
    "    except:\n",
    "        return emoji_text\n",
    "    return text_with_aliases\n",
    "\n",
    "def is_ascii(s):\n",
    "    try:\n",
    "        s.encode(encoding='utf-8').decode('ascii')\n",
    "        return True\n",
    "    except UnicodeDecodeError:\n",
    "        return False\n",
    "\n",
    "def get_non_ascii_strings(df, col):\n",
    "    # Use apply function to check each value in the specified column\n",
    "    non_ascii_mask = df[col].apply(lambda x: not is_ascii(str(x)))\n",
    "\n",
    "    # Return a DataFrame containing non-ASCII strings\n",
    "    return df[non_ascii_mask]\n",
    "\n",
    "def clean_text(df, col):\n",
    "    df = df.copy()\n",
    "    df[col] = df[col].apply(lambda x: clean(x, no_emoji=False, no_punct=True) if isinstance(x, str) else x)\n",
    "    df[col] = df[col].apply(lambda x: convert_emoji_to_text(x))\n",
    "    df[col] = df[col].apply(lambda x: x.strip() if isinstance(x, str) else x)\n",
    "    df[col] = df[col].apply(lambda x: re.sub(r' {2,}', ' ', x) if isinstance(x, str) else x)\n",
    "    return df\n",
    "\n",
    "index_column = ['id']\n",
    "df_index = df[index_column]\n",
    "df = df.drop(columns=index_column)\n",
    "\n",
    "text_columns = ['Review Title', 'Job Title', 'Job Details', 'Pros', 'Cons']\n",
    "df_clean = clean_yj_style(df)\n",
    "for column_to_check in text_columns:\n",
    "    df_clean = clean_text(df_clean, column_to_check)\n",
    "    result = get_non_ascii_strings(df_clean, column_to_check)\n",
    "    print(f\"Non-ASCII strings in '{column_to_check}':\")\n",
    "    print(len(result))\n",
    "    if len(result) > 0:\n",
    "        display(result)\n",
    "\n",
    "df_clean = pd.concat([df_index, df_clean], axis = 1)\n"
   ]
  },
  {
   "cell_type": "code",
   "execution_count": 182,
   "metadata": {},
   "outputs": [
    {
     "name": "stdout",
     "output_type": "stream",
     "text": [
      "Good pay, hard work\n",
      "==========================\n",
      "After cleaning\n",
      "==========================\n",
      "good pay hard work\n"
     ]
    }
   ],
   "source": [
    "print(df.iloc[0]['Review Title'])\n",
    "print(\"==========================\")\n",
    "print(\"After cleaning\")\n",
    "print(\"==========================\")\n",
    "print(df_clean.iloc[0]['Review Title'])"
   ]
  },
  {
   "cell_type": "code",
   "execution_count": 183,
   "metadata": {},
   "outputs": [
    {
     "data": {
      "text/plain": [
       "id                        object\n",
       "Company Name              object\n",
       "Overall Rating           float64\n",
       "Review Date       datetime64[ns]\n",
       "Review Title              object\n",
       "Job Title                 object\n",
       "Job Details               object\n",
       "Location                  object\n",
       "Pros                      object\n",
       "Cons                      object\n",
       "dtype: object"
      ]
     },
     "execution_count": 183,
     "metadata": {},
     "output_type": "execute_result"
    }
   ],
   "source": [
    "df_clean.dtypes"
   ]
  },
  {
   "cell_type": "code",
   "execution_count": 184,
   "metadata": {},
   "outputs": [],
   "source": [
    "df_clean = df_clean.drop_duplicates(subset = [i for i in df_clean.columns if i != 'id']).reset_index(drop = True)\n",
    "df_clean.to_csv(\"data/new_sg_companies_reviews_clean_UID.csv\", index = False)"
   ]
  },
  {
   "cell_type": "code",
   "execution_count": 185,
   "metadata": {},
   "outputs": [],
   "source": [
    "# df_clean.to_csv(\"data/new_sg_companies_reviews_clean.csv\", index = False)"
   ]
  },
  {
   "cell_type": "markdown",
   "metadata": {},
   "source": [
    "## Indexing classes"
   ]
  },
  {
   "cell_type": "code",
   "execution_count": 1,
   "metadata": {},
   "outputs": [],
   "source": [
    "import pandas as pd\n",
    "import numpy as np\n",
    "import matplotlib.pyplot as plt\n",
    "from datetime import datetime\n",
    "import time"
   ]
  },
  {
   "cell_type": "markdown",
   "metadata": {},
   "source": [
    "#### Ran this to check that data with uid is the same as final_sg_companies_reviews_clean.csv"
   ]
  },
  {
   "cell_type": "code",
   "execution_count": 2,
   "metadata": {},
   "outputs": [],
   "source": [
    "# df = pd.read_csv(\"data/final_sg_companies_reviews_clean.csv\")\n",
    "# df_uid = pd.read_csv(\"data/new_sg_companies_reviews_clean_UID.csv\")\n",
    "# df_uid = df_uid.dropna(subset=['Review Title','Pros', 'Cons']).reset_index(drop = True)\n",
    "# assert df.equals(df_uid.drop(columns=['id']))\n",
    "# df_uid.to_csv(\"data/final_sg_companies_reviews_clean_UID.csv\", index=False)"
   ]
  },
  {
   "cell_type": "code",
   "execution_count": 3,
   "metadata": {},
   "outputs": [],
   "source": [
    "df_raw = pd.read_csv(\"data/new_sg_companies_reviews_UID.csv\")\n",
    "df = pd.read_csv(\"data/final_sg_companies_reviews_clean_UID.csv\")"
   ]
  },
  {
   "cell_type": "code",
   "execution_count": 6,
   "metadata": {},
   "outputs": [
    {
     "name": "stdout",
     "output_type": "stream",
     "text": [
      "time taken for indexing: 0.11363363265991211s\n"
     ]
    }
   ],
   "source": [
    "from retrievers import BaseRetriever\n",
    "from enums import EncoderType, IndexerType\n",
    "encoder_type = EncoderType(\"TermFrequencyEncoder\")\n",
    "# encoder_type = EncoderType(\"SentenceTransformerEncoder\")\n",
    "# indexer_type = IndexerType(\"LeaderIndexer\")\n",
    "indexer_type = IndexerType(\"SimpleIndexer\")\n",
    "\n",
    "encoder_kwargs={}\n",
    "indexer_kwargs={\"n_clusters\": 1, 'use_pca': False, 'min_explained_var': 0.7}\n",
    "indexer_kwargs = {}\n",
    "\n",
    "start_indexing = time.time()\n",
    "retriever = BaseRetriever(encoder_type, indexer_type, df, 'Review Title', encoder_kwargs=encoder_kwargs, indexer_kwargs=indexer_kwargs)\n",
    "end_indexing = time.time()\n",
    "print(f\"time taken for indexing: {end_indexing - start_indexing}s\")"
   ]
  },
  {
   "cell_type": "code",
   "execution_count": 7,
   "metadata": {},
   "outputs": [
    {
     "name": "stdout",
     "output_type": "stream",
     "text": [
      "time taken for retrieval: 0.06072354316711426s\n"
     ]
    }
   ],
   "source": [
    "q1 = \"I want to see good MONEY, CULTURE AND WORK LIFE BALANCE\"\n",
    "q2 = \"career progression???\"\n",
    "q3 = \"the worst companies to work at\"\n",
    "q4 = \"tiktok software engineer\"\n",
    "\n",
    "start_retrieving = time.time()\n",
    "results = retriever.retrieve_results(q4)\n",
    "end_retrieving = time.time()\n",
    "print(f\"time taken for retrieval: {end_retrieving - start_retrieving}s\")"
   ]
  },
  {
   "cell_type": "code",
   "execution_count": 11,
   "metadata": {},
   "outputs": [
    {
     "data": {
      "text/html": [
       "<div>\n",
       "<style scoped>\n",
       "    .dataframe tbody tr th:only-of-type {\n",
       "        vertical-align: middle;\n",
       "    }\n",
       "\n",
       "    .dataframe tbody tr th {\n",
       "        vertical-align: top;\n",
       "    }\n",
       "\n",
       "    .dataframe thead th {\n",
       "        text-align: right;\n",
       "    }\n",
       "</style>\n",
       "<table border=\"1\" class=\"dataframe\">\n",
       "  <thead>\n",
       "    <tr style=\"text-align: right;\">\n",
       "      <th></th>\n",
       "      <th>id</th>\n",
       "      <th>Company Name</th>\n",
       "      <th>Overall Rating</th>\n",
       "      <th>Review Date</th>\n",
       "      <th>Review Title</th>\n",
       "      <th>Job Title</th>\n",
       "      <th>Job Details</th>\n",
       "      <th>Location</th>\n",
       "      <th>Pros</th>\n",
       "      <th>Cons</th>\n",
       "      <th>score</th>\n",
       "    </tr>\n",
       "  </thead>\n",
       "  <tbody>\n",
       "    <tr>\n",
       "      <th>2108</th>\n",
       "      <td>2024-02-08 00:00:00TikTok2592</td>\n",
       "      <td>TikTok</td>\n",
       "      <td>4.0</td>\n",
       "      <td>2024-02-08</td>\n",
       "      <td>TikTok</td>\n",
       "      <td>Marketing Operations</td>\n",
       "      <td>Current Employee</td>\n",
       "      <td>New York, NY</td>\n",
       "      <td>It's fun and great to work there</td>\n",
       "      <td>It's chaotic sometimes but good</td>\n",
       "      <td>0.751039</td>\n",
       "    </tr>\n",
       "    <tr>\n",
       "      <th>2128</th>\n",
       "      <td>2024-02-06 00:00:00TikTok Review2618</td>\n",
       "      <td>TikTok</td>\n",
       "      <td>3.0</td>\n",
       "      <td>2024-02-06</td>\n",
       "      <td>TikTok Review</td>\n",
       "      <td>Agency Development Manager</td>\n",
       "      <td>Former Employee</td>\n",
       "      <td>Austin, TX</td>\n",
       "      <td>Very fun place to work!</td>\n",
       "      <td>Revenue has gone down so they did layoffs.</td>\n",
       "      <td>0.667639</td>\n",
       "    </tr>\n",
       "    <tr>\n",
       "      <th>1670</th>\n",
       "      <td>2017-08-23 00:00:00Software Engineer2052</td>\n",
       "      <td>Grab</td>\n",
       "      <td>5.0</td>\n",
       "      <td>2017-08-23</td>\n",
       "      <td>Software Engineer</td>\n",
       "      <td>Software Engineer</td>\n",
       "      <td>Current Employee, more than 1 year</td>\n",
       "      <td>Seattle, WA</td>\n",
       "      <td>Diverse, intellectual rigor, strong and divers...</td>\n",
       "      <td>Things are moving at the speed of sound.  Noth...</td>\n",
       "      <td>0.660258</td>\n",
       "    </tr>\n",
       "    <tr>\n",
       "      <th>4825</th>\n",
       "      <td>2023-11-06 00:00:00Software engineer5830</td>\n",
       "      <td>X</td>\n",
       "      <td>4.0</td>\n",
       "      <td>2023-11-06</td>\n",
       "      <td>Software engineer</td>\n",
       "      <td>Software Engineer</td>\n",
       "      <td>Former Employee, more than 1 year</td>\n",
       "      <td>San Francisco, CA</td>\n",
       "      <td>Good company to work and learn</td>\n",
       "      <td>Nothing much all was fine until it was acquired</td>\n",
       "      <td>0.660258</td>\n",
       "    </tr>\n",
       "    <tr>\n",
       "      <th>6440</th>\n",
       "      <td>2023-08-31 00:00:00Software Engineer7683</td>\n",
       "      <td>Virtusa</td>\n",
       "      <td>5.0</td>\n",
       "      <td>2023-08-31</td>\n",
       "      <td>Software Engineer</td>\n",
       "      <td>Anonymous Employee</td>\n",
       "      <td>Former Employee</td>\n",
       "      <td>NaN</td>\n",
       "      <td>Virtusa Consulting Services is rated 3.8 out o...</td>\n",
       "      <td>Also, in light of the tight labor markets acro...</td>\n",
       "      <td>0.660258</td>\n",
       "    </tr>\n",
       "    <tr>\n",
       "      <th>...</th>\n",
       "      <td>...</td>\n",
       "      <td>...</td>\n",
       "      <td>...</td>\n",
       "      <td>...</td>\n",
       "      <td>...</td>\n",
       "      <td>...</td>\n",
       "      <td>...</td>\n",
       "      <td>...</td>\n",
       "      <td>...</td>\n",
       "      <td>...</td>\n",
       "      <td>...</td>\n",
       "    </tr>\n",
       "    <tr>\n",
       "      <th>6168</th>\n",
       "      <td>2022-08-03 00:00:00Great learning experience7349</td>\n",
       "      <td>Hitachi</td>\n",
       "      <td>4.0</td>\n",
       "      <td>2022-08-03</td>\n",
       "      <td>Great learning experience</td>\n",
       "      <td>Product Manager</td>\n",
       "      <td>Current Employee, more than 1 year</td>\n",
       "      <td>Brisbane, CA</td>\n",
       "      <td>Learned a lot about the Japanese business cult...</td>\n",
       "      <td>Work/life balance can be challenging.</td>\n",
       "      <td>0.000000</td>\n",
       "    </tr>\n",
       "    <tr>\n",
       "      <th>6169</th>\n",
       "      <td>2022-07-26 00:00:00hard to cope with Japanese ...</td>\n",
       "      <td>Hitachi</td>\n",
       "      <td>2.0</td>\n",
       "      <td>2022-07-26</td>\n",
       "      <td>hard to cope with Japanese culture in workplace</td>\n",
       "      <td>Anonymous Employee</td>\n",
       "      <td>Current Employee, more than 10 years</td>\n",
       "      <td>NaN</td>\n",
       "      <td>welfare is good\\r\\nFor non-Japanese speaking f...</td>\n",
       "      <td>hard to cope with Japanese culture in workplace</td>\n",
       "      <td>0.000000</td>\n",
       "    </tr>\n",
       "    <tr>\n",
       "      <th>6170</th>\n",
       "      <td>2022-07-26 00:00:00Good development7351</td>\n",
       "      <td>Hitachi</td>\n",
       "      <td>5.0</td>\n",
       "      <td>2022-07-26</td>\n",
       "      <td>Good development</td>\n",
       "      <td>Assistant Quality Manager</td>\n",
       "      <td>Current Employee</td>\n",
       "      <td>Monroe, GA</td>\n",
       "      <td>Great people\\r\\nGreat guidance from executives...</td>\n",
       "      <td>No work and life balance\\r\\nInadequate managem...</td>\n",
       "      <td>0.000000</td>\n",
       "    </tr>\n",
       "    <tr>\n",
       "      <th>6171</th>\n",
       "      <td>2022-12-07 00:00:00Not a employee friendly com...</td>\n",
       "      <td>Hitachi</td>\n",
       "      <td>1.0</td>\n",
       "      <td>2022-12-07</td>\n",
       "      <td>Not a employee friendly company</td>\n",
       "      <td>General Laborer/Warehouse</td>\n",
       "      <td>Former Employee, more than 1 year</td>\n",
       "      <td>Findlay, OH</td>\n",
       "      <td>None to offer they play favorites alot and dis...</td>\n",
       "      <td>Alot of wrong things happens in this place esp...</td>\n",
       "      <td>0.000000</td>\n",
       "    </tr>\n",
       "    <tr>\n",
       "      <th>18348</th>\n",
       "      <td>2023-04-29 00:00:00Toxic20034</td>\n",
       "      <td>Informatica</td>\n",
       "      <td>1.0</td>\n",
       "      <td>2023-04-29</td>\n",
       "      <td>Toxic</td>\n",
       "      <td>Account Executive</td>\n",
       "      <td>Former Employee, more than 1 year</td>\n",
       "      <td>Dallas, TX</td>\n",
       "      <td>Good overall benefits and pay. SKO is strong a...</td>\n",
       "      <td>My team (and manager) was quite toxic with a l...</td>\n",
       "      <td>0.000000</td>\n",
       "    </tr>\n",
       "  </tbody>\n",
       "</table>\n",
       "<p>18349 rows × 11 columns</p>\n",
       "</div>"
      ],
      "text/plain": [
       "                                                      id Company Name  \\\n",
       "2108                       2024-02-08 00:00:00TikTok2592       TikTok   \n",
       "2128                2024-02-06 00:00:00TikTok Review2618       TikTok   \n",
       "1670            2017-08-23 00:00:00Software Engineer2052         Grab   \n",
       "4825            2023-11-06 00:00:00Software engineer5830            X   \n",
       "6440            2023-08-31 00:00:00Software Engineer7683      Virtusa   \n",
       "...                                                  ...          ...   \n",
       "6168    2022-08-03 00:00:00Great learning experience7349      Hitachi   \n",
       "6169   2022-07-26 00:00:00hard to cope with Japanese ...      Hitachi   \n",
       "6170             2022-07-26 00:00:00Good development7351      Hitachi   \n",
       "6171   2022-12-07 00:00:00Not a employee friendly com...      Hitachi   \n",
       "18348                      2023-04-29 00:00:00Toxic20034  Informatica   \n",
       "\n",
       "       Overall Rating Review Date  \\\n",
       "2108              4.0  2024-02-08   \n",
       "2128              3.0  2024-02-06   \n",
       "1670              5.0  2017-08-23   \n",
       "4825              4.0  2023-11-06   \n",
       "6440              5.0  2023-08-31   \n",
       "...               ...         ...   \n",
       "6168              4.0  2022-08-03   \n",
       "6169              2.0  2022-07-26   \n",
       "6170              5.0  2022-07-26   \n",
       "6171              1.0  2022-12-07   \n",
       "18348             1.0  2023-04-29   \n",
       "\n",
       "                                          Review Title  \\\n",
       "2108                                            TikTok   \n",
       "2128                                     TikTok Review   \n",
       "1670                                 Software Engineer   \n",
       "4825                                 Software engineer   \n",
       "6440                                 Software Engineer   \n",
       "...                                                ...   \n",
       "6168                         Great learning experience   \n",
       "6169   hard to cope with Japanese culture in workplace   \n",
       "6170                                  Good development   \n",
       "6171                   Not a employee friendly company   \n",
       "18348                                            Toxic   \n",
       "\n",
       "                        Job Title                           Job Details  \\\n",
       "2108         Marketing Operations                      Current Employee   \n",
       "2128   Agency Development Manager                       Former Employee   \n",
       "1670            Software Engineer    Current Employee, more than 1 year   \n",
       "4825            Software Engineer     Former Employee, more than 1 year   \n",
       "6440           Anonymous Employee                       Former Employee   \n",
       "...                           ...                                   ...   \n",
       "6168              Product Manager    Current Employee, more than 1 year   \n",
       "6169           Anonymous Employee  Current Employee, more than 10 years   \n",
       "6170    Assistant Quality Manager                      Current Employee   \n",
       "6171    General Laborer/Warehouse     Former Employee, more than 1 year   \n",
       "18348           Account Executive     Former Employee, more than 1 year   \n",
       "\n",
       "                Location                                               Pros  \\\n",
       "2108        New York, NY                   It's fun and great to work there   \n",
       "2128          Austin, TX                            Very fun place to work!   \n",
       "1670         Seattle, WA  Diverse, intellectual rigor, strong and divers...   \n",
       "4825   San Francisco, CA                     Good company to work and learn   \n",
       "6440                 NaN  Virtusa Consulting Services is rated 3.8 out o...   \n",
       "...                  ...                                                ...   \n",
       "6168        Brisbane, CA  Learned a lot about the Japanese business cult...   \n",
       "6169                 NaN  welfare is good\\r\\nFor non-Japanese speaking f...   \n",
       "6170          Monroe, GA  Great people\\r\\nGreat guidance from executives...   \n",
       "6171         Findlay, OH  None to offer they play favorites alot and dis...   \n",
       "18348         Dallas, TX  Good overall benefits and pay. SKO is strong a...   \n",
       "\n",
       "                                                    Cons     score  \n",
       "2108                     It's chaotic sometimes but good  0.751039  \n",
       "2128          Revenue has gone down so they did layoffs.  0.667639  \n",
       "1670   Things are moving at the speed of sound.  Noth...  0.660258  \n",
       "4825     Nothing much all was fine until it was acquired  0.660258  \n",
       "6440   Also, in light of the tight labor markets acro...  0.660258  \n",
       "...                                                  ...       ...  \n",
       "6168               Work/life balance can be challenging.  0.000000  \n",
       "6169     hard to cope with Japanese culture in workplace  0.000000  \n",
       "6170   No work and life balance\\r\\nInadequate managem...  0.000000  \n",
       "6171   Alot of wrong things happens in this place esp...  0.000000  \n",
       "18348  My team (and manager) was quite toxic with a l...  0.000000  \n",
       "\n",
       "[18349 rows x 11 columns]"
      ]
     },
     "execution_count": 11,
     "metadata": {},
     "output_type": "execute_result"
    }
   ],
   "source": [
    "result_df = pd.DataFrame(results, columns = ['id', 'score'])\n",
    "pd.merge(df_raw, result_df, on = 'id').sort_values('score', ascending = False)"
   ]
  },
  {
   "cell_type": "code",
   "execution_count": null,
   "metadata": {},
   "outputs": [],
   "source": []
  }
 ],
 "metadata": {
  "kernelspec": {
   "display_name": "dev",
   "language": "python",
   "name": "python3"
  },
  "language_info": {
   "codemirror_mode": {
    "name": "ipython",
    "version": 3
   },
   "file_extension": ".py",
   "mimetype": "text/x-python",
   "name": "python",
   "nbconvert_exporter": "python",
   "pygments_lexer": "ipython3",
   "version": "3.11.5"
  }
 },
 "nbformat": 4,
 "nbformat_minor": 2
}
