{
 "cells": [
  {
   "cell_type": "code",
   "execution_count": 174,
   "metadata": {},
   "outputs": [],
   "source": [
    "import pandas as pd\n",
    "import numpy as np\n",
    "import matplotlib.pyplot as plt\n",
    "from datetime import datetime"
   ]
  },
  {
   "cell_type": "code",
   "execution_count": 175,
   "metadata": {},
   "outputs": [],
   "source": [
    "df = pd.read_csv(\"data/new_sg_companies_reviews.csv\")"
   ]
  },
  {
   "cell_type": "code",
   "execution_count": 176,
   "metadata": {},
   "outputs": [
    {
     "data": {
      "text/plain": [
       "Company Name         0\n",
       "Overall Rating       0\n",
       "Review Date          0\n",
       "Review Title       109\n",
       "Job Title            8\n",
       "Job Details          0\n",
       "Location          5772\n",
       "Pros                 0\n",
       "Cons                 0\n",
       "dtype: int64"
      ]
     },
     "execution_count": 176,
     "metadata": {},
     "output_type": "execute_result"
    }
   ],
   "source": [
    "df.isna().sum()"
   ]
  },
  {
   "cell_type": "code",
   "execution_count": 177,
   "metadata": {},
   "outputs": [
    {
     "data": {
      "text/plain": [
       "(20035, 9)"
      ]
     },
     "execution_count": 177,
     "metadata": {},
     "output_type": "execute_result"
    }
   ],
   "source": [
    "df.shape"
   ]
  },
  {
   "cell_type": "code",
   "execution_count": 178,
   "metadata": {},
   "outputs": [],
   "source": [
    "def format_date(x, input_format = \"%d-%b-%y\", ignore_errors = False):\n",
    "    try:\n",
    "        return datetime.strptime(x, input_format)\n",
    "    except Exception as e:\n",
    "        if ignore_errors:\n",
    "            return x\n",
    "        else:\n",
    "            raise e\n",
    "    \n",
    "def format_non_conventional_dates(x):\n",
    "    if isinstance(x, datetime):\n",
    "        return x\n",
    "    if not isinstance(x, float):\n",
    "        try:\n",
    "            x = float(x)\n",
    "        except:\n",
    "            print(f\"{x} unknown date type\")\n",
    "            return x\n",
    "    return pd.Timedelta(x, unit='d') + datetime(1899, 12, 30)\n",
    "\n",
    "def clean_df_dates(df, date_col, **args):\n",
    "    df[date_col] = df[date_col].apply(lambda x: format_date(x, input_format = \"%d-%b-%y\", **args))\n",
    "    df[date_col] = df[date_col].apply(lambda x: format_date(x, input_format = \"%b %d, %Y\", **args))\n",
    "    df[date_col] = df[date_col].apply(lambda x: format_non_conventional_dates(x))\n",
    "    return df\n",
    "\n",
    "df = clean_df_dates(df, \"Review Date\", ignore_errors = True)"
   ]
  },
  {
   "cell_type": "code",
   "execution_count": 179,
   "metadata": {},
   "outputs": [],
   "source": [
    "df = df.reset_index(names=\"id\")\n",
    "df['id'] = df.apply(lambda x: f\"{x['Review Date']}{x['Review Title']}{x['id']}\", axis = 1)\n",
    "df.to_csv(\"data/new_sg_companies_reviews_UID.csv\", index = False)"
   ]
  },
  {
   "cell_type": "code",
   "execution_count": 180,
   "metadata": {},
   "outputs": [],
   "source": [
    "def clean_yj_style(df):\n",
    "    df.replace('#NAME?', pd.NA, inplace=True) # replace '#NAME?' with NaN\n",
    "    # Replace '' with NaN\n",
    "    df.replace('', pd.NA, inplace=True) # replace '' with NaN\n",
    "    # df.replace('•', '', inplace=True) # replace '•' with ''\n",
    "    # df.replace('’', \"'\", inplace=True) # replace '’' with \"'\"\n",
    "    df.replace('\\u2022', '', regex=True, inplace=True) # replace '•' with ''\n",
    "    df.replace('\\u2019', \"'\", regex=True, inplace=True) # replace '’' with \"'\"\n",
    "    df.replace('\\r\\n\\-', ' ', regex=True, inplace=True) # replace '\\r\\n-' with ' '\n",
    "    df.replace('\\r\\n\\*', ' ', regex=True, inplace=True) # replace '\\r\\n*' with ' '\n",
    "    df.replace('\\r\\n•', ' ', regex=True, inplace=True) # replace '\\r\\n•' with ' '\n",
    "    df.replace('\\n\\r\\-', ' ', regex=True, inplace=True) # replace '\\n\\r-' with ' '\n",
    "    df.replace('\\n\\r\\*', ' ', regex=True, inplace=True) # replace '\\n\\r*' with ' '\n",
    "    df.replace('\\n\\r•', ' ', regex=True, inplace=True) # replace '\\n\\r•' with ' '\n",
    "    df.replace('\\n\\-', ' ', regex=True, inplace=True) # replace '\\n-' with ' '\n",
    "    df.replace('\\n\\*', '', regex=True, inplace=True) # replace '\\n*' with ' '\n",
    "    df.replace('\\n•', ' ', inplace=True) # replace '\\n•' with ' '\n",
    "    df.replace('\\r-', ' ', inplace=True) # replace '\\r-' with ' '\n",
    "    df.replace('\\r*', ' ', inplace=True) # replace '\\r*' with ' '\n",
    "    df.replace('\\r•', ' ', inplace=True) # replace '\\r•' with ' '\n",
    "    df.replace('\\n',' ', regex=True, inplace=True) # replace '\\n' with ' '\n",
    "    df.replace('\\r',' ', regex=True, inplace=True) # replace '\\r' with ' '\n",
    "    df.replace('\\t',' ', regex=True, inplace=True) # replace '\\t' with ' '\n",
    "    df['Pros'] = df['Pros'].map(lambda x: x.lstrip('- ') if isinstance(x, str) else x)\n",
    "    df['Cons'] = df['Cons'].map(lambda x: x.lstrip('- ') if isinstance(x, str) else x)\n",
    "    df['Pros'] = df['Pros'].map(lambda x: x.lstrip('* ') if isinstance(x, str) else x)\n",
    "    df['Cons'] = df['Cons'].map(lambda x: x.lstrip('* ') if isinstance(x, str) else x)\n",
    "    return df"
   ]
  },
  {
   "cell_type": "code",
   "execution_count": 181,
   "metadata": {},
   "outputs": [
    {
     "name": "stdout",
     "output_type": "stream",
     "text": [
      "Non-ASCII strings in 'Review Title':\n",
      "0\n",
      "Non-ASCII strings in 'Job Title':\n",
      "0\n",
      "Non-ASCII strings in 'Job Details':\n",
      "0\n",
      "Non-ASCII strings in 'Pros':\n",
      "0\n",
      "Non-ASCII strings in 'Cons':\n",
      "0\n"
     ]
    }
   ],
   "source": [
    "from cleantext import clean\n",
    "import emoji\n",
    "import re\n",
    "\n",
    "def convert_emoji_to_text(emoji_text):\n",
    "    try:\n",
    "        text_with_aliases = emoji.demojize(emoji_text, delimiters=(\"\", \"_emoji \"))\n",
    "    except:\n",
    "        return emoji_text\n",
    "    return text_with_aliases\n",
    "\n",
    "def is_ascii(s):\n",
    "    try:\n",
    "        s.encode(encoding='utf-8').decode('ascii')\n",
    "        return True\n",
    "    except UnicodeDecodeError:\n",
    "        return False\n",
    "\n",
    "def get_non_ascii_strings(df, col):\n",
    "    # Use apply function to check each value in the specified column\n",
    "    non_ascii_mask = df[col].apply(lambda x: not is_ascii(str(x)))\n",
    "\n",
    "    # Return a DataFrame containing non-ASCII strings\n",
    "    return df[non_ascii_mask]\n",
    "\n",
    "def clean_text(df, col):\n",
    "    df = df.copy()\n",
    "    df[col] = df[col].apply(lambda x: clean(x, no_emoji=False, no_punct=True) if isinstance(x, str) else x)\n",
    "    df[col] = df[col].apply(lambda x: convert_emoji_to_text(x))\n",
    "    df[col] = df[col].apply(lambda x: x.strip() if isinstance(x, str) else x)\n",
    "    df[col] = df[col].apply(lambda x: re.sub(r' {2,}', ' ', x) if isinstance(x, str) else x)\n",
    "    return df\n",
    "\n",
    "index_column = ['id']\n",
    "df_index = df[index_column]\n",
    "df = df.drop(columns=index_column)\n",
    "\n",
    "text_columns = ['Review Title', 'Job Title', 'Job Details', 'Pros', 'Cons']\n",
    "df_clean = clean_yj_style(df)\n",
    "for column_to_check in text_columns:\n",
    "    df_clean = clean_text(df_clean, column_to_check)\n",
    "    result = get_non_ascii_strings(df_clean, column_to_check)\n",
    "    print(f\"Non-ASCII strings in '{column_to_check}':\")\n",
    "    print(len(result))\n",
    "    if len(result) > 0:\n",
    "        display(result)\n",
    "\n",
    "df_clean = pd.concat([df_index, df_clean], axis = 1)\n"
   ]
  },
  {
   "cell_type": "code",
   "execution_count": 182,
   "metadata": {},
   "outputs": [
    {
     "name": "stdout",
     "output_type": "stream",
     "text": [
      "Good pay, hard work\n",
      "==========================\n",
      "After cleaning\n",
      "==========================\n",
      "good pay hard work\n"
     ]
    }
   ],
   "source": [
    "print(df.iloc[0]['Review Title'])\n",
    "print(\"==========================\")\n",
    "print(\"After cleaning\")\n",
    "print(\"==========================\")\n",
    "print(df_clean.iloc[0]['Review Title'])"
   ]
  },
  {
   "cell_type": "code",
   "execution_count": 183,
   "metadata": {},
   "outputs": [
    {
     "data": {
      "text/plain": [
       "id                        object\n",
       "Company Name              object\n",
       "Overall Rating           float64\n",
       "Review Date       datetime64[ns]\n",
       "Review Title              object\n",
       "Job Title                 object\n",
       "Job Details               object\n",
       "Location                  object\n",
       "Pros                      object\n",
       "Cons                      object\n",
       "dtype: object"
      ]
     },
     "execution_count": 183,
     "metadata": {},
     "output_type": "execute_result"
    }
   ],
   "source": [
    "df_clean.dtypes"
   ]
  },
  {
   "cell_type": "code",
   "execution_count": 184,
   "metadata": {},
   "outputs": [],
   "source": [
    "df_clean = df_clean.drop_duplicates(subset = [i for i in df_clean.columns if i != 'id']).reset_index(drop = True)\n",
    "df_clean.to_csv(\"data/new_sg_companies_reviews_clean_UID.csv\", index = False)"
   ]
  },
  {
   "cell_type": "code",
   "execution_count": 185,
   "metadata": {},
   "outputs": [],
   "source": [
    "# df_clean.to_csv(\"data/new_sg_companies_reviews_clean.csv\", index = False)"
   ]
  },
  {
   "cell_type": "markdown",
   "metadata": {},
   "source": [
    "## Indexing classes"
   ]
  },
  {
   "cell_type": "code",
   "execution_count": 1,
   "metadata": {},
   "outputs": [],
   "source": [
    "import pandas as pd\n",
    "import numpy as np\n",
    "import matplotlib.pyplot as plt\n",
    "from datetime import datetime\n",
    "import time"
   ]
  },
  {
   "cell_type": "code",
   "execution_count": 2,
   "metadata": {},
   "outputs": [],
   "source": [
    "df = pd.read_csv(\"data/final_sg_companies_reviews_clean.csv\")"
   ]
  },
  {
   "cell_type": "code",
   "execution_count": 3,
   "metadata": {},
   "outputs": [],
   "source": [
    "df_uid = pd.read_csv(\"data/new_sg_companies_reviews_clean_UID.csv\")\n",
    "df_uid = df_uid.dropna(subset=['Review Title','Pros', 'Cons']).reset_index(drop = True)"
   ]
  },
  {
   "cell_type": "code",
   "execution_count": 4,
   "metadata": {},
   "outputs": [],
   "source": [
    "assert df.equals(df_uid.drop(columns=['id']))\n",
    "df_uid.to_csv(\"data/final_sg_companies_reviews_clean_UID.csv\", index=False)"
   ]
  },
  {
   "cell_type": "code",
   "execution_count": 192,
   "metadata": {},
   "outputs": [],
   "source": [
    "df = pd.read_csv(\"data/final_sg_companies_reviews_clean_UID.csv\")"
   ]
  },
  {
   "cell_type": "code",
   "execution_count": 193,
   "metadata": {},
   "outputs": [
    {
     "name": "stdout",
     "output_type": "stream",
     "text": [
      "time taken for indexing: 0.27309465408325195s\n"
     ]
    }
   ],
   "source": [
    "from retrievers import BaseRetriever\n",
    "from enums import EncoderType, IndexerType\n",
    "encoder_type = EncoderType(\"TermFrequencyEncoder\")\n",
    "# encoder_type = EncoderType(\"SentenceTransformerEncoder\")\n",
    "indexer_type = IndexerType(\"LeaderIndexer\")\n",
    "corpus = df['Review Title'].to_numpy()\n",
    "\n",
    "start_indexing = time.time()\n",
    "retriever = BaseRetriever(encoder_type, indexer_type, corpus, encoder_kwargs={}, indexer_kwargs={\"n_clusters\": 1, 'use_pca': False, 'min_explained_var': 0.7})\n",
    "end_indexing = time.time()\n",
    "print(f\"time taken for indexing: {end_indexing - start_indexing}s\")"
   ]
  },
  {
   "cell_type": "code",
   "execution_count": 194,
   "metadata": {},
   "outputs": [
    {
     "name": "stdout",
     "output_type": "stream",
     "text": [
      "time taken for retrieval: 0.00640869140625s\n"
     ]
    }
   ],
   "source": [
    "q1 = \"I want to see good MONEY, CULTURE AND WORK LIFE BALANCE\"\n",
    "q2 = \"career progression???\"\n",
    "q3 = \"the worst companies to work at\"\n",
    "q4 = \"tiktok software engineer\"\n",
    "\n",
    "start_retrieving = time.time()\n",
    "results = retriever.retrieve_results(q4)\n",
    "end_retrieving = time.time()\n",
    "print(f\"time taken for retrieval: {end_retrieving - start_retrieving}s\")"
   ]
  },
  {
   "cell_type": "code",
   "execution_count": 195,
   "metadata": {},
   "outputs": [
    {
     "data": {
      "text/html": [
       "<div>\n",
       "<style scoped>\n",
       "    .dataframe tbody tr th:only-of-type {\n",
       "        vertical-align: middle;\n",
       "    }\n",
       "\n",
       "    .dataframe tbody tr th {\n",
       "        vertical-align: top;\n",
       "    }\n",
       "\n",
       "    .dataframe thead th {\n",
       "        text-align: right;\n",
       "    }\n",
       "</style>\n",
       "<table border=\"1\" class=\"dataframe\">\n",
       "  <thead>\n",
       "    <tr style=\"text-align: right;\">\n",
       "      <th></th>\n",
       "      <th>id</th>\n",
       "      <th>Company Name</th>\n",
       "      <th>Overall Rating</th>\n",
       "      <th>Review Date</th>\n",
       "      <th>Review Title</th>\n",
       "      <th>Job Title</th>\n",
       "      <th>Job Details</th>\n",
       "      <th>Location</th>\n",
       "      <th>Pros</th>\n",
       "      <th>Cons</th>\n",
       "    </tr>\n",
       "  </thead>\n",
       "  <tbody>\n",
       "    <tr>\n",
       "      <th>2108</th>\n",
       "      <td>2024-02-08 00:00:00TikTok2592</td>\n",
       "      <td>TikTok</td>\n",
       "      <td>4.0</td>\n",
       "      <td>2024-02-08</td>\n",
       "      <td>tiktok</td>\n",
       "      <td>marketing operations</td>\n",
       "      <td>current employee</td>\n",
       "      <td>New York, NY</td>\n",
       "      <td>its fun and great to work there</td>\n",
       "      <td>its chaotic sometimes but good</td>\n",
       "    </tr>\n",
       "    <tr>\n",
       "      <th>2128</th>\n",
       "      <td>2024-02-06 00:00:00TikTok Review2618</td>\n",
       "      <td>TikTok</td>\n",
       "      <td>3.0</td>\n",
       "      <td>2024-02-06</td>\n",
       "      <td>tiktok review</td>\n",
       "      <td>agency development manager</td>\n",
       "      <td>former employee</td>\n",
       "      <td>Austin, TX</td>\n",
       "      <td>very fun place to work</td>\n",
       "      <td>revenue has gone down so they did layoffs</td>\n",
       "    </tr>\n",
       "    <tr>\n",
       "      <th>5206</th>\n",
       "      <td>2017-05-15 00:00:00Software Engineer6266</td>\n",
       "      <td>ST Electronics (Singapore)</td>\n",
       "      <td>4.0</td>\n",
       "      <td>2017-05-15</td>\n",
       "      <td>software engineer</td>\n",
       "      <td>anonymous employee</td>\n",
       "      <td>former employee</td>\n",
       "      <td>NaN</td>\n",
       "      <td>a good culture and environment to work with</td>\n",
       "      <td>no team work and kinda stressful</td>\n",
       "    </tr>\n",
       "    <tr>\n",
       "      <th>11205</th>\n",
       "      <td>2023-11-10 00:00:00Software Engineer12814</td>\n",
       "      <td>PCCW</td>\n",
       "      <td>4.0</td>\n",
       "      <td>2023-11-10</td>\n",
       "      <td>software engineer</td>\n",
       "      <td>software engineer</td>\n",
       "      <td>former employee more than 1 year</td>\n",
       "      <td>Manila, Manila</td>\n",
       "      <td>a lot of good projects to learn from good sala...</td>\n",
       "      <td>project timelines are too demanding sometimes</td>\n",
       "    </tr>\n",
       "    <tr>\n",
       "      <th>4825</th>\n",
       "      <td>2023-11-06 00:00:00Software engineer5830</td>\n",
       "      <td>X</td>\n",
       "      <td>4.0</td>\n",
       "      <td>2023-11-06</td>\n",
       "      <td>software engineer</td>\n",
       "      <td>software engineer</td>\n",
       "      <td>former employee more than 1 year</td>\n",
       "      <td>San Francisco, CA</td>\n",
       "      <td>good company to work and learn</td>\n",
       "      <td>nothing much all was fine until it was acquired</td>\n",
       "    </tr>\n",
       "    <tr>\n",
       "      <th>...</th>\n",
       "      <td>...</td>\n",
       "      <td>...</td>\n",
       "      <td>...</td>\n",
       "      <td>...</td>\n",
       "      <td>...</td>\n",
       "      <td>...</td>\n",
       "      <td>...</td>\n",
       "      <td>...</td>\n",
       "      <td>...</td>\n",
       "      <td>...</td>\n",
       "    </tr>\n",
       "    <tr>\n",
       "      <th>12199</th>\n",
       "      <td>2023-01-31 00:00:00Not DEI friendly; poor econ...</td>\n",
       "      <td>Groupon</td>\n",
       "      <td>1.0</td>\n",
       "      <td>2023-01-31</td>\n",
       "      <td>not dei friendly poor economic outlook they ar...</td>\n",
       "      <td>anonymous employee</td>\n",
       "      <td>current employee</td>\n",
       "      <td>NaN</td>\n",
       "      <td>there are not many positives besides some comm...</td>\n",
       "      <td>groupon is not dei friendly i have various ema...</td>\n",
       "    </tr>\n",
       "    <tr>\n",
       "      <th>12198</th>\n",
       "      <td>2023-01-12 00:00:00Fun, Collaborative, Thought...</td>\n",
       "      <td>Groupon</td>\n",
       "      <td>5.0</td>\n",
       "      <td>2023-01-12</td>\n",
       "      <td>fun collaborative thought provoking environment</td>\n",
       "      <td>manager</td>\n",
       "      <td>current employee more than 3 years</td>\n",
       "      <td>NaN</td>\n",
       "      <td>unlimited paid time off diverse culture inclus...</td>\n",
       "      <td>change management but optimistic in finding ne...</td>\n",
       "    </tr>\n",
       "    <tr>\n",
       "      <th>12197</th>\n",
       "      <td>2023-08-08 00:00:00Great place to work13815</td>\n",
       "      <td>Groupon</td>\n",
       "      <td>3.0</td>\n",
       "      <td>2023-08-08</td>\n",
       "      <td>great place to work</td>\n",
       "      <td>data scientist</td>\n",
       "      <td>current employee</td>\n",
       "      <td>Chicago, IL</td>\n",
       "      <td>great place to work and learn</td>\n",
       "      <td>not performing well due to recession</td>\n",
       "    </tr>\n",
       "    <tr>\n",
       "      <th>12196</th>\n",
       "      <td>2023-05-22 00:00:00Great place to learn, but h...</td>\n",
       "      <td>Groupon</td>\n",
       "      <td>3.0</td>\n",
       "      <td>2023-05-22</td>\n",
       "      <td>great place to learn but has no soul</td>\n",
       "      <td>anonymous employee</td>\n",
       "      <td>former employee more than 3 years</td>\n",
       "      <td>Seattle, WA</td>\n",
       "      <td>good wlb competitive pay friendly team 100 rem...</td>\n",
       "      <td>i got laid off leadership cant decide what to ...</td>\n",
       "    </tr>\n",
       "    <tr>\n",
       "      <th>0</th>\n",
       "      <td>2024-02-12 00:00:00Good pay, hard work0</td>\n",
       "      <td>Amazon</td>\n",
       "      <td>5.0</td>\n",
       "      <td>2024-02-12</td>\n",
       "      <td>good pay hard work</td>\n",
       "      <td>area manager ii</td>\n",
       "      <td>former employee more than 3 years</td>\n",
       "      <td>Romulus, MI</td>\n",
       "      <td>pay autonomy plenty of benefits</td>\n",
       "      <td>it was hard work in a warehouse many days of 1...</td>\n",
       "    </tr>\n",
       "  </tbody>\n",
       "</table>\n",
       "<p>18349 rows × 10 columns</p>\n",
       "</div>"
      ],
      "text/plain": [
       "                                                      id  \\\n",
       "2108                       2024-02-08 00:00:00TikTok2592   \n",
       "2128                2024-02-06 00:00:00TikTok Review2618   \n",
       "5206            2017-05-15 00:00:00Software Engineer6266   \n",
       "11205          2023-11-10 00:00:00Software Engineer12814   \n",
       "4825            2023-11-06 00:00:00Software engineer5830   \n",
       "...                                                  ...   \n",
       "12199  2023-01-31 00:00:00Not DEI friendly; poor econ...   \n",
       "12198  2023-01-12 00:00:00Fun, Collaborative, Thought...   \n",
       "12197        2023-08-08 00:00:00Great place to work13815   \n",
       "12196  2023-05-22 00:00:00Great place to learn, but h...   \n",
       "0                2024-02-12 00:00:00Good pay, hard work0   \n",
       "\n",
       "                     Company Name  Overall Rating Review Date  \\\n",
       "2108                       TikTok             4.0  2024-02-08   \n",
       "2128                       TikTok             3.0  2024-02-06   \n",
       "5206   ST Electronics (Singapore)             4.0  2017-05-15   \n",
       "11205                        PCCW             4.0  2023-11-10   \n",
       "4825                            X             4.0  2023-11-06   \n",
       "...                           ...             ...         ...   \n",
       "12199                     Groupon             1.0  2023-01-31   \n",
       "12198                     Groupon             5.0  2023-01-12   \n",
       "12197                     Groupon             3.0  2023-08-08   \n",
       "12196                     Groupon             3.0  2023-05-22   \n",
       "0                          Amazon             5.0  2024-02-12   \n",
       "\n",
       "                                            Review Title  \\\n",
       "2108                                              tiktok   \n",
       "2128                                       tiktok review   \n",
       "5206                                   software engineer   \n",
       "11205                                  software engineer   \n",
       "4825                                   software engineer   \n",
       "...                                                  ...   \n",
       "12199  not dei friendly poor economic outlook they ar...   \n",
       "12198    fun collaborative thought provoking environment   \n",
       "12197                                great place to work   \n",
       "12196               great place to learn but has no soul   \n",
       "0                                     good pay hard work   \n",
       "\n",
       "                        Job Title                         Job Details  \\\n",
       "2108         marketing operations                    current employee   \n",
       "2128   agency development manager                     former employee   \n",
       "5206           anonymous employee                     former employee   \n",
       "11205           software engineer    former employee more than 1 year   \n",
       "4825            software engineer    former employee more than 1 year   \n",
       "...                           ...                                 ...   \n",
       "12199          anonymous employee                    current employee   \n",
       "12198                     manager  current employee more than 3 years   \n",
       "12197              data scientist                    current employee   \n",
       "12196          anonymous employee   former employee more than 3 years   \n",
       "0                 area manager ii   former employee more than 3 years   \n",
       "\n",
       "                Location                                               Pros  \\\n",
       "2108        New York, NY                    its fun and great to work there   \n",
       "2128          Austin, TX                             very fun place to work   \n",
       "5206                 NaN        a good culture and environment to work with   \n",
       "11205     Manila, Manila  a lot of good projects to learn from good sala...   \n",
       "4825   San Francisco, CA                     good company to work and learn   \n",
       "...                  ...                                                ...   \n",
       "12199                NaN  there are not many positives besides some comm...   \n",
       "12198                NaN  unlimited paid time off diverse culture inclus...   \n",
       "12197        Chicago, IL                      great place to work and learn   \n",
       "12196        Seattle, WA  good wlb competitive pay friendly team 100 rem...   \n",
       "0            Romulus, MI                    pay autonomy plenty of benefits   \n",
       "\n",
       "                                                    Cons  \n",
       "2108                      its chaotic sometimes but good  \n",
       "2128           revenue has gone down so they did layoffs  \n",
       "5206                    no team work and kinda stressful  \n",
       "11205      project timelines are too demanding sometimes  \n",
       "4825     nothing much all was fine until it was acquired  \n",
       "...                                                  ...  \n",
       "12199  groupon is not dei friendly i have various ema...  \n",
       "12198  change management but optimistic in finding ne...  \n",
       "12197               not performing well due to recession  \n",
       "12196  i got laid off leadership cant decide what to ...  \n",
       "0      it was hard work in a warehouse many days of 1...  \n",
       "\n",
       "[18349 rows x 10 columns]"
      ]
     },
     "execution_count": 195,
     "metadata": {},
     "output_type": "execute_result"
    }
   ],
   "source": [
    "df.iloc[results]"
   ]
  },
  {
   "cell_type": "code",
   "execution_count": null,
   "metadata": {},
   "outputs": [],
   "source": []
  }
 ],
 "metadata": {
  "kernelspec": {
   "display_name": "dev",
   "language": "python",
   "name": "python3"
  },
  "language_info": {
   "codemirror_mode": {
    "name": "ipython",
    "version": 3
   },
   "file_extension": ".py",
   "mimetype": "text/x-python",
   "name": "python",
   "nbconvert_exporter": "python",
   "pygments_lexer": "ipython3",
   "version": "3.11.5"
  }
 },
 "nbformat": 4,
 "nbformat_minor": 2
}
