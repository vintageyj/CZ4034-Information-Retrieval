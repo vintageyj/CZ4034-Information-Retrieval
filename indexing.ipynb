{
 "cells": [
  {
   "cell_type": "code",
   "execution_count": 6,
   "metadata": {},
   "outputs": [],
   "source": [
    "import pandas as pd\n",
    "import numpy as np\n",
    "import matplotlib.pyplot as plt\n",
    "from datetime import datetime"
   ]
  },
  {
   "cell_type": "code",
   "execution_count": 35,
   "metadata": {},
   "outputs": [],
   "source": [
    "df = pd.read_csv(\"sg_companies_reviews.csv\")"
   ]
  },
  {
   "cell_type": "code",
   "execution_count": 29,
   "metadata": {},
   "outputs": [
    {
     "data": {
      "text/plain": [
       "Company Name         0\n",
       "Overall Rating       0\n",
       "Review Date          0\n",
       "Review Title        66\n",
       "Job Title            5\n",
       "Job Details          0\n",
       "Location          2763\n",
       "Pros                 0\n",
       "Cons                 0\n",
       "dtype: int64"
      ]
     },
     "execution_count": 29,
     "metadata": {},
     "output_type": "execute_result"
    }
   ],
   "source": [
    "df.isna().sum()"
   ]
  },
  {
   "cell_type": "code",
   "execution_count": 19,
   "metadata": {},
   "outputs": [],
   "source": [
    "def format_date(x, input_format = \"%d-%b-%y\", ignore_errors = False):\n",
    "    try:\n",
    "        return datetime.strptime(x, input_format)\n",
    "    except Exception as e:\n",
    "        if ignore_errors:\n",
    "            return x\n",
    "        else:\n",
    "            raise e\n",
    "\n",
    "def clean_df_dates(df, date_col, **args):\n",
    "    df[date_col] = df[date_col].apply(lambda x: format_date(x, **args))\n",
    "    return df\n",
    "\n",
    "df = clean_df_dates(df, \"Review Date\", ignore_errors = True)"
   ]
  },
  {
   "cell_type": "code",
   "execution_count": 38,
   "metadata": {},
   "outputs": [
    {
     "name": "stdout",
     "output_type": "stream",
     "text": [
      "Non-ASCII strings in 'Review Title':\n",
      "1\n"
     ]
    },
    {
     "data": {
      "text/html": [
       "<div>\n",
       "<style scoped>\n",
       "    .dataframe tbody tr th:only-of-type {\n",
       "        vertical-align: middle;\n",
       "    }\n",
       "\n",
       "    .dataframe tbody tr th {\n",
       "        vertical-align: top;\n",
       "    }\n",
       "\n",
       "    .dataframe thead th {\n",
       "        text-align: right;\n",
       "    }\n",
       "</style>\n",
       "<table border=\"1\" class=\"dataframe\">\n",
       "  <thead>\n",
       "    <tr style=\"text-align: right;\">\n",
       "      <th></th>\n",
       "      <th>Company Name</th>\n",
       "      <th>Overall Rating</th>\n",
       "      <th>Review Date</th>\n",
       "      <th>Review Title</th>\n",
       "      <th>Job Title</th>\n",
       "      <th>Job Details</th>\n",
       "      <th>Location</th>\n",
       "      <th>Pros</th>\n",
       "      <th>Cons</th>\n",
       "    </tr>\n",
       "  </thead>\n",
       "  <tbody>\n",
       "    <tr>\n",
       "      <th>4088</th>\n",
       "      <td>Genpact</td>\n",
       "      <td>1</td>\n",
       "      <td>45331</td>\n",
       "      <td>💩jaipur sitapura uper management</td>\n",
       "      <td>Process Developer Operations</td>\n",
       "      <td>Current Employee, less than 1 year</td>\n",
       "      <td>NaN</td>\n",
       "      <td>Never ever come to this location of Genpact, j...</td>\n",
       "      <td>Employees hard work never seen by management a...</td>\n",
       "    </tr>\n",
       "  </tbody>\n",
       "</table>\n",
       "</div>"
      ],
      "text/plain": [
       "     Company Name  Overall Rating Review Date  \\\n",
       "4088      Genpact               1       45331   \n",
       "\n",
       "                          Review Title                     Job Title  \\\n",
       "4088  💩jaipur sitapura uper management  Process Developer Operations   \n",
       "\n",
       "                             Job Details Location  \\\n",
       "4088  Current Employee, less than 1 year      NaN   \n",
       "\n",
       "                                                   Pros  \\\n",
       "4088  Never ever come to this location of Genpact, j...   \n",
       "\n",
       "                                                   Cons  \n",
       "4088  Employees hard work never seen by management a...  "
      ]
     },
     "metadata": {},
     "output_type": "display_data"
    }
   ],
   "source": [
    "from cleantext import clean\n",
    "\n",
    "def is_ascii(s):\n",
    "    try:\n",
    "        s.encode(encoding='utf-8').decode('ascii')\n",
    "        return True\n",
    "    except UnicodeDecodeError:\n",
    "        return False\n",
    "\n",
    "def get_non_ascii_strings(df, col):\n",
    "    # Use apply function to check each value in the specified column\n",
    "    non_ascii_mask = df[col].apply(lambda x: not is_ascii(str(x)))\n",
    "\n",
    "    # Return a DataFrame containing non-ASCII strings\n",
    "    return df[non_ascii_mask]\n",
    "\n",
    "def clean_text(df, col):\n",
    "    df[col] = df[col].apply(lambda x: clean(x))\n",
    "    return df\n",
    "\n",
    "column_to_check = 'Review Title'\n",
    "df = clean_text(df, column_to_check)\n",
    "result = get_non_ascii_strings(df, column_to_check)\n",
    "print(f\"Non-ASCII strings in '{column_to_check}':\")\n",
    "print(len(result))\n",
    "display(result)\n"
   ]
  },
  {
   "cell_type": "code",
   "execution_count": null,
   "metadata": {},
   "outputs": [],
   "source": []
  }
 ],
 "metadata": {
  "kernelspec": {
   "display_name": "dev",
   "language": "python",
   "name": "python3"
  },
  "language_info": {
   "codemirror_mode": {
    "name": "ipython",
    "version": 3
   },
   "file_extension": ".py",
   "mimetype": "text/x-python",
   "name": "python",
   "nbconvert_exporter": "python",
   "pygments_lexer": "ipython3",
   "version": "3.11.5"
  }
 },
 "nbformat": 4,
 "nbformat_minor": 2
}
