{
 "cells": [
  {
   "cell_type": "markdown",
   "metadata": {},
   "source": [
    "# Example notebook on querying using ElasticSearch Index"
   ]
  },
  {
   "cell_type": "code",
   "execution_count": 3,
   "metadata": {},
   "outputs": [
    {
     "name": "stdout",
     "output_type": "stream",
     "text": [
      "Connection to Elastic cluster successful\n"
     ]
    },
    {
     "name": "stderr",
     "output_type": "stream",
     "text": [
      "c:\\GitHub\\CZ4034-Information-Retrieval\\retrievers.py:76: ElasticsearchWarning: this request accesses system indices: [.kibana_task_manager_8.13.0_001, .kibana_security_session_1, .kibana_ingest_8.13.0_001, .apm-custom-link, .security-profile-8, .kibana_8.13.0_001, .fleet-enrollment-api-keys-7, .apm-agent-configuration, .kibana_security_solution_8.13.0_001, .security-7, .kibana_analytics_8.13.0_001, .kibana_alerting_cases_8.13.0_001, .fleet-policies-7], but in a future major version, direct access to system indices will be prevented by default\n",
      "  if self.index_name in self.client.indices.get_alias(index=\"*\"):\n"
     ]
    },
    {
     "name": "stdout",
     "output_type": "stream",
     "text": [
      "Creating index: sg_companies_reviews_clean\n",
      "Indexing documents...\n",
      "time taken for indexing: 4.055080413818359s\n"
     ]
    }
   ],
   "source": [
    "from retrievers import ElasticRetriever\n",
    "from enums import IndexerType\n",
    "import time\n",
    "\n",
    "ELASTIC_PWD = 'changeme'\n",
    "\n",
    "data_path = \"data/final_sg_companies_reviews_clean.csv\"\n",
    "\n",
    "indexer_type = IndexerType(\"ElasticSearchIndexer\")\n",
    "index_name = \"sg_companies_reviews_clean\"\n",
    "\n",
    "start_indexing = time.time()\n",
    "retriever = ElasticRetriever(indexer_type, data_path, elastic_pwd=ELASTIC_PWD, index_name = index_name, fresh_instance = False) # fresh_instance = True to delete existing index and create a new index\n",
    "end_indexing = time.time()\n",
    "print(f\"time taken for indexing: {end_indexing - start_indexing}s\")"
   ]
  },
  {
   "cell_type": "code",
   "execution_count": 4,
   "metadata": {},
   "outputs": [
    {
     "name": "stdout",
     "output_type": "stream",
     "text": [
      "<Elasticsearch(['http://localhost:9200'])>\n",
      "time taken for retrieval: 0.06318783760070801s\n",
      "Total Hits:  104\n"
     ]
    },
    {
     "data": {
      "text/html": [
       "<div>\n",
       "<style scoped>\n",
       "    .dataframe tbody tr th:only-of-type {\n",
       "        vertical-align: middle;\n",
       "    }\n",
       "\n",
       "    .dataframe tbody tr th {\n",
       "        vertical-align: top;\n",
       "    }\n",
       "\n",
       "    .dataframe thead th {\n",
       "        text-align: right;\n",
       "    }\n",
       "</style>\n",
       "<table border=\"1\" class=\"dataframe\">\n",
       "  <thead>\n",
       "    <tr style=\"text-align: right;\">\n",
       "      <th></th>\n",
       "      <th>Company Name</th>\n",
       "      <th>Overall Rating</th>\n",
       "      <th>Review Date</th>\n",
       "      <th>Review Title</th>\n",
       "      <th>Job Details</th>\n",
       "      <th>Job Title</th>\n",
       "      <th>Location</th>\n",
       "      <th>Pros</th>\n",
       "      <th>Cons</th>\n",
       "    </tr>\n",
       "  </thead>\n",
       "  <tbody>\n",
       "    <tr>\n",
       "      <th>0</th>\n",
       "      <td>SAS</td>\n",
       "      <td>1.0</td>\n",
       "      <td>2023-08-25</td>\n",
       "      <td>poor management</td>\n",
       "      <td>current employee more than 1 year</td>\n",
       "      <td>associate software engineer</td>\n",
       "      <td>Cary, NC</td>\n",
       "      <td>no pros at all be ready to be verbally abused ...</td>\n",
       "      <td>management is horrible do not listen when told...</td>\n",
       "    </tr>\n",
       "    <tr>\n",
       "      <th>1</th>\n",
       "      <td>Mphasis</td>\n",
       "      <td>2.0</td>\n",
       "      <td>2022-10-05</td>\n",
       "      <td>poor management</td>\n",
       "      <td>current employee more than 10 years</td>\n",
       "      <td>software developer</td>\n",
       "      <td>New York, NY</td>\n",
       "      <td>wfh good projects flexible gets clients</td>\n",
       "      <td>no 401k does not promote candidates who are li...</td>\n",
       "    </tr>\n",
       "    <tr>\n",
       "      <th>2</th>\n",
       "      <td>Hitachi</td>\n",
       "      <td>3.0</td>\n",
       "      <td>2023-01-17</td>\n",
       "      <td>poor management</td>\n",
       "      <td>former employee more than 5 years</td>\n",
       "      <td>engineer</td>\n",
       "      <td></td>\n",
       "      <td>good place to learn manufacturing and automoti...</td>\n",
       "      <td>poor management too busy too much work load an...</td>\n",
       "    </tr>\n",
       "    <tr>\n",
       "      <th>3</th>\n",
       "      <td>Xilinx</td>\n",
       "      <td>2.0</td>\n",
       "      <td>2022-10-18</td>\n",
       "      <td>poor management</td>\n",
       "      <td>former employee more than 3 years</td>\n",
       "      <td>engineer</td>\n",
       "      <td></td>\n",
       "      <td>good before change in management</td>\n",
       "      <td>was good with management then covid happened a...</td>\n",
       "    </tr>\n",
       "    <tr>\n",
       "      <th>4</th>\n",
       "      <td>Wipro</td>\n",
       "      <td>3.0</td>\n",
       "      <td>2024-02-16</td>\n",
       "      <td>poor management</td>\n",
       "      <td>current employee</td>\n",
       "      <td>network engineer</td>\n",
       "      <td>Pune</td>\n",
       "      <td>good technology learning opportunity</td>\n",
       "      <td>no increment management is bad</td>\n",
       "    </tr>\n",
       "  </tbody>\n",
       "</table>\n",
       "</div>"
      ],
      "text/plain": [
       "  Company Name Overall Rating Review Date     Review Title  \\\n",
       "0          SAS            1.0  2023-08-25  poor management   \n",
       "1      Mphasis            2.0  2022-10-05  poor management   \n",
       "2      Hitachi            3.0  2023-01-17  poor management   \n",
       "3       Xilinx            2.0  2022-10-18  poor management   \n",
       "4        Wipro            3.0  2024-02-16  poor management   \n",
       "\n",
       "                           Job Details                    Job Title  \\\n",
       "0    current employee more than 1 year  associate software engineer   \n",
       "1  current employee more than 10 years           software developer   \n",
       "2    former employee more than 5 years                     engineer   \n",
       "3    former employee more than 3 years                     engineer   \n",
       "4                     current employee             network engineer   \n",
       "\n",
       "       Location                                               Pros  \\\n",
       "0      Cary, NC  no pros at all be ready to be verbally abused ...   \n",
       "1  New York, NY            wfh good projects flexible gets clients   \n",
       "2                good place to learn manufacturing and automoti...   \n",
       "3                                 good before change in management   \n",
       "4          Pune               good technology learning opportunity   \n",
       "\n",
       "                                                Cons  \n",
       "0  management is horrible do not listen when told...  \n",
       "1  no 401k does not promote candidates who are li...  \n",
       "2  poor management too busy too much work load an...  \n",
       "3  was good with management then covid happened a...  \n",
       "4                     no increment management is bad  "
      ]
     },
     "execution_count": 4,
     "metadata": {},
     "output_type": "execute_result"
    }
   ],
   "source": [
    "q1 = {'Review Title':'poor management', 'Job Title':'software engineer'}\n",
    "q2 = {'Review Title':'good management', 'Job Title':'software engineer', 'Review Date':'2023-01-17|2023-01-17'}\n",
    "q3 = {'Review Title':'good management', 'Job Title':'software engineer', 'Review Date':'2023-01-17|2023-12-18'}\n",
    "\n",
    "start_retrieving = time.time()\n",
    "results = retriever.retrieve_results(q1, pagination=(0,10000), operator=\"must\")\n",
    "end_retrieving = time.time()\n",
    "print(f\"time taken for retrieval: {end_retrieving - start_retrieving}s\")\n",
    "\n",
    "# The first element of the list is the total number of hits\n",
    "print(\"Total Hits: \", results[0])\n",
    "# The second element of the list is the dataframe of the results\n",
    "results[1].head()\n",
    "\n"
   ]
  },
  {
   "cell_type": "code",
   "execution_count": null,
   "metadata": {},
   "outputs": [],
   "source": []
  }
 ],
 "metadata": {
  "kernelspec": {
   "display_name": "inforet",
   "language": "python",
   "name": "inforet"
  },
  "language_info": {
   "codemirror_mode": {
    "name": "ipython",
    "version": 3
   },
   "file_extension": ".py",
   "mimetype": "text/x-python",
   "name": "python",
   "nbconvert_exporter": "python",
   "pygments_lexer": "ipython3",
   "version": "3.10.4"
  }
 },
 "nbformat": 4,
 "nbformat_minor": 2
}
