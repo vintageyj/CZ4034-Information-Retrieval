{
 "cells": [
  {
   "cell_type": "markdown",
   "metadata": {},
   "source": [
    "# Example notebook on querying using ElasticSearch Index"
   ]
  },
  {
   "cell_type": "code",
   "execution_count": 1,
   "metadata": {},
   "outputs": [
    {
     "name": "stderr",
     "output_type": "stream",
     "text": [
      "Since the GPL-licensed package `unidecode` is not installed, using Python's `unicodedata` package which yields worse results.\n",
      "c:\\Users\\vinta\\envs\\inforet\\lib\\site-packages\\tqdm\\auto.py:21: TqdmWarning: IProgress not found. Please update jupyter and ipywidgets. See https://ipywidgets.readthedocs.io/en/stable/user_install.html\n",
      "  from .autonotebook import tqdm as notebook_tqdm\n"
     ]
    },
    {
     "name": "stdout",
     "output_type": "stream",
     "text": [
      "Connection to Elastic cluster successful\n",
      "time taken for indexing: 0.417844295501709s\n"
     ]
    },
    {
     "name": "stderr",
     "output_type": "stream",
     "text": [
      "c:\\GitHub\\CZ4034-Information-Retrieval\\retrievers.py:76: ElasticsearchWarning: this request accesses system indices: [.kibana_ingest_8.12.2_001, .kibana_8.12.2_001, .kibana_security_session_1, .kibana_task_manager_8.12.2_001, .apm-custom-link, .security-profile-8, .kibana_analytics_8.12.2_001, .fleet-enrollment-api-keys-7, .apm-agent-configuration, .kibana_alerting_cases_8.12.2_001, .security-7, .kibana_security_solution_8.12.2_001, .async-search, .fleet-policies-7], but in a future major version, direct access to system indices will be prevented by default\n",
      "  if self.index_name in self.client.indices.get_alias(index=\"*\"):\n"
     ]
    }
   ],
   "source": [
    "from retrievers import ElasticRetriever\n",
    "from enums import IndexerType\n",
    "import time\n",
    "\n",
    "ELASTIC_PWD = '_zu3*L+gRcVhaVbDqb6P'\n",
    "\n",
    "data_path = \"data/final_sg_companies_reviews_clean.csv\"\n",
    "\n",
    "indexer_type = IndexerType(\"ElasticSearchIndexer\")\n",
    "index_name = \"sg_companies_reviews\"\n",
    "\n",
    "start_indexing = time.time()\n",
    "retriever = ElasticRetriever(indexer_type, data_path, elastic_pwd=ELASTIC_PWD, index_name = index_name, fresh_instance = False) # fresh_instance = True to delete existing index and create a new index\n",
    "end_indexing = time.time()\n",
    "print(f\"time taken for indexing: {end_indexing - start_indexing}s\")"
   ]
  },
  {
   "cell_type": "code",
   "execution_count": 10,
   "metadata": {},
   "outputs": [
    {
     "name": "stdout",
     "output_type": "stream",
     "text": [
      "<Elasticsearch(['http://localhost:9200'])>\n",
      "time taken for retrieval: 0.05800175666809082s\n",
      "Total Hits:  28\n"
     ]
    },
    {
     "data": {
      "text/html": [
       "<div>\n",
       "<style scoped>\n",
       "    .dataframe tbody tr th:only-of-type {\n",
       "        vertical-align: middle;\n",
       "    }\n",
       "\n",
       "    .dataframe tbody tr th {\n",
       "        vertical-align: top;\n",
       "    }\n",
       "\n",
       "    .dataframe thead th {\n",
       "        text-align: right;\n",
       "    }\n",
       "</style>\n",
       "<table border=\"1\" class=\"dataframe\">\n",
       "  <thead>\n",
       "    <tr style=\"text-align: right;\">\n",
       "      <th></th>\n",
       "      <th>Company Name</th>\n",
       "      <th>Overall Rating</th>\n",
       "      <th>Review Date</th>\n",
       "      <th>Review Title</th>\n",
       "      <th>Job Details</th>\n",
       "      <th>Job Title</th>\n",
       "      <th>Location</th>\n",
       "      <th>Pros</th>\n",
       "      <th>Cons</th>\n",
       "    </tr>\n",
       "  </thead>\n",
       "  <tbody>\n",
       "    <tr>\n",
       "      <th>0</th>\n",
       "      <td>Veritas Technologies</td>\n",
       "      <td>5.0</td>\n",
       "      <td>2023-08-14</td>\n",
       "      <td>great company friendly work environment</td>\n",
       "      <td>current employee</td>\n",
       "      <td>principal financial analyst</td>\n",
       "      <td>Santa Clara, CA</td>\n",
       "      <td>everyone is very flexible here</td>\n",
       "      <td>none at this company at the moment</td>\n",
       "    </tr>\n",
       "    <tr>\n",
       "      <th>1</th>\n",
       "      <td>Civica</td>\n",
       "      <td>5.0</td>\n",
       "      <td>2024-01-08</td>\n",
       "      <td>friendly flexible company</td>\n",
       "      <td>current employee less than 1 year</td>\n",
       "      <td>financial assessment officer</td>\n",
       "      <td>Stoke-on-Trent, England</td>\n",
       "      <td>very welcoming to new employees and staff at a...</td>\n",
       "      <td>as a home worker it would be good to attend oc...</td>\n",
       "    </tr>\n",
       "    <tr>\n",
       "      <th>2</th>\n",
       "      <td>Micron Technology</td>\n",
       "      <td>4.0</td>\n",
       "      <td>2024-01-31</td>\n",
       "      <td>friendly workplace</td>\n",
       "      <td>former employee more than 1 year</td>\n",
       "      <td>data analyst</td>\n",
       "      <td>Taichung</td>\n",
       "      <td>friendly workplace good benefits interesting p...</td>\n",
       "      <td>large corporation lower efficiency long commut...</td>\n",
       "    </tr>\n",
       "    <tr>\n",
       "      <th>3</th>\n",
       "      <td>Pactera</td>\n",
       "      <td>4.0</td>\n",
       "      <td>2022-08-14</td>\n",
       "      <td>friendly colleagues</td>\n",
       "      <td>former employee more than 1 year</td>\n",
       "      <td>test analyst</td>\n",
       "      <td></td>\n",
       "      <td>wonderful peoplescolleagues that can become fr...</td>\n",
       "      <td>depends on the project and might need to do ov...</td>\n",
       "    </tr>\n",
       "    <tr>\n",
       "      <th>4</th>\n",
       "      <td>Gojek</td>\n",
       "      <td>4.0</td>\n",
       "      <td>2024-01-04</td>\n",
       "      <td>overall employee friendly</td>\n",
       "      <td>current employee</td>\n",
       "      <td>analyst</td>\n",
       "      <td>Bengaluru</td>\n",
       "      <td>employee friendly but recent layoffs is sad news</td>\n",
       "      <td>shares prices are not increasing</td>\n",
       "    </tr>\n",
       "  </tbody>\n",
       "</table>\n",
       "</div>"
      ],
      "text/plain": [
       "           Company Name Overall Rating Review Date  \\\n",
       "0  Veritas Technologies            5.0  2023-08-14   \n",
       "1                Civica            5.0  2024-01-08   \n",
       "2     Micron Technology            4.0  2024-01-31   \n",
       "3               Pactera            4.0  2022-08-14   \n",
       "4                 Gojek            4.0  2024-01-04   \n",
       "\n",
       "                              Review Title                        Job Details  \\\n",
       "0  great company friendly work environment                   current employee   \n",
       "1                friendly flexible company  current employee less than 1 year   \n",
       "2                       friendly workplace   former employee more than 1 year   \n",
       "3                      friendly colleagues   former employee more than 1 year   \n",
       "4                overall employee friendly                   current employee   \n",
       "\n",
       "                      Job Title                 Location  \\\n",
       "0   principal financial analyst          Santa Clara, CA   \n",
       "1  financial assessment officer  Stoke-on-Trent, England   \n",
       "2                  data analyst                 Taichung   \n",
       "3                  test analyst                            \n",
       "4                       analyst                Bengaluru   \n",
       "\n",
       "                                                Pros  \\\n",
       "0                     everyone is very flexible here   \n",
       "1  very welcoming to new employees and staff at a...   \n",
       "2  friendly workplace good benefits interesting p...   \n",
       "3  wonderful peoplescolleagues that can become fr...   \n",
       "4   employee friendly but recent layoffs is sad news   \n",
       "\n",
       "                                                Cons  \n",
       "0                 none at this company at the moment  \n",
       "1  as a home worker it would be good to attend oc...  \n",
       "2  large corporation lower efficiency long commut...  \n",
       "3  depends on the project and might need to do ov...  \n",
       "4                   shares prices are not increasing  "
      ]
     },
     "execution_count": 10,
     "metadata": {},
     "output_type": "execute_result"
    }
   ],
   "source": [
    "# q1 = {'Review Title':'poor management', 'Job Title':'software engineer'}\n",
    "# q2 = {'Review Title':'good management', 'Job Title':'software engineer', 'Review Date':'2023-01-17|2023-01-17'}\n",
    "# q3 = {'Review Title':'good management', 'Job Title':'software engineer', 'Review Date':'2023-01-17|2023-12-18'}\n",
    "\n",
    "q1 = {'Review Title':'poor management', 'Job Title':'software engineer'}\n",
    "q2 = {'Review Title':'good working environment', 'Job Title':'recruiter'}\n",
    "q3 = {'Review Title':'good benefits', 'Job Title':'data scientist'}\n",
    "q4 = {'Review Title':'high compensation', 'Job Title':'marketing'}\n",
    "q5 = {'Review Title':'fun and friendly people', 'Job Title':'financial analyst'}\n",
    "\n",
    "\n",
    "start_retrieving = time.time()\n",
    "results = retriever.retrieve_results(q5, pagination=(0,10000), operator=\"must\")\n",
    "end_retrieving = time.time()\n",
    "print(f\"time taken for retrieval: {end_retrieving - start_retrieving}s\")\n",
    "\n",
    "# The first element of the list is the total number of hits\n",
    "print(\"Total Hits: \", results[0])\n",
    "# The second element of the list is the dataframe of the results\n",
    "results[1].head()\n",
    "\n"
   ]
  },
  {
   "cell_type": "code",
   "execution_count": 11,
   "metadata": {},
   "outputs": [],
   "source": [
    "results[1].to_csv(\"query_results/query_5_results.csv\", index=False)"
   ]
  },
  {
   "cell_type": "code",
   "execution_count": 3,
   "metadata": {},
   "outputs": [],
   "source": [
    "q1 = \"I want to see good MONEY, CULTURE AND WORK LIFE BALANCE\"\n",
    "q2 = \"career progression???\"\n",
    "q3 = \"the worst companies to work at\"\n",
    "q4 = \"tiktok engineer work-life balance\"\n",
    "q5 = \"low salary and terrible management, with toxic culture\"\n",
    "\n",
    "def query(q):\n",
    "    return {'Review Title':q, 'Job Title':q, 'Pros': q, 'Cons':q, 'Company Name':q}"
   ]
  },
  {
   "cell_type": "code",
   "execution_count": 17,
   "metadata": {},
   "outputs": [
    {
     "name": "stdout",
     "output_type": "stream",
     "text": [
      "<Elasticsearch(['http://localhost:9200'])>\n",
      "time taken for retrieval: 0.3542613983154297s\n",
      "Total Hits:  8520\n",
      "      Company Name Overall Rating Review Date           Review Title      Job Details Job Title   Location                                                                       Pros                                                        Cons\n",
      "0  Singapore Press            5.0  2023-05-18  great boss low salary  former employee  engineer  Singapore  good salary good learning exposure filled with alot of talent individuals  no career progression low salary not profit making low aws\n"
     ]
    }
   ],
   "source": [
    "start_retrieving = time.time()\n",
    "results = retriever.retrieve_results(query(q5), pagination=(0,10000), operator=\"should\")\n",
    "end_retrieving = time.time()\n",
    "print(f\"time taken for retrieval: {end_retrieving - start_retrieving}s\")\n",
    "\n",
    "# The first element of the list is the total number of hits\n",
    "print(\"Total Hits: \", results[0])\n",
    "# The second element of the list is the dataframe of the results\n",
    "print(results[1].head(1).to_string())"
   ]
  }
 ],
 "metadata": {
  "kernelspec": {
   "display_name": "inforet",
   "language": "python",
   "name": "python3"
  },
  "language_info": {
   "codemirror_mode": {
    "name": "ipython",
    "version": 3
   },
   "file_extension": ".py",
   "mimetype": "text/x-python",
   "name": "python",
   "nbconvert_exporter": "python",
   "pygments_lexer": "ipython3",
   "version": "3.10.4"
  }
 },
 "nbformat": 4,
 "nbformat_minor": 2
}
