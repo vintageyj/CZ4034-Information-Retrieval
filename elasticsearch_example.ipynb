{
 "cells": [
  {
   "cell_type": "markdown",
   "metadata": {},
   "source": [
    "# Example notebook on querying using ElasticSearch Index"
   ]
  },
  {
   "cell_type": "code",
<<<<<<< Updated upstream
   "execution_count": 2,
=======
   "execution_count": 1,
>>>>>>> Stashed changes
   "metadata": {},
   "outputs": [
    {
     "name": "stderr",
     "output_type": "stream",
     "text": [
      "Since the GPL-licensed package `unidecode` is not installed, using Python's `unicodedata` package which yields worse results.\n",
      "c:\\Users\\vinta\\envs\\inforet\\lib\\site-packages\\tqdm\\auto.py:21: TqdmWarning: IProgress not found. Please update jupyter and ipywidgets. See https://ipywidgets.readthedocs.io/en/stable/user_install.html\n",
      "  from .autonotebook import tqdm as notebook_tqdm\n"
     ]
    },
    {
     "name": "stdout",
     "output_type": "stream",
     "text": [
      "Connection to Elastic cluster successful\n",
<<<<<<< Updated upstream
      "time taken for indexing: 0.052893877029418945s\n"
=======
      "time taken for indexing: 0.2940249443054199s\n"
     ]
    },
    {
     "name": "stderr",
     "output_type": "stream",
     "text": [
      "c:\\GitHub\\CZ4034-Information-Retrieval\\retrievers.py:76: ElasticsearchWarning: this request accesses system indices: [.kibana_ingest_8.12.2_001, .kibana_8.12.2_001, .kibana_security_session_1, .kibana_task_manager_8.12.2_001, .apm-custom-link, .security-profile-8, .kibana_analytics_8.12.2_001, .fleet-enrollment-api-keys-7, .apm-agent-configuration, .kibana_alerting_cases_8.12.2_001, .security-7, .kibana_security_solution_8.12.2_001, .async-search, .fleet-policies-7], but in a future major version, direct access to system indices will be prevented by default\n",
      "  if self.index_name in self.client.indices.get_alias(index=\"*\"):\n"
>>>>>>> Stashed changes
     ]
    }
   ],
   "source": [
    "from retrievers import ElasticRetriever\n",
    "from enums import IndexerType\n",
    "import time\n",
    "\n",
    "ELASTIC_PWD = '_zu3*L+gRcVhaVbDqb6P'\n",
    "\n",
    "data_path = \"data/location.csv\"\n",
    "\n",
    "indexer_type = IndexerType(\"ElasticSearchIndexer\")\n",
    "index_name = \"sg_companies_reviews\"\n",
    "\n",
    "start_indexing = time.time()\n",
    "retriever = ElasticRetriever(indexer_type, data_path, elastic_pwd=ELASTIC_PWD, index_name = index_name, fresh_instance = False) # fresh_instance = True to delete existing index and create a new index\n",
    "end_indexing = time.time()\n",
    "print(f\"time taken for indexing: {end_indexing - start_indexing}s\")"
   ]
  },
  {
   "cell_type": "code",
<<<<<<< Updated upstream
   "execution_count": 5,
   "metadata": {},
   "outputs": [
    {
     "data": {
      "text/plain": [
       "Index(['id', 'Company Name', 'Overall Rating', 'Review Date', 'Review Title',\n",
       "       'Job Title', 'Job Details', 'Location', 'Pros', 'Cons',\n",
       "       'Overall Review with Title', 'Predicted Sentiment', 'sentence', 'IOB',\n",
       "       'tokens', 'aspect', 'position', 'sentiment', 'probs', 'confidence',\n",
       "       'negative_score', 'positive_score', 'neutral_score',\n",
       "       'atepc_final_aggregated_sentiment', 'vader_sentiment', 'latitude',\n",
       "       'longitude', 'Country'],\n",
       "      dtype='object')"
      ]
     },
     "execution_count": 5,
     "metadata": {},
     "output_type": "execute_result"
    }
   ],
   "source": [
    "import pandas as pd\n",
    "pd.read_csv(data_path).columns"
   ]
  },
  {
   "cell_type": "code",
   "execution_count": 8,
   "metadata": {},
   "outputs": [
    {
     "data": {
      "text/plain": [
       "0    ['O', 'B-ASP', 'O', 'O', 'O', 'O', 'O', 'O', '...\n",
       "1    ['O', 'O', 'O', 'O', 'O', 'O', 'O', 'O', 'O', ...\n",
       "2    ['O', 'O', 'O', 'O', 'O', 'O', 'O', 'B-ASP', '...\n",
       "3    ['O', 'O', 'O', 'O', 'O', 'O', 'O', 'O', 'O', ...\n",
       "4    ['O', 'O', 'B-ASP', 'O', 'O', 'O', 'O', 'O', '...\n",
       "Name: IOB, dtype: object"
      ]
     },
     "execution_count": 8,
     "metadata": {},
     "output_type": "execute_result"
    }
   ],
   "source": [
    "pd.read_csv(data_path).head()['IOB']\n"
   ]
  },
  {
   "cell_type": "code",
   "execution_count": 3,
=======
   "execution_count": 7,
>>>>>>> Stashed changes
   "metadata": {},
   "outputs": [
    {
     "name": "stdout",
     "output_type": "stream",
     "text": [
      "<Elasticsearch(['http://localhost:9200'])>\n",
<<<<<<< Updated upstream
      "time taken for retrieval: 0.10284900665283203s\n",
      "Total Hits:  208\n"
=======
      "time taken for retrieval: 0.07158851623535156s\n",
      "Total Hits:  104\n"
>>>>>>> Stashed changes
     ]
    },
    {
     "data": {
      "text/html": [
       "<div>\n",
       "<style scoped>\n",
       "    .dataframe tbody tr th:only-of-type {\n",
       "        vertical-align: middle;\n",
       "    }\n",
       "\n",
       "    .dataframe tbody tr th {\n",
       "        vertical-align: top;\n",
       "    }\n",
       "\n",
       "    .dataframe thead th {\n",
       "        text-align: right;\n",
       "    }\n",
       "</style>\n",
       "<table border=\"1\" class=\"dataframe\">\n",
       "  <thead>\n",
       "    <tr style=\"text-align: right;\">\n",
       "      <th></th>\n",
       "      <th>Pros</th>\n",
       "      <th>Company Name</th>\n",
       "      <th>Cons</th>\n",
       "      <th>Job Details</th>\n",
       "      <th>@timestamp</th>\n",
       "      <th>Review Title</th>\n",
       "      <th>Overall Rating</th>\n",
       "      <th>Review Date</th>\n",
       "      <th>Job Title</th>\n",
       "      <th>Location</th>\n",
       "    </tr>\n",
       "  </thead>\n",
       "  <tbody>\n",
       "    <tr>\n",
       "      <th>0</th>\n",
       "      <td>no pros at all be ready to be verbally abused ...</td>\n",
       "      <td>SAS</td>\n",
       "      <td>management is horrible do not listen when told...</td>\n",
       "      <td>current employee more than 1 year</td>\n",
       "      <td>2023-08-25T00:00:00.000+08:00</td>\n",
       "      <td>poor management</td>\n",
       "      <td>1.0</td>\n",
       "      <td>2023-08-25</td>\n",
       "      <td>associate software engineer</td>\n",
       "      <td>Cary, NC</td>\n",
       "    </tr>\n",
       "    <tr>\n",
       "      <th>1</th>\n",
<<<<<<< Updated upstream
       "      <td>SAS</td>\n",
       "      <td>1.0</td>\n",
       "      <td>2023-08-25</td>\n",
       "      <td>poor management</td>\n",
       "      <td>current employee more than 1 year</td>\n",
       "      <td>associate software engineer</td>\n",
       "      <td>Cary, NC</td>\n",
       "      <td>no pros at all be ready to be verbally abused ...</td>\n",
       "      <td>management is horrible do not listen when told...</td>\n",
       "    </tr>\n",
       "    <tr>\n",
       "      <th>2</th>\n",
=======
       "      <td>wfh good projects flexible gets clients</td>\n",
>>>>>>> Stashed changes
       "      <td>Mphasis</td>\n",
       "      <td>no 401k does not promote candidates who are li...</td>\n",
       "      <td>current employee more than 10 years</td>\n",
       "      <td>2022-10-05T00:00:00.000+08:00</td>\n",
       "      <td>poor management</td>\n",
       "      <td>2.0</td>\n",
       "      <td>2022-10-05</td>\n",
       "      <td>software developer</td>\n",
       "      <td>New York, NY</td>\n",
       "    </tr>\n",
       "    <tr>\n",
<<<<<<< Updated upstream
       "      <th>3</th>\n",
       "      <td>Mphasis</td>\n",
       "      <td>2.0</td>\n",
       "      <td>2022-10-05</td>\n",
       "      <td>poor management</td>\n",
       "      <td>current employee more than 10 years</td>\n",
       "      <td>software developer</td>\n",
       "      <td>New York, NY</td>\n",
       "      <td>wfh good projects flexible gets clients</td>\n",
       "      <td>no 401k does not promote candidates who are li...</td>\n",
       "    </tr>\n",
       "    <tr>\n",
       "      <th>4</th>\n",
=======
       "      <th>2</th>\n",
       "      <td>good place to learn manufacturing and automoti...</td>\n",
>>>>>>> Stashed changes
       "      <td>Hitachi</td>\n",
       "      <td>poor management too busy too much work load an...</td>\n",
       "      <td>former employee more than 5 years</td>\n",
       "      <td>2023-01-17T00:00:00.000+08:00</td>\n",
       "      <td>poor management</td>\n",
       "      <td>3.0</td>\n",
       "      <td>2023-01-17</td>\n",
       "      <td>engineer</td>\n",
       "      <td>NaN</td>\n",
       "    </tr>\n",
<<<<<<< Updated upstream
=======
       "    <tr>\n",
       "      <th>3</th>\n",
       "      <td>good before change in management</td>\n",
       "      <td>Xilinx</td>\n",
       "      <td>was good with management then covid happened a...</td>\n",
       "      <td>former employee more than 3 years</td>\n",
       "      <td>2022-10-18T00:00:00.000+08:00</td>\n",
       "      <td>poor management</td>\n",
       "      <td>2.0</td>\n",
       "      <td>2022-10-18</td>\n",
       "      <td>engineer</td>\n",
       "      <td>NaN</td>\n",
       "    </tr>\n",
       "    <tr>\n",
       "      <th>4</th>\n",
       "      <td>good technology learning opportunity</td>\n",
       "      <td>Wipro</td>\n",
       "      <td>no increment management is bad</td>\n",
       "      <td>current employee</td>\n",
       "      <td>2024-02-16T00:00:00.000+08:00</td>\n",
       "      <td>poor management</td>\n",
       "      <td>3.0</td>\n",
       "      <td>2024-02-16</td>\n",
       "      <td>network engineer</td>\n",
       "      <td>Pune</td>\n",
       "    </tr>\n",
>>>>>>> Stashed changes
       "  </tbody>\n",
       "</table>\n",
       "</div>"
      ],
      "text/plain": [
<<<<<<< Updated upstream
       "  Company Name Overall Rating Review Date     Review Title  \\\n",
       "0          SAS            1.0  2023-08-25  poor management   \n",
       "1          SAS            1.0  2023-08-25  poor management   \n",
       "2      Mphasis            2.0  2022-10-05  poor management   \n",
       "3      Mphasis            2.0  2022-10-05  poor management   \n",
       "4      Hitachi            3.0  2023-01-17  poor management   \n",
       "\n",
       "                           Job Details                    Job Title  \\\n",
       "0    current employee more than 1 year  associate software engineer   \n",
       "1    current employee more than 1 year  associate software engineer   \n",
       "2  current employee more than 10 years           software developer   \n",
       "3  current employee more than 10 years           software developer   \n",
       "4    former employee more than 5 years                     engineer   \n",
       "\n",
       "       Location                                               Pros  \\\n",
       "0      Cary, NC  no pros at all be ready to be verbally abused ...   \n",
       "1      Cary, NC  no pros at all be ready to be verbally abused ...   \n",
       "2  New York, NY            wfh good projects flexible gets clients   \n",
       "3  New York, NY            wfh good projects flexible gets clients   \n",
       "4                good place to learn manufacturing and automoti...   \n",
       "\n",
       "                                                Cons  \n",
       "0  management is horrible do not listen when told...  \n",
       "1  management is horrible do not listen when told...  \n",
       "2  no 401k does not promote candidates who are li...  \n",
       "3  no 401k does not promote candidates who are li...  \n",
       "4  poor management too busy too much work load an...  "
      ]
     },
     "execution_count": 3,
=======
       "                                                Pros Company Name  \\\n",
       "0  no pros at all be ready to be verbally abused ...          SAS   \n",
       "1            wfh good projects flexible gets clients      Mphasis   \n",
       "2  good place to learn manufacturing and automoti...      Hitachi   \n",
       "3                   good before change in management       Xilinx   \n",
       "4               good technology learning opportunity        Wipro   \n",
       "\n",
       "                                                Cons  \\\n",
       "0  management is horrible do not listen when told...   \n",
       "1  no 401k does not promote candidates who are li...   \n",
       "2  poor management too busy too much work load an...   \n",
       "3  was good with management then covid happened a...   \n",
       "4                     no increment management is bad   \n",
       "\n",
       "                           Job Details                     @timestamp  \\\n",
       "0    current employee more than 1 year  2023-08-25T00:00:00.000+08:00   \n",
       "1  current employee more than 10 years  2022-10-05T00:00:00.000+08:00   \n",
       "2    former employee more than 5 years  2023-01-17T00:00:00.000+08:00   \n",
       "3    former employee more than 3 years  2022-10-18T00:00:00.000+08:00   \n",
       "4                     current employee  2024-02-16T00:00:00.000+08:00   \n",
       "\n",
       "      Review Title  Overall Rating Review Date                    Job Title  \\\n",
       "0  poor management             1.0  2023-08-25  associate software engineer   \n",
       "1  poor management             2.0  2022-10-05           software developer   \n",
       "2  poor management             3.0  2023-01-17                     engineer   \n",
       "3  poor management             2.0  2022-10-18                     engineer   \n",
       "4  poor management             3.0  2024-02-16             network engineer   \n",
       "\n",
       "       Location  \n",
       "0      Cary, NC  \n",
       "1  New York, NY  \n",
       "2           NaN  \n",
       "3           NaN  \n",
       "4          Pune  "
      ]
     },
     "execution_count": 7,
>>>>>>> Stashed changes
     "metadata": {},
     "output_type": "execute_result"
    }
   ],
   "source": [
    "q1 = {'Review Title':'poor management', 'Job Title':'software engineer'}\n",
    "q2 = {'Review Title':'good management', 'Job Title':'software engineer', 'Review Date':'2023-01-17|2023-01-17'}\n",
    "q3 = {'Review Title':'good management', 'Job Title':'software engineer', 'Review Date':'2023-01-17|2023-12-18'}\n",
    "\n",
    "\n",
    "\n",
    "\n",
    "start_retrieving = time.time()\n",
    "results = retriever.retrieve_results(q1, pagination=(0,10000), operator=\"must\")\n",
    "end_retrieving = time.time()\n",
    "print(f\"time taken for retrieval: {end_retrieving - start_retrieving}s\")\n",
    "\n",
    "# The first element of the list is the total number of hits\n",
    "print(\"Total Hits: \", results[0])\n",
    "# The second element of the list is the dataframe of the results\n",
    "results[1].head()\n",
    "\n"
   ]
  },
  {
   "cell_type": "code",
   "execution_count": 3,
   "metadata": {},
   "outputs": [],
   "source": [
    "q1 = \"I want to see good MONEY, CULTURE AND WORK LIFE BALANCE\"\n",
    "q2 = \"career progression???\"\n",
    "q3 = \"the worst companies to work at\"\n",
    "q4 = \"tiktok engineer work-life balance\"\n",
    "q5 = \"low salary and terrible management, with toxic culture\"\n",
    "\n",
    "def query(q):\n",
    "    return {'Review Title':q, 'Job Title':q, 'Pros': q, 'Cons':q, 'Company Name':q}"
   ]
  },
  {
   "cell_type": "code",
   "execution_count": 17,
   "metadata": {},
   "outputs": [
    {
     "name": "stdout",
     "output_type": "stream",
     "text": [
      "<Elasticsearch(['http://localhost:9200'])>\n",
      "time taken for retrieval: 0.3542613983154297s\n",
      "Total Hits:  8520\n",
      "      Company Name Overall Rating Review Date           Review Title      Job Details Job Title   Location                                                                       Pros                                                        Cons\n",
      "0  Singapore Press            5.0  2023-05-18  great boss low salary  former employee  engineer  Singapore  good salary good learning exposure filled with alot of talent individuals  no career progression low salary not profit making low aws\n"
     ]
    }
   ],
   "source": [
    "start_retrieving = time.time()\n",
    "results = retriever.retrieve_results(query(q5), pagination=(0,10000), operator=\"should\")\n",
    "end_retrieving = time.time()\n",
    "print(f\"time taken for retrieval: {end_retrieving - start_retrieving}s\")\n",
    "\n",
    "# The first element of the list is the total number of hits\n",
    "print(\"Total Hits: \", results[0])\n",
    "# The second element of the list is the dataframe of the results\n",
    "print(results[1].head(1).to_string())"
   ]
  }
 ],
 "metadata": {
  "kernelspec": {
   "display_name": "IR",
   "language": "python",
   "name": "python3"
  },
  "language_info": {
   "codemirror_mode": {
    "name": "ipython",
    "version": 3
   },
   "file_extension": ".py",
   "mimetype": "text/x-python",
   "name": "python",
   "nbconvert_exporter": "python",
   "pygments_lexer": "ipython3",
   "version": "3.11.8"
  }
 },
 "nbformat": 4,
 "nbformat_minor": 2
}
