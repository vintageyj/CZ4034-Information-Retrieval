{
 "cells": [
  {
   "cell_type": "markdown",
   "metadata": {},
   "source": [
    "## Essential Libraries\n",
    "\n",
    "Let us begin by importing the essential Python Libraries.\n",
    "\n",
    "> NumPy : Library for Numeric Computations in Python  \n",
    "> SciPy : Built on NumPy, contains many high-level commands that aid with manipulating and visualizing data  \n",
    "> Pandas : Library for Data Acquisition and Preparation  \n",
    "> Matplotlib : Low-level library for Data Visualization  \n",
    "> Seaborn : Higher-level library for Data Visualization  \n",
    "> Scikitlearn : Comprehensive machine learning library with tools for classification, regression, clustering, etc  \n",
    "> Statsmodels : Used for estimating and testing statistical models"
   ]
  },
  {
   "cell_type": "code",
   "execution_count": 2,
   "metadata": {},
   "outputs": [],
   "source": [
    "# Basic Libraries\n",
    "import numpy as np\n",
    "import scipy\n",
    "import scipy.stats as stats\n",
    "import pandas as pd\n",
    "import seaborn as sns\n",
    "import sklearn\n",
    "import statsmodels.api as sm\n",
    "import matplotlib.pyplot as plt # we only need pyplot\n",
    "sns.set(style=\"whitegrid\") # set the default Seaborn style for graphics"
   ]
  },
  {
   "cell_type": "code",
   "execution_count": 3,
   "metadata": {},
   "outputs": [],
   "source": [
    "# Import dataset, using first column as index column\n",
    "glassdoor_data = pd.read_csv('sg_companies_reviewsYJ.csv')\n",
    "\n",
    "# Concatenating Pros and Cons\n",
    "glassdoor_data['Overall Review'] = glassdoor_data['Pros'] + '. ' + glassdoor_data['Cons']"
   ]
  },
  {
   "cell_type": "code",
   "execution_count": 5,
   "metadata": {},
   "outputs": [
    {
     "data": {
      "text/html": [
       "<div>\n",
       "<style scoped>\n",
       "    .dataframe tbody tr th:only-of-type {\n",
       "        vertical-align: middle;\n",
       "    }\n",
       "\n",
       "    .dataframe tbody tr th {\n",
       "        vertical-align: top;\n",
       "    }\n",
       "\n",
       "    .dataframe thead th {\n",
       "        text-align: right;\n",
       "    }\n",
       "</style>\n",
       "<table border=\"1\" class=\"dataframe\">\n",
       "  <thead>\n",
       "    <tr style=\"text-align: right;\">\n",
       "      <th></th>\n",
       "      <th>Company Name</th>\n",
       "      <th>Overall Rating</th>\n",
       "      <th>Review Date</th>\n",
       "      <th>Review Title</th>\n",
       "      <th>Job Title</th>\n",
       "      <th>Job Details</th>\n",
       "      <th>Location</th>\n",
       "      <th>Pros</th>\n",
       "      <th>Cons</th>\n",
       "      <th>Overall Review</th>\n",
       "    </tr>\n",
       "  </thead>\n",
       "  <tbody>\n",
       "    <tr>\n",
       "      <th>0</th>\n",
       "      <td>Amazon</td>\n",
       "      <td>5</td>\n",
       "      <td>12-Feb-24</td>\n",
       "      <td>Good pay, hard work</td>\n",
       "      <td>Area Manager II</td>\n",
       "      <td>Former Employee, more than 3 years</td>\n",
       "      <td>Romulus, MI</td>\n",
       "      <td>Pay, autonomy, plenty of benefits</td>\n",
       "      <td>It was hard work in a warehouse. Many days of ...</td>\n",
       "      <td>Pay, autonomy, plenty of benefits. It was hard...</td>\n",
       "    </tr>\n",
       "    <tr>\n",
       "      <th>1</th>\n",
       "      <td>Amazon</td>\n",
       "      <td>5</td>\n",
       "      <td>10-Jan-16</td>\n",
       "      <td>You Get What You Put In</td>\n",
       "      <td>Anonymous Employee</td>\n",
       "      <td>Current Employee</td>\n",
       "      <td>Seattle, WA</td>\n",
       "      <td>Really smart people, a lot of opportunity for ...</td>\n",
       "      <td>You have to be self motivated. NO ONE will hol...</td>\n",
       "      <td>Really smart people, a lot of opportunity for ...</td>\n",
       "    </tr>\n",
       "    <tr>\n",
       "      <th>2</th>\n",
       "      <td>Amazon</td>\n",
       "      <td>3</td>\n",
       "      <td>20-Feb-16</td>\n",
       "      <td>Exciting Work, Abusive Culture</td>\n",
       "      <td>Senior Engineering Manager</td>\n",
       "      <td>Current Employee, more than 8 years</td>\n",
       "      <td>Seattle, WA</td>\n",
       "      <td>Jeff Bezos and his \"S-Team\" are brilliant and ...</td>\n",
       "      <td>The management process is abusive, and I'm cur...</td>\n",
       "      <td>Jeff Bezos and his \"S-Team\" are brilliant and ...</td>\n",
       "    </tr>\n",
       "    <tr>\n",
       "      <th>3</th>\n",
       "      <td>Amazon</td>\n",
       "      <td>4</td>\n",
       "      <td>17-Dec-13</td>\n",
       "      <td>Can be amazing for some people, horrible for o...</td>\n",
       "      <td>Software Development Manager</td>\n",
       "      <td>Current Employee, more than 3 years</td>\n",
       "      <td>Seattle, WA</td>\n",
       "      <td>Amazon is doing lot's of cool stuff...but lots...</td>\n",
       "      <td>- You're responsible for your own career progr...</td>\n",
       "      <td>Amazon is doing lot's of cool stuff...but lots...</td>\n",
       "    </tr>\n",
       "    <tr>\n",
       "      <th>4</th>\n",
       "      <td>Amazon</td>\n",
       "      <td>5</td>\n",
       "      <td>23-Feb-18</td>\n",
       "      <td>An Amazing Place to Work</td>\n",
       "      <td>Software Development Manager</td>\n",
       "      <td>Current Employee, less than 1 year</td>\n",
       "      <td>Phoenix, AZ</td>\n",
       "      <td>I've been at Amazon for a month now, and I've ...</td>\n",
       "      <td>No cons, so far - seriously. Like I said, I'm ...</td>\n",
       "      <td>I've been at Amazon for a month now, and I've ...</td>\n",
       "    </tr>\n",
       "  </tbody>\n",
       "</table>\n",
       "</div>"
      ],
      "text/plain": [
       "  Company Name  Overall Rating Review Date  \\\n",
       "0       Amazon               5   12-Feb-24   \n",
       "1       Amazon               5   10-Jan-16   \n",
       "2       Amazon               3   20-Feb-16   \n",
       "3       Amazon               4   17-Dec-13   \n",
       "4       Amazon               5   23-Feb-18   \n",
       "\n",
       "                                        Review Title  \\\n",
       "0                                Good pay, hard work   \n",
       "1                            You Get What You Put In   \n",
       "2                     Exciting Work, Abusive Culture   \n",
       "3  Can be amazing for some people, horrible for o...   \n",
       "4                           An Amazing Place to Work   \n",
       "\n",
       "                      Job Title                          Job Details  \\\n",
       "0               Area Manager II   Former Employee, more than 3 years   \n",
       "1            Anonymous Employee                     Current Employee   \n",
       "2    Senior Engineering Manager  Current Employee, more than 8 years   \n",
       "3  Software Development Manager  Current Employee, more than 3 years   \n",
       "4  Software Development Manager   Current Employee, less than 1 year   \n",
       "\n",
       "      Location                                               Pros  \\\n",
       "0  Romulus, MI                  Pay, autonomy, plenty of benefits   \n",
       "1  Seattle, WA  Really smart people, a lot of opportunity for ...   \n",
       "2  Seattle, WA  Jeff Bezos and his \"S-Team\" are brilliant and ...   \n",
       "3  Seattle, WA  Amazon is doing lot's of cool stuff...but lots...   \n",
       "4  Phoenix, AZ  I've been at Amazon for a month now, and I've ...   \n",
       "\n",
       "                                                Cons  \\\n",
       "0  It was hard work in a warehouse. Many days of ...   \n",
       "1  You have to be self motivated. NO ONE will hol...   \n",
       "2  The management process is abusive, and I'm cur...   \n",
       "3  - You're responsible for your own career progr...   \n",
       "4  No cons, so far - seriously. Like I said, I'm ...   \n",
       "\n",
       "                                      Overall Review  \n",
       "0  Pay, autonomy, plenty of benefits. It was hard...  \n",
       "1  Really smart people, a lot of opportunity for ...  \n",
       "2  Jeff Bezos and his \"S-Team\" are brilliant and ...  \n",
       "3  Amazon is doing lot's of cool stuff...but lots...  \n",
       "4  I've been at Amazon for a month now, and I've ...  "
      ]
     },
     "execution_count": 5,
     "metadata": {},
     "output_type": "execute_result"
    }
   ],
   "source": [
    "glassdoor_data.head()"
   ]
  },
  {
   "cell_type": "markdown",
   "metadata": {},
   "source": [
    "### Analysing ratings given by the employees in relation to their reviews"
   ]
  },
  {
   "cell_type": "markdown",
   "metadata": {},
   "source": [
    "Can take a look at how low the rating has to be for the review to be mostly negative and similarly how high the rating had to be for the review to be mostly positive"
   ]
  },
  {
   "cell_type": "code",
   "execution_count": 6,
   "metadata": {},
   "outputs": [
    {
     "data": {
      "text/plain": [
       "count    10035.000000\n",
       "mean         3.738615\n",
       "std          1.237792\n",
       "min          1.000000\n",
       "25%          3.000000\n",
       "50%          4.000000\n",
       "75%          5.000000\n",
       "max          5.000000\n",
       "Name: Overall Rating, dtype: float64"
      ]
     },
     "execution_count": 6,
     "metadata": {},
     "output_type": "execute_result"
    }
   ],
   "source": [
    "glassdoor_data['Overall Rating'].describe()"
   ]
  },
  {
   "cell_type": "code",
   "execution_count": 16,
   "metadata": {},
   "outputs": [
    {
     "data": {
      "image/png": "[encoded data removed]",
      "text/plain": [
       "<Figure size 576x432 with 1 Axes>"
      ]
     },
     "metadata": {},
     "output_type": "display_data"
    }
   ],
   "source": [
    "# Create the countplot\n",
    "plt.figure(figsize=(8, 6)) # Adjust size if necessary\n",
    "ax = sns.countplot(x='Overall Rating', data=glassdoor_data, palette=\"Set3\")\n",
    "\n",
    "# Add count values on top of the bars\n",
    "for p in ax.patches:\n",
    "    ax.annotate(f'{p.get_height()}', (p.get_x() + p.get_width() / 2., p.get_height()),\n",
    "                ha='center', va='center', fontsize=11, color='black', xytext=(0, 5),\n",
    "                textcoords='offset points')\n",
    "\n",
    "# Add title and labels\n",
    "plt.title('Distribution of Overall Ratings')\n",
    "plt.xlabel('Overall Rating')\n",
    "plt.ylabel('Count')\n",
    "\n",
    "# Show the plot\n",
    "plt.show()\n"
   ]
  },
  {
   "cell_type": "code",
   "execution_count": null,
   "metadata": {},
   "outputs": [],
   "source": []
  },
  {
   "cell_type": "code",
   "execution_count": null,
   "metadata": {},
   "outputs": [],
   "source": []
  },
  {
   "cell_type": "code",
   "execution_count": null,
   "metadata": {},
   "outputs": [],
   "source": []
  },
  {
   "cell_type": "code",
   "execution_count": null,
   "metadata": {},
   "outputs": [],
   "source": []
  },
  {
   "cell_type": "code",
   "execution_count": null,
   "metadata": {},
   "outputs": [],
   "source": []
  },
  {
   "cell_type": "code",
   "execution_count": null,
   "metadata": {},
   "outputs": [],
   "source": []
  },
  {
   "cell_type": "markdown",
   "metadata": {},
   "source": [
    "## Removing reviews that have <5 words\n",
    "\n",
    "For Overall? or Pros and Cons?\n",
    "\n",
    "Requires data to be cleaned first. e.g. data that is in different lines might have more words than 5 but the count messes up thanks to \\r and \\n characters"
   ]
  },
  {
   "cell_type": "code",
   "execution_count": 65,
   "metadata": {},
   "outputs": [],
   "source": [
    "# Import dataset, using first column as index column\n",
    "glassdoor_data = pd.read_csv('sg_companies_reviewsYJ.csv')\n",
    "\n",
    "# Concatenating Pros and Cons\n",
    "glassdoor_data['Overall Review'] = glassdoor_data['Pros'] + '. ' + glassdoor_data['Cons']"
   ]
  },
  {
   "cell_type": "code",
   "execution_count": 66,
   "metadata": {},
   "outputs": [],
   "source": [
    "glassdoor_data['num_words_Pros'] = glassdoor_data.apply(lambda x: len(x['Pros'].split(\" \")), axis=1)\n",
    "glassdoor_data['num_words_Cons'] = glassdoor_data.apply(lambda x: len(x['Cons'].split(\" \")), axis=1)\n",
    "glassdoor_data['num_words_Overall'] = glassdoor_data.apply(lambda x: len(x['Overall Review'].split(\" \")), axis=1)"
   ]
  },
  {
   "cell_type": "code",
   "execution_count": 67,
   "metadata": {},
   "outputs": [
    {
     "name": "stdout",
     "output_type": "stream",
     "text": [
      "Number of Pros with less than 5 words:  567\n",
      "Number of Cons with less than 5 words:  365\n",
      "Number of Overall Reviews with less than 5 words:  237\n"
     ]
    }
   ],
   "source": [
    "print(\"Number of Pros with less than 5 words: \", len(glassdoor_data[glassdoor_data['num_words_Pros']<5]))\n",
    "print(\"Number of Cons with less than 5 words: \", len(glassdoor_data[glassdoor_data['num_words_Cons']<5]))\n",
    "print(\"Number of Overall Reviews with less than 5 words: \", len(glassdoor_data[glassdoor_data['num_words_Overall']<5]))"
   ]
  },
  {
   "cell_type": "code",
   "execution_count": 68,
   "metadata": {},
   "outputs": [],
   "source": [
    "# Edit accordingly to whichever criteria we wanna use to drop the rows\n",
    "glassdoor_data.drop(glassdoor_data.loc[glassdoor_data['num_words_Overall']<5].index, inplace=True)"
   ]
  },
  {
   "cell_type": "code",
   "execution_count": null,
   "metadata": {},
   "outputs": [],
   "source": []
  },
  {
   "cell_type": "code",
   "execution_count": null,
   "metadata": {},
   "outputs": [],
   "source": []
  },
  {
   "cell_type": "code",
   "execution_count": null,
   "metadata": {},
   "outputs": [],
   "source": []
  },
  {
   "cell_type": "code",
   "execution_count": null,
   "metadata": {},
   "outputs": [],
   "source": []
  },
  {
   "cell_type": "code",
   "execution_count": null,
   "metadata": {},
   "outputs": [],
   "source": []
  },
  {
   "cell_type": "code",
   "execution_count": null,
   "metadata": {},
   "outputs": [],
   "source": []
  },
  {
   "cell_type": "code",
   "execution_count": null,
   "metadata": {},
   "outputs": [],
   "source": []
  },
  {
   "cell_type": "code",
   "execution_count": null,
   "metadata": {},
   "outputs": [],
   "source": []
  },
  {
   "cell_type": "code",
   "execution_count": null,
   "metadata": {},
   "outputs": [],
   "source": []
  },
  {
   "cell_type": "code",
   "execution_count": null,
   "metadata": {},
   "outputs": [],
   "source": []
  },
  {
   "cell_type": "code",
   "execution_count": null,
   "metadata": {},
   "outputs": [],
   "source": []
  },
  {
   "cell_type": "code",
   "execution_count": null,
   "metadata": {},
   "outputs": [],
   "source": []
  },
  {
   "cell_type": "code",
   "execution_count": null,
   "metadata": {},
   "outputs": [],
   "source": []
  },
  {
   "cell_type": "code",
   "execution_count": null,
   "metadata": {},
   "outputs": [],
   "source": []
  },
  {
   "cell_type": "code",
   "execution_count": null,
   "metadata": {},
   "outputs": [],
   "source": []
  },
  {
   "cell_type": "code",
   "execution_count": null,
   "metadata": {},
   "outputs": [],
   "source": []
  },
  {
   "cell_type": "code",
   "execution_count": null,
   "metadata": {},
   "outputs": [],
   "source": []
  },
  {
   "cell_type": "code",
   "execution_count": null,
   "metadata": {},
   "outputs": [],
   "source": []
  }
 ],
 "metadata": {
  "kernelspec": {
   "display_name": "Python 3",
   "language": "python",
   "name": "python3"
  },
  "language_info": {
   "codemirror_mode": {
    "name": "ipython",
    "version": 3
   },
   "file_extension": ".py",
   "mimetype": "text/x-python",
   "name": "python",
   "nbconvert_exporter": "python",
   "pygments_lexer": "ipython3",
   "version": "3.8.5"
  }
 },
 "nbformat": 4,
 "nbformat_minor": 4
}
