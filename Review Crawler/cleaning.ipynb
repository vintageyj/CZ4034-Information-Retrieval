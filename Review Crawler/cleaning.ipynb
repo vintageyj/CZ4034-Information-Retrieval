{
 "cells": [
  {
   "cell_type": "code",
   "execution_count": null,
   "metadata": {},
   "outputs": [],
   "source": [
    "import pandas as pd\n",
    "import numpy as np\n",
    "import matplotlib.pyplot as plt\n",
    "from datetime import datetime"
   ]
  },
  {
   "cell_type": "code",
   "execution_count": null,
   "metadata": {},
   "outputs": [],
   "source": [
    "df = pd.read_csv(\"data/new_sg_companies_reviews.csv\")"
   ]
  },
  {
   "cell_type": "code",
   "execution_count": null,
   "metadata": {},
   "outputs": [],
   "source": [
    "def format_date(x, input_format = \"%d-%b-%y\", ignore_errors = False):\n",
    "    try:\n",
    "        return datetime.strptime(x, input_format)\n",
    "    except Exception as e:\n",
    "        if ignore_errors:\n",
    "            return x\n",
    "        else:\n",
    "            raise e\n",
    "    \n",
    "def format_non_conventional_dates(x):\n",
    "    if isinstance(x, datetime):\n",
    "        return x\n",
    "    if not isinstance(x, float):\n",
    "        try:\n",
    "            x = float(x)\n",
    "        except:\n",
    "            print(f\"{x} unknown date type\")\n",
    "            return x\n",
    "    return pd.Timedelta(x, unit='d') + datetime(1899, 12, 30)\n",
    "\n",
    "def clean_df_dates(df, date_col, **args):\n",
    "    df[date_col] = df[date_col].apply(lambda x: format_date(x, input_format = \"%d-%b-%y\", **args))\n",
    "    df[date_col] = df[date_col].apply(lambda x: format_date(x, input_format = \"%b %d, %Y\", **args))\n",
    "    df[date_col] = df[date_col].apply(lambda x: format_non_conventional_dates(x))\n",
    "    return df\n",
    "\n",
    "df = clean_df_dates(df, \"Review Date\", ignore_errors = True)"
   ]
  },
  {
   "cell_type": "code",
   "execution_count": null,
   "metadata": {},
   "outputs": [],
   "source": [
    "df = df.reset_index(names=\"id\")\n",
    "df['id'] = df.apply(lambda x: f\"{x['Review Date']}{x['Review Title']}{x['id']}\", axis = 1)\n",
    "df.to_csv(\"data/new_sg_companies_reviews_UID.csv\", index = False)"
   ]
  },
  {
   "cell_type": "code",
   "execution_count": null,
   "metadata": {},
   "outputs": [],
   "source": [
    "from cleantext import clean\n",
    "import emoji\n",
    "import re\n",
    "\n",
    "def clean_yj_style(df):\n",
    "    df.replace('#NAME?', pd.NA, inplace=True) # replace '#NAME?' with NaN\n",
    "    # Replace '' with NaN\n",
    "    df.replace('', pd.NA, inplace=True) # replace '' with NaN\n",
    "    # df.replace('•', '', inplace=True) # replace '•' with ''\n",
    "    # df.replace('’', \"'\", inplace=True) # replace '’' with \"'\"\n",
    "    df.replace('\\u2022', '', regex=True, inplace=True) # replace '•' with ''\n",
    "    df.replace('\\u2019', \"'\", regex=True, inplace=True) # replace '’' with \"'\"\n",
    "    df.replace('\\r\\n\\-', ' ', regex=True, inplace=True) # replace '\\r\\n-' with ' '\n",
    "    df.replace('\\r\\n\\*', ' ', regex=True, inplace=True) # replace '\\r\\n*' with ' '\n",
    "    df.replace('\\r\\n•', ' ', regex=True, inplace=True) # replace '\\r\\n•' with ' '\n",
    "    df.replace('\\n\\r\\-', ' ', regex=True, inplace=True) # replace '\\n\\r-' with ' '\n",
    "    df.replace('\\n\\r\\*', ' ', regex=True, inplace=True) # replace '\\n\\r*' with ' '\n",
    "    df.replace('\\n\\r•', ' ', regex=True, inplace=True) # replace '\\n\\r•' with ' '\n",
    "    df.replace('\\n\\-', ' ', regex=True, inplace=True) # replace '\\n-' with ' '\n",
    "    df.replace('\\n\\*', '', regex=True, inplace=True) # replace '\\n*' with ' '\n",
    "    df.replace('\\n•', ' ', inplace=True) # replace '\\n•' with ' '\n",
    "    df.replace('\\r-', ' ', inplace=True) # replace '\\r-' with ' '\n",
    "    df.replace('\\r*', ' ', inplace=True) # replace '\\r*' with ' '\n",
    "    df.replace('\\r•', ' ', inplace=True) # replace '\\r•' with ' '\n",
    "    df.replace('\\n',' ', regex=True, inplace=True) # replace '\\n' with ' '\n",
    "    df.replace('\\r',' ', regex=True, inplace=True) # replace '\\r' with ' '\n",
    "    df.replace('\\t',' ', regex=True, inplace=True) # replace '\\t' with ' '\n",
    "    df['Pros'] = df['Pros'].map(lambda x: x.lstrip('- ') if isinstance(x, str) else x)\n",
    "    df['Cons'] = df['Cons'].map(lambda x: x.lstrip('- ') if isinstance(x, str) else x)\n",
    "    df['Pros'] = df['Pros'].map(lambda x: x.lstrip('* ') if isinstance(x, str) else x)\n",
    "    df['Cons'] = df['Cons'].map(lambda x: x.lstrip('* ') if isinstance(x, str) else x)\n",
    "    return df\n",
    "\n",
    "def convert_emoji_to_text(emoji_text):\n",
    "    try:\n",
    "        text_with_aliases = emoji.demojize(emoji_text, delimiters=(\"\", \"_emoji \"))\n",
    "    except:\n",
    "        return emoji_text\n",
    "    return text_with_aliases\n",
    "\n",
    "def is_ascii(s):\n",
    "    try:\n",
    "        s.encode(encoding='utf-8').decode('ascii')\n",
    "        return True\n",
    "    except UnicodeDecodeError:\n",
    "        return False\n",
    "\n",
    "def get_non_ascii_strings(df, col):\n",
    "    # Use apply function to check each value in the specified column\n",
    "    non_ascii_mask = df[col].apply(lambda x: not is_ascii(str(x)))\n",
    "\n",
    "    # Return a DataFrame containing non-ASCII strings\n",
    "    return df[non_ascii_mask]\n",
    "\n",
    "def clean_text(df, col):\n",
    "    df = df.copy()\n",
    "    df[col] = df[col].apply(lambda x: clean(x, no_emoji=False, no_punct=True) if isinstance(x, str) else x)\n",
    "    df[col] = df[col].apply(lambda x: convert_emoji_to_text(x))\n",
    "    df[col] = df[col].apply(lambda x: x.strip() if isinstance(x, str) else x)\n",
    "    df[col] = df[col].apply(lambda x: re.sub(r' {2,}', ' ', x) if isinstance(x, str) else x)\n",
    "    return df\n"
   ]
  },
  {
   "cell_type": "code",
   "execution_count": null,
   "metadata": {},
   "outputs": [],
   "source": [
    "index_column = ['id']\n",
    "df_index = df[index_column]\n",
    "df = df.drop(columns=index_column)\n",
    "\n",
    "text_columns = ['Review Title', 'Job Title', 'Job Details', 'Pros', 'Cons']\n",
    "df_clean = clean_yj_style(df)\n",
    "for column_to_check in text_columns:\n",
    "    df_clean = clean_text(df_clean, column_to_check)\n",
    "    result = get_non_ascii_strings(df_clean, column_to_check)\n",
    "    print(f\"Non-ASCII strings in '{column_to_check}':\")\n",
    "    print(len(result))\n",
    "    if len(result) > 0:\n",
    "        display(result)\n",
    "\n",
    "df_clean = pd.concat([df_index, df_clean], axis = 1)"
   ]
  },
  {
   "cell_type": "code",
   "execution_count": null,
   "metadata": {},
   "outputs": [],
   "source": [
    "df_clean = df_clean.drop_duplicates(subset = [i for i in df_clean.columns if i != 'id']).reset_index(drop = True)\n",
    "df_clean.to_csv(\"data/new_sg_companies_reviews_clean_UID.csv\", index = False)"
   ]
  },
  {
   "cell_type": "markdown",
   "metadata": {},
   "source": [
    "### Example"
   ]
  },
  {
   "cell_type": "code",
   "execution_count": null,
   "metadata": {},
   "outputs": [
    {
     "name": "stdout",
     "output_type": "stream",
     "text": [
      "\n",
      "############### Before -> after comparison ###############\n",
      "\n",
      "==========================\n",
      "Review Title\n",
      "==========================\n",
      "this company is so bad. STAY AWAY 🤬 -> this company is so bad stay away face_with_symbols_on_mouth_emoji\n",
      "\n",
      "\n",
      "==========================\n",
      "Pros\n",
      "==========================\n",
      "the pros are: \n",
      "- there are none -> the pros are there are none\n",
      "\n",
      "\n",
      "==========================\n",
      "Cons\n",
      "==========================\n",
      "cons: \n",
      "• it pays poorly \n",
      "• the benefits are 💩 \n",
      "• MANAGEMENT SUCKS!!! -> cons it pays poorly the benefits are pile_of_poo_emoji management sucks\n",
      "\n",
      "\n"
     ]
    }
   ],
   "source": [
    "test_df = pd.DataFrame({\n",
    "    \"Review Title\": [\"this company is so bad. STAY AWAY 🤬\"],\n",
    "    \"Job Title\": [\"Example job title\"],\n",
    "    \"Job Details\": [\"Example job details\"],\n",
    "    \"Pros\": [\"the pros are: \\n- there are none\"],\n",
    "    \"Cons\": [\"cons: \\n• it pays poorly \\n• the benefits are 💩 \\n• MANAGEMENT SUCKS!!!\"]\n",
    "})\n",
    "\n",
    "text_columns = ['Review Title', 'Pros', 'Cons']\n",
    "test_df_clean = clean_yj_style(test_df.copy())\n",
    "for column_to_check in text_columns:\n",
    "    test_df_clean = clean_text(test_df_clean, column_to_check)\n",
    "\n",
    "print(\"\\n############### Before -> after comparison ###############\\n\")\n",
    "for column_to_check in text_columns:\n",
    "    print(\"==========================\")\n",
    "    print(column_to_check)\n",
    "    print(\"==========================\")\n",
    "    print(test_df.iloc[0][column_to_check], \"->\", test_df_clean.iloc[0][column_to_check])\n",
    "    print(\"\\n\")"
   ]
  }
 ],
 "metadata": {
  "language_info": {
   "name": "python"
  }
 },
 "nbformat": 4,
 "nbformat_minor": 2
}
