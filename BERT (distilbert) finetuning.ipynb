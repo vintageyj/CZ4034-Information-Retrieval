{
 "cells": [
  {
   "cell_type": "markdown",
   "metadata": {
    "id": "BPc6Y4B4POYh"
   },
   "source": [
    "### Import required libraries"
   ]
  },
  {
   "cell_type": "code",
   "execution_count": 1,
   "metadata": {
    "colab": {
     "base_uri": "https://localhost:8080/"
    },
    "executionInfo": {
     "elapsed": 20456,
     "status": "ok",
     "timestamp": 1710616412303,
     "user": {
      "displayName": "Yeow Ming Xuan",
      "userId": "17214118926645109621"
     },
     "user_tz": -480
    },
    "id": "17SQ3elxPQLv",
    "outputId": "43033991-d62d-4115-ce71-2acf580876d8"
   },
   "outputs": [
    {
     "name": "stdout",
     "output_type": "stream",
     "text": [
      "Mounted at /content/drive\n"
     ]
    }
   ],
   "source": [
    "from google.colab import drive\n",
    "drive.mount('/content/drive')"
   ]
  },
  {
   "cell_type": "code",
   "execution_count": 2,
   "metadata": {
    "executionInfo": {
     "elapsed": 6229,
     "status": "ok",
     "timestamp": 1710616422934,
     "user": {
      "displayName": "Yeow Ming Xuan",
      "userId": "17214118926645109621"
     },
     "user_tz": -480
    },
    "id": "pSvPb6sCPOYj"
   },
   "outputs": [],
   "source": [
    "import numpy as np # linear algebra\n",
    "import pandas as pd # data processing, CSV file I/O (e.g. pd.read_csv)\n",
    "import torch\n",
    "from transformers import DistilBertTokenizer, DistilBertForSequenceClassification, DistilBertTokenizerFast\n",
    "from torch.utils.data import Dataset, DataLoader\n",
    "from torch.optim import AdamW\n",
    "from sklearn.metrics import accuracy_score, f1_score, confusion_matrix\n",
    "from sklearn.model_selection import train_test_split\n",
    "import time"
   ]
  },
  {
   "cell_type": "code",
   "execution_count": null,
   "metadata": {
    "id": "5xXVBNVLPOYk"
   },
   "outputs": [],
   "source": []
  },
  {
   "cell_type": "markdown",
   "metadata": {
    "id": "XuTF50_0POYk"
   },
   "source": [
    "### Example Sentences"
   ]
  },
  {
   "cell_type": "code",
   "execution_count": 12,
   "metadata": {
    "executionInfo": {
     "elapsed": 3,
     "status": "ok",
     "timestamp": 1710618604059,
     "user": {
      "displayName": "Yeow Ming Xuan",
      "userId": "17214118926645109621"
     },
     "user_tz": -480
    },
    "id": "KkhZ8-LEPOYk"
   },
   "outputs": [],
   "source": [
    "tricky_sentences = [\n",
    "...    \"Most automated sentiment analysis tools are shit.\",\n",
    "...    \"VADER sentiment analysis is amazingly bad.\",\n",
    "...    \"Sentiment analysis has never been good.\",\n",
    "...    \"Sentiment analysis with VADER has never been this good.\",\n",
    "...    \"Warren Beatty has never been so entertaining.\",\n",
    "...    \"I won't say that the movie is astounding and I wouldn't claim that \\\n",
    "...    the movie is too banal either.\",\n",
    "...    \"I like to hate Michael Bay films, but I couldn't fault this one\",\n",
    "...    \"I like to hate Michael Bay films, BUT I couldn't help but fault this one\",\n",
    "...    \"It's one thing to watch an Uwe Boll film, but another thing entirely \\\n",
    "...    to pay for it\",\n",
    "...    \"The movie was too good\",\n",
    "...    \"This movie was actually neither that funny, nor super witty.\",\n",
    "...    \"This movie doesn't care about cleverness, wit or any other kind of \\\n",
    "...    intelligent humor.\",\n",
    "...    \"Those who find ugly meanings in beautiful things are corrupt without \\\n",
    "...    being charming.\",\n",
    "...    \"There are slow and repetitive parts, BUT it has just enough spice to \\\n",
    "...    keep it interesting.\",\n",
    "...    \"The script is not fantastic, but the acting is decent and the cinematography \\\n",
    "...    is EXCELLENT!\",\n",
    "...    \"Roger Dodger is one of the most compelling variations on this theme.\",\n",
    "...    \"Roger Dodger is one of the least compelling variations on this theme.\",\n",
    "...    \"Roger Dodger is at least compelling as a variation on the theme.\",\n",
    "...    \"they fall in love with the product\",\n",
    "...    \"but then it breaks\",\n",
    "...    \"usually around the time the 90 day warranty expires\",\n",
    "...    \"the twin towers collapsed today\",\n",
    "...    \"However, Mr. Carter solemnly argues, his client carried out the kidnapping \\\n",
    "...    under orders and in the ''least offensive way possible.''\"\n",
    "... ]"
   ]
  },
  {
   "cell_type": "markdown",
   "metadata": {
    "id": "e9k-B4SNPOYl"
   },
   "source": [
    "# My Implementation of DistilBert"
   ]
  },
  {
   "cell_type": "code",
   "execution_count": 3,
   "metadata": {
    "colab": {
     "base_uri": "https://localhost:8080/",
     "height": 269,
     "referenced_widgets": [
      "3f3b63b541484f9ab6ee664000459f19",
      "4e0369f294c94cafa5a363d8d34e9cd6",
      "24c6cec378cd47a980e1f1b3e43115e4",
      "6b18716d48f34761adc78cda4a19141b",
      "71d1e0e52c3641b1876a9e9ca9d53a5b",
      "3b0bfb25903b4dc3abe853af506e895a",
      "68ecc9f72ad74172887badd0eecba968",
      "1ce70a0fed0642709aca53115d010b44",
      "16ce479f69d641ccae3bc42131d26ef5",
      "3d02fd8c8c2e491eb883b6e3c4fd8f34",
      "313a7b3a2a9947e58c01efbb1cf27225",
      "ea757c233ed24698a6fff70e2f9563f0",
      "14000e42d6f34f768242fd7c0d1c036e",
      "cdc8bc6f7bd6419b88a9a0cd67683b74",
      "79c1c35bf0a0402eadad03b149fa69c7",
      "09b13482362640dfafbb1521cf46edf5",
      "61a7b484cc994c83862a2e3e07be58fc",
      "3b5a63468d24474fbe92c714e6de9a99",
      "9358a2b56b0741d097bb9e433b4da227",
      "969af3ce31b5499187bf9596c0fb724c",
      "b4d948b2700641acbe69dc12ec7b25cd",
      "855367e908a74b80b7136e98c0ee6411",
      "690b9364bc9d479fadd038831e6bbcd7",
      "6ec987b3e01d4b2791b6c9d25508211b",
      "dd7b724e426b41c9a72c69821055e80f",
      "9cfcf31732974fc48bfd43c717b02478",
      "5bae9130a3df4522a4baac71a4c57460",
      "af4a38ca40b043db86572069af07fe66",
      "1919785bfba944eab1f9e360d4af5457",
      "1eb1428e191d48928cc0540ae7a1458f",
      "c639812e4f6640cb98278a5a762e7947",
      "7156cc1e885644a6b9b072e3c48876e6",
      "3f9adfa22e1f4c82bd8afb4e65e1d20c",
      "1907796c8a33455b99990c65b498f61f",
      "7bef59aab2a5487e8ce1ad76a0535559",
      "0d3e265cde294b1dab4c30470b49c36a",
      "1c7b1c2554c543c99e8dbffcd47a01cb",
      "bb470ac5a2d140b18060060dc1538b65",
      "04f1a07c218c43af9ca5c4d47f4696df",
      "d67d4cc1cb714bd3b2e452b390f674ef",
      "e28f1b9561164fb48de6896bd6f4e450",
      "4759f7b03de4423ab4135b59f7cf9a26",
      "81be96e8201f4e779b783c8ccda9091a",
      "7a09c0317883423ca21635efad766d6a"
     ]
    },
    "collapsed": true,
    "executionInfo": {
     "elapsed": 4842,
     "status": "ok",
     "timestamp": 1710616437171,
     "user": {
      "displayName": "Yeow Ming Xuan",
      "userId": "17214118926645109621"
     },
     "user_tz": -480
    },
    "id": "wxq1Pj0MPOYl",
    "outputId": "6dfc72f9-643b-40d9-d3b8-5154c66ea867"
   },
   "outputs": [
    {
     "name": "stderr",
     "output_type": "stream",
     "text": [
      "/usr/local/lib/python3.10/dist-packages/huggingface_hub/utils/_token.py:88: UserWarning: \n",
      "The secret `HF_TOKEN` does not exist in your Colab secrets.\n",
      "To authenticate with the Hugging Face Hub, create a token in your settings tab (https://huggingface.co/settings/tokens), set it as secret in your Google Colab and restart your session.\n",
      "You will be able to reuse this secret in all of your notebooks.\n",
      "Please note that authentication is recommended but still optional to access public models or datasets.\n",
      "  warnings.warn(\n"
     ]
    },
    {
     "data": {
      "application/vnd.jupyter.widget-view+json": {
       "model_id": "3f3b63b541484f9ab6ee664000459f19",
       "version_major": 2,
       "version_minor": 0
      },
      "text/plain": [
       "tokenizer_config.json:   0%|          | 0.00/48.0 [00:00<?, ?B/s]"
      ]
     },
     "metadata": {},
     "output_type": "display_data"
    },
    {
     "data": {
      "application/vnd.jupyter.widget-view+json": {
       "model_id": "ea757c233ed24698a6fff70e2f9563f0",
       "version_major": 2,
       "version_minor": 0
      },
      "text/plain": [
       "vocab.txt:   0%|          | 0.00/232k [00:00<?, ?B/s]"
      ]
     },
     "metadata": {},
     "output_type": "display_data"
    },
    {
     "data": {
      "application/vnd.jupyter.widget-view+json": {
       "model_id": "690b9364bc9d479fadd038831e6bbcd7",
       "version_major": 2,
       "version_minor": 0
      },
      "text/plain": [
       "config.json:   0%|          | 0.00/629 [00:00<?, ?B/s]"
      ]
     },
     "metadata": {},
     "output_type": "display_data"
    },
    {
     "data": {
      "application/vnd.jupyter.widget-view+json": {
       "model_id": "1907796c8a33455b99990c65b498f61f",
       "version_major": 2,
       "version_minor": 0
      },
      "text/plain": [
       "model.safetensors:   0%|          | 0.00/268M [00:00<?, ?B/s]"
      ]
     },
     "metadata": {},
     "output_type": "display_data"
    }
   ],
   "source": [
    "tokenizer_1 = DistilBertTokenizer.from_pretrained(\"distilbert-base-uncased-finetuned-sst-2-english\")\n",
    "model_1 = DistilBertForSequenceClassification.from_pretrained(\"distilbert-base-uncased-finetuned-sst-2-english\")\n"
   ]
  },
  {
   "cell_type": "code",
   "execution_count": 4,
   "metadata": {
    "executionInfo": {
     "elapsed": 5,
     "status": "ok",
     "timestamp": 1710616437171,
     "user": {
      "displayName": "Yeow Ming Xuan",
      "userId": "17214118926645109621"
     },
     "user_tz": -480
    },
    "id": "kbxUDLCcPOYl"
   },
   "outputs": [],
   "source": [
    "def sentiment_score_1(review):\n",
    "    tokens = tokenizer_1.encode(review, return_tensors='pt')\n",
    "    result = model_1(tokens)\n",
    "    prediction = int(torch.argmax(result.logits))\n",
    "\n",
    "    print(result)\n",
    "    print(prediction)\n",
    "    # Classify sentiment\n",
    "    if prediction == 1:\n",
    "        sentiment_label = \"Positive\"\n",
    "    else:\n",
    "        sentiment_label = \"Negative\"\n",
    "\n",
    "    return sentiment_label # return logits as well?"
   ]
  },
  {
   "cell_type": "code",
   "execution_count": null,
   "metadata": {
    "colab": {
     "base_uri": "https://localhost:8080/"
    },
    "collapsed": true,
    "executionInfo": {
     "elapsed": 2474,
     "status": "ok",
     "timestamp": 1710593170266,
     "user": {
      "displayName": "Yeow Ming Xuan",
      "userId": "17214118926645109621"
     },
     "user_tz": -480
    },
    "id": "T5zFK0sKPOYl",
    "outputId": "6cd88a69-d154-4b0a-9314-5587a5a9c461"
   },
   "outputs": [
    {
     "name": "stdout",
     "output_type": "stream",
     "text": [
      "SequenceClassifierOutput(loss=None, logits=tensor([[ 4.6491, -3.7305]], grad_fn=<AddmmBackward0>), hidden_states=None, attentions=None)\n",
      "0\n",
      "Sentence: Most automated sentiment analysis tools are shit.\n",
      "Sentiment: Negative\n",
      "\n",
      "SequenceClassifierOutput(loss=None, logits=tensor([[ 4.7243, -3.7802]], grad_fn=<AddmmBackward0>), hidden_states=None, attentions=None)\n",
      "0\n",
      "Sentence: VADER sentiment analysis is amazingly bad.\n",
      "Sentiment: Negative\n",
      "\n",
      "SequenceClassifierOutput(loss=None, logits=tensor([[ 4.6214, -3.6775]], grad_fn=<AddmmBackward0>), hidden_states=None, attentions=None)\n",
      "0\n",
      "Sentence: Sentiment analysis has never been good.\n",
      "Sentiment: Negative\n",
      "\n",
      "SequenceClassifierOutput(loss=None, logits=tensor([[ 1.1775, -0.8812]], grad_fn=<AddmmBackward0>), hidden_states=None, attentions=None)\n",
      "0\n",
      "Sentence: Sentiment analysis with VADER has never been this good.\n",
      "Sentiment: Negative\n",
      "\n",
      "SequenceClassifierOutput(loss=None, logits=tensor([[-3.9581,  4.1617]], grad_fn=<AddmmBackward0>), hidden_states=None, attentions=None)\n",
      "1\n",
      "Sentence: Warren Beatty has never been so entertaining.\n",
      "Sentiment: Positive\n",
      "\n",
      "SequenceClassifierOutput(loss=None, logits=tensor([[ 1.7482, -1.4557]], grad_fn=<AddmmBackward0>), hidden_states=None, attentions=None)\n",
      "0\n",
      "Sentence: I won't say that the movie is astounding and I wouldn't claim that    the movie is too banal either.\n",
      "Sentiment: Negative\n",
      "\n",
      "SequenceClassifierOutput(loss=None, logits=tensor([[ 1.7514, -1.4273]], grad_fn=<AddmmBackward0>), hidden_states=None, attentions=None)\n",
      "0\n",
      "Sentence: I like to hate Michael Bay films, but I couldn't fault this one\n",
      "Sentiment: Negative\n",
      "\n",
      "SequenceClassifierOutput(loss=None, logits=tensor([[ 3.6944, -3.0524]], grad_fn=<AddmmBackward0>), hidden_states=None, attentions=None)\n",
      "0\n",
      "Sentence: I like to hate Michael Bay films, BUT I couldn't help but fault this one\n",
      "Sentiment: Negative\n",
      "\n",
      "SequenceClassifierOutput(loss=None, logits=tensor([[ 2.7442, -2.2972]], grad_fn=<AddmmBackward0>), hidden_states=None, attentions=None)\n",
      "0\n",
      "Sentence: It's one thing to watch an Uwe Boll film, but another thing entirely    to pay for it\n",
      "Sentiment: Negative\n",
      "\n",
      "SequenceClassifierOutput(loss=None, logits=tensor([[-3.7796,  4.0519]], grad_fn=<AddmmBackward0>), hidden_states=None, attentions=None)\n",
      "1\n",
      "Sentence: The movie was too good\n",
      "Sentiment: Positive\n",
      "\n",
      "SequenceClassifierOutput(loss=None, logits=tensor([[ 4.5570, -3.6590]], grad_fn=<AddmmBackward0>), hidden_states=None, attentions=None)\n",
      "0\n",
      "Sentence: This movie was actually neither that funny, nor super witty.\n",
      "Sentiment: Negative\n",
      "\n",
      "SequenceClassifierOutput(loss=None, logits=tensor([[ 4.6172, -3.6826]], grad_fn=<AddmmBackward0>), hidden_states=None, attentions=None)\n",
      "0\n",
      "Sentence: This movie doesn't care about cleverness, wit or any other kind of    intelligent humor.\n",
      "Sentiment: Negative\n",
      "\n",
      "SequenceClassifierOutput(loss=None, logits=tensor([[ 3.7522, -3.1189]], grad_fn=<AddmmBackward0>), hidden_states=None, attentions=None)\n",
      "0\n",
      "Sentence: Those who find ugly meanings in beautiful things are corrupt without    being charming.\n",
      "Sentiment: Negative\n",
      "\n",
      "SequenceClassifierOutput(loss=None, logits=tensor([[-3.3608,  3.5425]], grad_fn=<AddmmBackward0>), hidden_states=None, attentions=None)\n",
      "1\n",
      "Sentence: There are slow and repetitive parts, BUT it has just enough spice to    keep it interesting.\n",
      "Sentiment: Positive\n",
      "\n",
      "SequenceClassifierOutput(loss=None, logits=tensor([[-4.2483,  4.6163]], grad_fn=<AddmmBackward0>), hidden_states=None, attentions=None)\n",
      "1\n",
      "Sentence: The script is not fantastic, but the acting is decent and the cinematography    is EXCELLENT!\n",
      "Sentiment: Positive\n",
      "\n",
      "SequenceClassifierOutput(loss=None, logits=tensor([[-4.2531,  4.5987]], grad_fn=<AddmmBackward0>), hidden_states=None, attentions=None)\n",
      "1\n",
      "Sentence: Roger Dodger is one of the most compelling variations on this theme.\n",
      "Sentiment: Positive\n",
      "\n",
      "SequenceClassifierOutput(loss=None, logits=tensor([[ 2.2051, -1.7256]], grad_fn=<AddmmBackward0>), hidden_states=None, attentions=None)\n",
      "0\n",
      "Sentence: Roger Dodger is one of the least compelling variations on this theme.\n",
      "Sentiment: Negative\n",
      "\n",
      "SequenceClassifierOutput(loss=None, logits=tensor([[-3.1947,  3.3284]], grad_fn=<AddmmBackward0>), hidden_states=None, attentions=None)\n",
      "1\n",
      "Sentence: Roger Dodger is at least compelling as a variation on the theme.\n",
      "Sentiment: Positive\n",
      "\n",
      "SequenceClassifierOutput(loss=None, logits=tensor([[-3.0532,  3.1310]], grad_fn=<AddmmBackward0>), hidden_states=None, attentions=None)\n",
      "1\n",
      "Sentence: they fall in love with the product\n",
      "Sentiment: Positive\n",
      "\n",
      "SequenceClassifierOutput(loss=None, logits=tensor([[ 3.5778, -2.9431]], grad_fn=<AddmmBackward0>), hidden_states=None, attentions=None)\n",
      "0\n",
      "Sentence: but then it breaks\n",
      "Sentiment: Negative\n",
      "\n",
      "SequenceClassifierOutput(loss=None, logits=tensor([[ 1.3206, -1.1233]], grad_fn=<AddmmBackward0>), hidden_states=None, attentions=None)\n",
      "0\n",
      "Sentence: usually around the time the 90 day warranty expires\n",
      "Sentiment: Negative\n",
      "\n",
      "SequenceClassifierOutput(loss=None, logits=tensor([[ 4.3896, -3.5705]], grad_fn=<AddmmBackward0>), hidden_states=None, attentions=None)\n",
      "0\n",
      "Sentence: the twin towers collapsed today\n",
      "Sentiment: Negative\n",
      "\n",
      "SequenceClassifierOutput(loss=None, logits=tensor([[ 2.5607, -2.1108]], grad_fn=<AddmmBackward0>), hidden_states=None, attentions=None)\n",
      "0\n",
      "Sentence: However, Mr. Carter solemnly argues, his client carried out the kidnapping    under orders and in the ''least offensive way possible.''\n",
      "Sentiment: Negative\n",
      "\n"
     ]
    }
   ],
   "source": [
    "for sentence in tricky_sentences:\n",
    "\n",
    "    sentiment_label = sentiment_score_1(sentence)\n",
    "\n",
    "    print(\"Sentence:\", sentence)\n",
    "    print(\"Sentiment:\", sentiment_label)\n",
    "    print()"
   ]
  },
  {
   "cell_type": "code",
   "execution_count": null,
   "metadata": {
    "colab": {
     "base_uri": "https://localhost:8080/",
     "height": 70
    },
    "executionInfo": {
     "elapsed": 11,
     "status": "ok",
     "timestamp": 1710593170267,
     "user": {
      "displayName": "Yeow Ming Xuan",
      "userId": "17214118926645109621"
     },
     "user_tz": -480
    },
    "id": "4lVE0HotPOYl",
    "outputId": "39633ab4-5483-4850-ba43-dd4181c6f1d6"
   },
   "outputs": [
    {
     "name": "stdout",
     "output_type": "stream",
     "text": [
      "SequenceClassifierOutput(loss=None, logits=tensor([[ 3.1201, -2.5089]], grad_fn=<AddmmBackward0>), hidden_states=None, attentions=None)\n",
      "0\n"
     ]
    },
    {
     "data": {
      "application/vnd.google.colaboratory.intrinsic+json": {
       "type": "string"
      },
      "text/plain": [
       "'Negative'"
      ]
     },
     "execution_count": 9,
     "metadata": {},
     "output_type": "execute_result"
    }
   ],
   "source": [
    "sentiment_score_1(\"hello, what a bad morning!\")\n"
   ]
  },
  {
   "cell_type": "markdown",
   "metadata": {
    "id": "6NgQR1e0POYm"
   },
   "source": [
    "# Small Sample Finetuning of Distilbert\n",
    "**the code below is just my efforts for a working code, and a check for presence of accuracy metrics' increases**"
   ]
  },
  {
   "cell_type": "markdown",
   "metadata": {
    "id": "pRFzBorvPOYm"
   },
   "source": [
    "### Establishing a baseline for comparison"
   ]
  },
  {
   "cell_type": "code",
   "execution_count": null,
   "metadata": {
    "colab": {
     "base_uri": "https://localhost:8080/"
    },
    "executionInfo": {
     "elapsed": 1193,
     "status": "ok",
     "timestamp": 1710593450633,
     "user": {
      "displayName": "Yeow Ming Xuan",
      "userId": "17214118926645109621"
     },
     "user_tz": -480
    },
    "id": "ldwvLuZbPOYm",
    "outputId": "a53f025c-84c9-4e5f-8cdb-b7ff77422f22",
    "scrolled": false
   },
   "outputs": [
    {
     "name": "stderr",
     "output_type": "stream",
     "text": [
      "Some weights of DistilBertForSequenceClassification were not initialized from the model checkpoint at distilbert-base-uncased and are newly initialized: ['classifier.bias', 'classifier.weight', 'pre_classifier.bias', 'pre_classifier.weight']\n",
      "You should probably TRAIN this model on a down-stream task to be able to use it for predictions and inference.\n"
     ]
    }
   ],
   "source": [
    "# Load the model\n",
    "model = DistilBertForSequenceClassification.from_pretrained('distilbert-base-uncased', num_labels=2)\n",
    "model = model.to('cuda')  # if GPU is available\n",
    "\n",
    "# Load validation data\n",
    "val_data = pd.read_csv('/content/drive/MyDrive/CZ4034/kaggle_validate_100.csv')\n",
    "val_texts = val_data['Review'].tolist()\n",
    "val_labels = val_data['Rating'].tolist()\n",
    "\n",
    "# Initialize tokenizer\n",
    "tokenizer = DistilBertTokenizer.from_pretrained('distilbert-base-uncased')\n",
    "\n",
    "# Tokenize data\n",
    "val_encodings = tokenizer(val_texts, truncation=True, padding=True, max_length=512)\n",
    "\n",
    "# Create torch dataset for validation\n",
    "class ReviewDataset(Dataset):\n",
    "    def __init__(self, encodings, labels=None):\n",
    "        self.encodings = encodings\n",
    "        self.labels = labels\n",
    "\n",
    "    def __getitem__(self, idx):\n",
    "        item = {key: torch.tensor(val[idx]) for key, val in self.encodings.items()}\n",
    "        if self.labels:\n",
    "            item['labels'] = torch.tensor(self.labels[idx])\n",
    "        return item\n",
    "\n",
    "    def __len__(self):\n",
    "        return len(self.encodings['input_ids'])\n",
    "\n",
    "val_dataset = ReviewDataset(val_encodings, val_labels)\n",
    "val_loader = DataLoader(val_dataset, batch_size=16, shuffle=False)\n"
   ]
  },
  {
   "cell_type": "code",
   "execution_count": null,
   "metadata": {
    "colab": {
     "base_uri": "https://localhost:8080/"
    },
    "executionInfo": {
     "elapsed": 1908,
     "status": "ok",
     "timestamp": 1710593452539,
     "user": {
      "displayName": "Yeow Ming Xuan",
      "userId": "17214118926645109621"
     },
     "user_tz": -480
    },
    "id": "s-GRO6aAPOYm",
    "outputId": "b16221bf-e7e3-4840-eb99-9829f6ddc929",
    "scrolled": true
   },
   "outputs": [
    {
     "name": "stdout",
     "output_type": "stream",
     "text": [
      "Accuracy: 0.5\n",
      "F1-score: 0.0\n",
      "Confusion matrix:\n",
      " [[50  0]\n",
      " [50  0]]\n"
     ]
    }
   ],
   "source": [
    "\n",
    "# Predict with the model\n",
    "model.eval()\n",
    "predictions = []\n",
    "true_labels = []\n",
    "for batch in val_loader:\n",
    "    input_ids = batch['input_ids'].to('cuda')\n",
    "    attention_mask = batch['attention_mask'].to('cuda')\n",
    "    labels = batch['labels'].to('cuda')\n",
    "\n",
    "    with torch.no_grad():\n",
    "        outputs = model(input_ids, attention_mask=attention_mask)\n",
    "\n",
    "    logits = outputs.logits\n",
    "    predicted_labels = torch.argmax(logits, dim=1).cpu().numpy()\n",
    "    predictions.extend(predicted_labels)\n",
    "    true_labels.extend(labels.cpu().numpy())\n",
    "\n",
    "# Calculate metrics\n",
    "accuracy = accuracy_score(true_labels, predictions)\n",
    "f1 = f1_score(true_labels, predictions)\n",
    "conf_matrix = confusion_matrix(true_labels, predictions)\n",
    "\n",
    "print(f'Accuracy: {accuracy}')\n",
    "print(f'F1-score: {f1}')\n",
    "print(f'Confusion matrix:\\n {conf_matrix}')"
   ]
  },
  {
   "cell_type": "markdown",
   "metadata": {
    "id": "0xv_EB7BPOYn"
   },
   "source": [
    "### Actual finetuning process"
   ]
  },
  {
   "cell_type": "code",
   "execution_count": null,
   "metadata": {
    "colab": {
     "base_uri": "https://localhost:8080/"
    },
    "executionInfo": {
     "elapsed": 38053,
     "status": "ok",
     "timestamp": 1710593642623,
     "user": {
      "displayName": "Yeow Ming Xuan",
      "userId": "17214118926645109621"
     },
     "user_tz": -480
    },
    "id": "xNg2dyS9POYn",
    "outputId": "3477e387-4650-4dd3-fac5-615abb9e22de"
   },
   "outputs": [
    {
     "name": "stderr",
     "output_type": "stream",
     "text": [
      "Some weights of DistilBertForSequenceClassification were not initialized from the model checkpoint at distilbert-base-uncased and are newly initialized: ['classifier.bias', 'classifier.weight', 'pre_classifier.bias', 'pre_classifier.weight']\n",
      "You should probably TRAIN this model on a down-stream task to be able to use it for predictions and inference.\n"
     ]
    },
    {
     "name": "stdout",
     "output_type": "stream",
     "text": [
      "Time required to fine-tune:  37.64240622520447\n"
     ]
    }
   ],
   "source": [
    "# Record start time\n",
    "start_time = time.time()\n",
    "\n",
    "# Load data\n",
    "data = pd.read_csv('/content/drive/MyDrive/CZ4034/kaggle_TRAIN_1000.csv')\n",
    "reviews = data['Review'].tolist()\n",
    "labels = data['Rating'].tolist()  # assuming sentiment is encoded as 0 (negative) and 1 (positive)\n",
    "\n",
    "# Split data into training and validation sets\n",
    "train_texts, val_texts, train_labels, val_labels = train_test_split(reviews, labels, test_size=0.2)\n",
    "\n",
    "# Initialize tokenizer\n",
    "tokenizer = DistilBertTokenizer.from_pretrained('distilbert-base-uncased')\n",
    "\n",
    "# Tokenize data\n",
    "train_encodings = tokenizer(train_texts, truncation=True, padding=True, max_length=512)\n",
    "val_encodings = tokenizer(val_texts, truncation=True, padding=True, max_length=512)\n",
    "\n",
    "# Create torch dataset\n",
    "class ReviewDataset(Dataset):\n",
    "    def __init__(self, encodings, labels):\n",
    "        self.encodings = encodings\n",
    "        self.labels = labels\n",
    "\n",
    "    def __getitem__(self, idx):\n",
    "        item = {key: torch.tensor(val[idx]) for key, val in self.encodings.items()}\n",
    "        item['labels'] = torch.tensor(self.labels[idx])\n",
    "        return item\n",
    "\n",
    "    def __len__(self):\n",
    "        return len(self.labels)\n",
    "\n",
    "# Create dataloaders\n",
    "train_dataset = ReviewDataset(train_encodings, train_labels)\n",
    "val_dataset = ReviewDataset(val_encodings, val_labels)\n",
    "\n",
    "train_loader = DataLoader(train_dataset, batch_size=16, shuffle=True)\n",
    "val_loader = DataLoader(val_dataset, batch_size=16, shuffle=False)\n",
    "\n",
    "# Initialize model\n",
    "model = DistilBertForSequenceClassification.from_pretrained('distilbert-base-uncased', num_labels=2)\n",
    "model = model.to('cuda')  # if GPU is available\n",
    "\n",
    "# Initialize optimizer\n",
    "optimizer = AdamW(model.parameters(), lr=1e-5)\n",
    "\n",
    "# Training loop\n",
    "for epoch in range(3):  # number of epochs\n",
    "    model.train()\n",
    "    for batch in train_loader:\n",
    "        optimizer.zero_grad()\n",
    "        input_ids = batch['input_ids'].to('cuda')\n",
    "        attention_mask = batch['attention_mask'].to('cuda')\n",
    "        labels = batch['labels'].to('cuda')\n",
    "        outputs = model(input_ids, attention_mask=attention_mask, labels=labels)\n",
    "        loss = outputs.loss\n",
    "        loss.backward()\n",
    "        optimizer.step()\n",
    "\n",
    "# Save the model\n",
    "model.save_pretrained('sentiment_model_DistilBERT')\n",
    "\n",
    "# Record end time\n",
    "end_time = time.time()\n",
    "\n",
    "print(\"Time required to fine-tune: \", end_time - start_time)"
   ]
  },
  {
   "cell_type": "markdown",
   "metadata": {
    "id": "aCVcI3ARVETv"
   },
   "source": [
    "### **Time to see how our fine-tuned model does on the unseen validation dataset.**"
   ]
  },
  {
   "cell_type": "code",
   "execution_count": null,
   "metadata": {
    "id": "ASNI5i6OPOYn"
   },
   "outputs": [],
   "source": [
    "# Load the model\n",
    "model = DistilBertForSequenceClassification.from_pretrained('sentiment_model_DistilBERT')\n",
    "model = model.to('cuda')  # if GPU is available\n",
    "\n",
    "# Load validation data\n",
    "val_data = pd.read_csv('/content/drive/MyDrive/CZ4034/kaggle_validate_100.csv')\n",
    "val_texts = val_data['Review'].tolist()\n",
    "val_labels = val_data['Rating'].tolist()\n",
    "\n",
    "# Initialize tokenizer\n",
    "tokenizer = DistilBertTokenizerFast.from_pretrained('distilbert-base-uncased')\n",
    "\n",
    "# Tokenize data\n",
    "val_encodings = tokenizer(val_texts, truncation=True, padding=True, max_length=512)\n",
    "\n",
    "# Create torch dataset for validation\n",
    "class ReviewDataset(Dataset):\n",
    "    def __init__(self, encodings, labels):\n",
    "        self.encodings = encodings\n",
    "        self.labels = labels\n",
    "\n",
    "    def __getitem__(self, idx):\n",
    "        item = {key: torch.tensor(val[idx]) for key, val in self.encodings.items()}\n",
    "        item['labels'] = torch.tensor(self.labels[idx])\n",
    "        return item\n",
    "\n",
    "    def __len__(self):\n",
    "        return len(self.labels)\n",
    "\n",
    "val_dataset = ReviewDataset(val_encodings, val_labels)\n",
    "val_loader = DataLoader(val_dataset, batch_size=16, shuffle=False)\n"
   ]
  },
  {
   "cell_type": "code",
   "execution_count": null,
   "metadata": {
    "colab": {
     "base_uri": "https://localhost:8080/"
    },
    "executionInfo": {
     "elapsed": 636,
     "status": "ok",
     "timestamp": 1710593896702,
     "user": {
      "displayName": "Yeow Ming Xuan",
      "userId": "17214118926645109621"
     },
     "user_tz": -480
    },
    "id": "Bv4SYUJJPOYn",
    "outputId": "225f614f-a297-4acf-fd16-c1e476a91863"
   },
   "outputs": [
    {
     "name": "stdout",
     "output_type": "stream",
     "text": [
      "Accuracy: 0.99\n",
      "F1-score: 0.98989898989899\n",
      "Confusion matrix:\n",
      " [[50  0]\n",
      " [ 1 49]]\n"
     ]
    }
   ],
   "source": [
    "\n",
    "# Evaluate the model\n",
    "model.eval()\n",
    "predictions = []\n",
    "true_labels = []\n",
    "for batch in val_loader:\n",
    "    input_ids = batch['input_ids'].to('cuda')\n",
    "    attention_mask = batch['attention_mask'].to('cuda')\n",
    "    labels = batch['labels'].to('cuda')\n",
    "\n",
    "    with torch.no_grad():\n",
    "        outputs = model(input_ids, attention_mask=attention_mask)\n",
    "\n",
    "    logits = outputs.logits\n",
    "    predicted_labels = torch.argmax(logits, dim=1).cpu().numpy()\n",
    "    predictions.extend(predicted_labels)\n",
    "    true_labels.extend(labels.cpu().numpy())\n",
    "\n",
    "# Calculate metrics\n",
    "accuracy = accuracy_score(true_labels, predictions)\n",
    "f1 = f1_score(true_labels, predictions)\n",
    "conf_matrix = confusion_matrix(true_labels, predictions)\n",
    "\n",
    "print(f'Accuracy: {accuracy}')\n",
    "print(f'F1-score: {f1}')\n",
    "print(f'Confusion matrix:\\n {conf_matrix}')"
   ]
  },
  {
   "cell_type": "code",
   "execution_count": null,
   "metadata": {
    "id": "o-LJRThPPOYn"
   },
   "outputs": [],
   "source": []
  },
  {
   "cell_type": "code",
   "execution_count": null,
   "metadata": {
    "id": "oC4nBJGxPOYn"
   },
   "outputs": [],
   "source": []
  },
  {
   "cell_type": "code",
   "execution_count": null,
   "metadata": {
    "id": "2m-mdZPmPOYn"
   },
   "outputs": [],
   "source": []
  },
  {
   "cell_type": "markdown",
   "metadata": {
    "id": "hS9WliqGWiG3"
   },
   "source": [
    "# Actual Finetuning of DistilBert with project datasets\n",
    "**The code below uses our project's full-sized dataset, and external training datasets.**"
   ]
  },
  {
   "cell_type": "markdown",
   "metadata": {
    "id": "XWU4R2O3XGnd"
   },
   "source": [
    "### Establishing a baseline for comparison"
   ]
  },
  {
   "cell_type": "code",
   "execution_count": 5,
   "metadata": {
    "executionInfo": {
     "elapsed": 11082,
     "status": "ok",
     "timestamp": 1710616742253,
     "user": {
      "displayName": "Yeow Ming Xuan",
      "userId": "17214118926645109621"
     },
     "user_tz": -480
    },
    "id": "-KstxxTxXGnd",
    "scrolled": false
   },
   "outputs": [],
   "source": [
    "# Load the model\n",
    "model = DistilBertForSequenceClassification.from_pretrained('distilbert-base-uncased-finetuned-sst-2-english', num_labels=2)\n",
    "model = model.to('cuda')  # if GPU is available\n",
    "\n",
    "# Load validation data\n",
    "val_data = pd.read_csv('/content/drive/MyDrive/CZ4034/kaggle_validate_balanced_7000.csv')\n",
    "val_texts = val_data['Review'].tolist()\n",
    "val_labels = val_data['Rating'].tolist()\n",
    "\n",
    "# Initialize tokenizer\n",
    "tokenizer = DistilBertTokenizer.from_pretrained('distilbert-base-uncased-finetuned-sst-2-english')\n",
    "\n",
    "# Tokenize data\n",
    "val_encodings = tokenizer(val_texts, truncation=True, padding=True, max_length=512)\n",
    "\n",
    "# Create torch dataset for validation\n",
    "class ReviewDataset(Dataset):\n",
    "    def __init__(self, encodings, labels=None):\n",
    "        self.encodings = encodings\n",
    "        self.labels = labels\n",
    "\n",
    "    def __getitem__(self, idx):\n",
    "        item = {key: torch.tensor(val[idx]) for key, val in self.encodings.items()}\n",
    "        if self.labels:\n",
    "            item['labels'] = torch.tensor(self.labels[idx])\n",
    "        return item\n",
    "\n",
    "    def __len__(self):\n",
    "        return len(self.encodings['input_ids'])\n",
    "\n",
    "val_dataset = ReviewDataset(val_encodings, val_labels)\n",
    "val_loader = DataLoader(val_dataset, batch_size=16, shuffle=False)\n"
   ]
  },
  {
   "cell_type": "code",
   "execution_count": 6,
   "metadata": {
    "colab": {
     "base_uri": "https://localhost:8080/"
    },
    "executionInfo": {
     "elapsed": 35844,
     "status": "ok",
     "timestamp": 1710616778095,
     "user": {
      "displayName": "Yeow Ming Xuan",
      "userId": "17214118926645109621"
     },
     "user_tz": -480
    },
    "id": "NT_x5LecXGne",
    "outputId": "4b64a131-2069-4356-98de-4c70d930fc6f",
    "scrolled": true
   },
   "outputs": [
    {
     "name": "stdout",
     "output_type": "stream",
     "text": [
      "Accuracy: 0.9308571428571428\n",
      "F1-score: 0.9266221952698606\n",
      "Confusion matrix:\n",
      " [[3460   40]\n",
      " [ 444 3056]]\n"
     ]
    }
   ],
   "source": [
    "\n",
    "# Predict with the model\n",
    "model.eval()\n",
    "predictions = []\n",
    "true_labels = []\n",
    "for batch in val_loader:\n",
    "    input_ids = batch['input_ids'].to('cuda')\n",
    "    attention_mask = batch['attention_mask'].to('cuda')\n",
    "    labels = batch['labels'].to('cuda')\n",
    "\n",
    "    with torch.no_grad():\n",
    "        outputs = model(input_ids, attention_mask=attention_mask)\n",
    "\n",
    "    logits = outputs.logits\n",
    "    predicted_labels = torch.argmax(logits, dim=1).cpu().numpy()\n",
    "    predictions.extend(predicted_labels)\n",
    "    true_labels.extend(labels.cpu().numpy())\n",
    "\n",
    "# Calculate metrics\n",
    "accuracy = accuracy_score(true_labels, predictions)\n",
    "f1 = f1_score(true_labels, predictions)\n",
    "conf_matrix = confusion_matrix(true_labels, predictions)\n",
    "\n",
    "print(f'Accuracy: {accuracy}')\n",
    "print(f'F1-score: {f1}')\n",
    "print(f'Confusion matrix:\\n {conf_matrix}')"
   ]
  },
  {
   "cell_type": "code",
   "execution_count": 6,
   "metadata": {
    "executionInfo": {
     "elapsed": 9,
     "status": "ok",
     "timestamp": 1710616778095,
     "user": {
      "displayName": "Yeow Ming Xuan",
      "userId": "17214118926645109621"
     },
     "user_tz": -480
    },
    "id": "8ltwX1Y7POYo"
   },
   "outputs": [],
   "source": []
  },
  {
   "cell_type": "markdown",
   "metadata": {
    "id": "nBv-8HjpXOQ0"
   },
   "source": [
    "### Actual finetuning process"
   ]
  },
  {
   "cell_type": "code",
   "execution_count": 7,
   "metadata": {
    "colab": {
     "base_uri": "https://localhost:8080/"
    },
    "executionInfo": {
     "elapsed": 1063948,
     "status": "ok",
     "timestamp": 1710617842036,
     "user": {
      "displayName": "Yeow Ming Xuan",
      "userId": "17214118926645109621"
     },
     "user_tz": -480
    },
    "id": "4X79e_oIXOQ0",
    "outputId": "a0686583-1a0b-4475-d437-98da102926db"
   },
   "outputs": [
    {
     "name": "stdout",
     "output_type": "stream",
     "text": [
      "Time required to fine-tune:  1063.8676331043243\n"
     ]
    }
   ],
   "source": [
    "# Record start time\n",
    "start_time = time.time()\n",
    "\n",
    "# Load data\n",
    "data = pd.read_csv('/content/drive/MyDrive/CZ4034/kaggle_TRAIN_balanced_30000.csv')\n",
    "reviews = data['Review'].tolist()\n",
    "labels = data['Rating'].tolist()  # assuming sentiment is encoded as 0 (negative) and 1 (positive)\n",
    "\n",
    "# Split data into training and validation sets\n",
    "train_texts, val_texts, train_labels, val_labels = train_test_split(reviews, labels, test_size=0.2)\n",
    "\n",
    "# Initialize tokenizer\n",
    "tokenizer = DistilBertTokenizer.from_pretrained('distilbert-base-uncased-finetuned-sst-2-english')\n",
    "\n",
    "# Tokenize data\n",
    "train_encodings = tokenizer(train_texts, truncation=True, padding=True, max_length=512)\n",
    "val_encodings = tokenizer(val_texts, truncation=True, padding=True, max_length=512)\n",
    "\n",
    "# Create torch dataset\n",
    "class ReviewDataset(Dataset):\n",
    "    def __init__(self, encodings, labels):\n",
    "        self.encodings = encodings\n",
    "        self.labels = labels\n",
    "\n",
    "    def __getitem__(self, idx):\n",
    "        item = {key: torch.tensor(val[idx]) for key, val in self.encodings.items()}\n",
    "        item['labels'] = torch.tensor(self.labels[idx])\n",
    "        return item\n",
    "\n",
    "    def __len__(self):\n",
    "        return len(self.labels)\n",
    "\n",
    "# Create dataloaders\n",
    "train_dataset = ReviewDataset(train_encodings, train_labels)\n",
    "val_dataset = ReviewDataset(val_encodings, val_labels)\n",
    "\n",
    "train_loader = DataLoader(train_dataset, batch_size=16, shuffle=True)\n",
    "val_loader = DataLoader(val_dataset, batch_size=16, shuffle=False)\n",
    "\n",
    "# Initialize model\n",
    "model = DistilBertForSequenceClassification.from_pretrained('distilbert-base-uncased-finetuned-sst-2-english', num_labels=2)\n",
    "model = model.to('cuda')  # if GPU is available\n",
    "\n",
    "# Initialize optimizer\n",
    "optimizer = AdamW(model.parameters(), lr=1e-5)\n",
    "\n",
    "# Training loop\n",
    "for epoch in range(3):  # number of epochs\n",
    "    model.train()\n",
    "    for batch in train_loader:\n",
    "        optimizer.zero_grad()\n",
    "        input_ids = batch['input_ids'].to('cuda')\n",
    "        attention_mask = batch['attention_mask'].to('cuda')\n",
    "        labels = batch['labels'].to('cuda')\n",
    "        outputs = model(input_ids, attention_mask=attention_mask, labels=labels)\n",
    "        loss = outputs.loss\n",
    "        loss.backward()\n",
    "        optimizer.step()\n",
    "\n",
    "# Save the model\n",
    "model.save_pretrained('sentiment_model_DistilBERT_CZ4034')\n",
    "\n",
    "# Record end time\n",
    "end_time = time.time()\n",
    "\n",
    "print(\"Time required to fine-tune: \", end_time - start_time)"
   ]
  },
  {
   "cell_type": "markdown",
   "metadata": {
    "id": "Cwdkh1KeXOQ1"
   },
   "source": [
    "### **Time to see how our fine-tuned model does on the unseen validation dataset.**"
   ]
  },
  {
   "cell_type": "code",
   "execution_count": 7,
   "metadata": {
    "executionInfo": {
     "elapsed": 5,
     "status": "ok",
     "timestamp": 1710617842036,
     "user": {
      "displayName": "Yeow Ming Xuan",
      "userId": "17214118926645109621"
     },
     "user_tz": -480
    },
    "id": "un02c4sksM8z"
   },
   "outputs": [],
   "source": []
  },
  {
   "cell_type": "code",
   "execution_count": 8,
   "metadata": {
    "colab": {
     "base_uri": "https://localhost:8080/"
    },
    "executionInfo": {
     "elapsed": 34980,
     "status": "ok",
     "timestamp": 1710617877013,
     "user": {
      "displayName": "Yeow Ming Xuan",
      "userId": "17214118926645109621"
     },
     "user_tz": -480
    },
    "id": "v2WSaWmpPOYo",
    "outputId": "97bcdaee-f17c-4f7f-d5e6-8d24b7850f33"
   },
   "outputs": [
    {
     "name": "stdout",
     "output_type": "stream",
     "text": [
      "Accuracy: 0.9882857142857143\n",
      "F1-score: 0.9882588774341351\n",
      "Confusion matrix:\n",
      " [[3467   33]\n",
      " [  49 3451]]\n"
     ]
    }
   ],
   "source": [
    "# Load the model\n",
    "model = DistilBertForSequenceClassification.from_pretrained('sentiment_model_DistilBERT_CZ4034')\n",
    "model = model.to('cuda')  # if GPU is available\n",
    "\n",
    "# Load validation data\n",
    "val_data = pd.read_csv('/content/drive/MyDrive/CZ4034/kaggle_validate_balanced_7000.csv')\n",
    "val_texts = val_data['Review'].tolist()\n",
    "val_labels = val_data['Rating'].tolist()\n",
    "\n",
    "# Initialize tokenizer\n",
    "tokenizer = DistilBertTokenizerFast.from_pretrained('distilbert-base-uncased-finetuned-sst-2-english')\n",
    "\n",
    "# Tokenize data\n",
    "val_encodings = tokenizer(val_texts, truncation=True, padding=True, max_length=512)\n",
    "\n",
    "# Create torch dataset for validation\n",
    "class ReviewDataset(Dataset):\n",
    "    def __init__(self, encodings, labels):\n",
    "        self.encodings = encodings\n",
    "        self.labels = labels\n",
    "\n",
    "    def __getitem__(self, idx):\n",
    "        item = {key: torch.tensor(val[idx]) for key, val in self.encodings.items()}\n",
    "        item['labels'] = torch.tensor(self.labels[idx])\n",
    "        return item\n",
    "\n",
    "    def __len__(self):\n",
    "        return len(self.labels)\n",
    "\n",
    "val_dataset = ReviewDataset(val_encodings, val_labels)\n",
    "val_loader = DataLoader(val_dataset, batch_size=16, shuffle=False)\n",
    "\n",
    "# Evaluate the model\n",
    "model.eval()\n",
    "predictions = []\n",
    "true_labels = []\n",
    "for batch in val_loader:\n",
    "    input_ids = batch['input_ids'].to('cuda')\n",
    "    attention_mask = batch['attention_mask'].to('cuda')\n",
    "    labels = batch['labels'].to('cuda')\n",
    "\n",
    "    with torch.no_grad():\n",
    "        outputs = model(input_ids, attention_mask=attention_mask)\n",
    "\n",
    "    logits = outputs.logits\n",
    "    predicted_labels = torch.argmax(logits, dim=1).cpu().numpy()\n",
    "    predictions.extend(predicted_labels)\n",
    "    true_labels.extend(labels.cpu().numpy())\n",
    "\n",
    "# Calculate metrics\n",
    "accuracy = accuracy_score(true_labels, predictions)\n",
    "f1 = f1_score(true_labels, predictions)\n",
    "conf_matrix = confusion_matrix(true_labels, predictions)\n",
    "\n",
    "print(f'Accuracy: {accuracy}')\n",
    "print(f'F1-score: {f1}')\n",
    "print(f'Confusion matrix:\\n {conf_matrix}')"
   ]
  },
  {
   "cell_type": "code",
   "execution_count": 8,
   "metadata": {
    "executionInfo": {
     "elapsed": 4,
     "status": "ok",
     "timestamp": 1710617877013,
     "user": {
      "displayName": "Yeow Ming Xuan",
      "userId": "17214118926645109621"
     },
     "user_tz": -480
    },
    "id": "rW7LTCTvPOYo"
   },
   "outputs": [],
   "source": []
  },
  {
   "cell_type": "markdown",
   "metadata": {
    "id": "fBux98oIqGUf"
   },
   "source": [
    "## **Executing on final cleaned dataset**"
   ]
  },
  {
   "cell_type": "code",
   "execution_count": 9,
   "metadata": {
    "executionInfo": {
     "elapsed": 572,
     "status": "ok",
     "timestamp": 1710617877582,
     "user": {
      "displayName": "Yeow Ming Xuan",
      "userId": "17214118926645109621"
     },
     "user_tz": -480
    },
    "id": "L-pswKjJqSRB"
   },
   "outputs": [],
   "source": [
    "tokenizer_finetuned = DistilBertTokenizerFast.from_pretrained(\"distilbert-base-uncased-finetuned-sst-2-english\")\n",
    "model_finetuned = DistilBertForSequenceClassification.from_pretrained(\"sentiment_model_DistilBERT_CZ4034\")\n"
   ]
  },
  {
   "cell_type": "code",
   "execution_count": 10,
   "metadata": {
    "executionInfo": {
     "elapsed": 13,
     "status": "ok",
     "timestamp": 1710617877582,
     "user": {
      "displayName": "Yeow Ming Xuan",
      "userId": "17214118926645109621"
     },
     "user_tz": -480
    },
    "id": "_5bsMx9zqRyp"
   },
   "outputs": [],
   "source": [
    "def sentiment_score_finetuned(review):\n",
    "    tokens = tokenizer_finetuned.encode(review, return_tensors='pt')\n",
    "    result = model_finetuned(tokens)\n",
    "    prediction = int(torch.argmax(result.logits))\n",
    "\n",
    "    # Classify sentiment\n",
    "    if prediction == 1:\n",
    "        sentiment_label = \"Positive\"\n",
    "    else:\n",
    "        sentiment_label = \"Negative\"\n",
    "\n",
    "    return sentiment_label # return logits as well?"
   ]
  },
  {
   "cell_type": "code",
   "execution_count": 16,
   "metadata": {
    "colab": {
     "base_uri": "https://localhost:8080/"
    },
    "collapsed": true,
    "executionInfo": {
     "elapsed": 915,
     "status": "ok",
     "timestamp": 1710618625320,
     "user": {
      "displayName": "Yeow Ming Xuan",
      "userId": "17214118926645109621"
     },
     "user_tz": -480
    },
    "id": "KJqNzH-OqRto",
    "outputId": "f93f132c-f7cf-4d47-ef07-49af36fde4ac"
   },
   "outputs": [
    {
     "name": "stdout",
     "output_type": "stream",
     "text": [
      "Sentiment: Negative\n",
      "\n",
      "Sentiment: Negative\n",
      "\n",
      "Sentiment: Negative\n",
      "\n",
      "Sentiment: Positive\n",
      "\n",
      "Sentiment: Positive\n",
      "\n",
      "Sentiment: Negative\n",
      "\n",
      "Sentiment: Negative\n",
      "\n",
      "Sentiment: Negative\n",
      "\n",
      "Sentiment: Negative\n",
      "\n",
      "Sentiment: Positive\n",
      "\n",
      "Sentiment: Negative\n",
      "\n",
      "Sentiment: Negative\n",
      "\n",
      "Sentiment: Negative\n",
      "\n",
      "Sentiment: Positive\n",
      "\n",
      "Sentiment: Positive\n",
      "\n",
      "Sentiment: Positive\n",
      "\n",
      "Sentiment: Positive\n",
      "\n",
      "Sentiment: Positive\n",
      "\n",
      "Sentiment: Positive\n",
      "\n",
      "Sentiment: Negative\n",
      "\n",
      "Sentiment: Positive\n",
      "\n",
      "Sentiment: Negative\n",
      "\n",
      "Sentiment: Negative\n",
      "\n"
     ]
    }
   ],
   "source": [
    "for sentence in tricky_sentences:\n",
    "\n",
    "    sentiment_label = sentiment_score_finetuned(sentence)\n",
    "\n",
    "    #print(\"Sentence:\", sentence)\n",
    "    print(\"Sentiment:\", sentiment_label)\n",
    "    print()"
   ]
  },
  {
   "cell_type": "code",
   "execution_count": 16,
   "metadata": {
    "executionInfo": {
     "elapsed": 1,
     "status": "ok",
     "timestamp": 1710618626210,
     "user": {
      "displayName": "Yeow Ming Xuan",
      "userId": "17214118926645109621"
     },
     "user_tz": -480
    },
    "id": "AwxEurHpqRlK"
   },
   "outputs": [],
   "source": []
  },
  {
   "cell_type": "code",
   "execution_count": 17,
   "metadata": {
    "executionInfo": {
     "elapsed": 2,
     "status": "ok",
     "timestamp": 1710618626546,
     "user": {
      "displayName": "Yeow Ming Xuan",
      "userId": "17214118926645109621"
     },
     "user_tz": -480
    },
    "id": "43G8OtPDPOYo"
   },
   "outputs": [],
   "source": [
    "# Import dataset, using first column as index column\n",
    "glassdoor_data_distilbert_finetuned = pd.read_csv('/content/drive/MyDrive/CZ4034/final_sg_companies_reviews_clean.csv')\n",
    "\n",
    "# Concatenating Pros and Cons\n",
    "glassdoor_data_distilbert_finetuned['Overall Review'] = glassdoor_data_distilbert_finetuned['Pros'] + '. ' + glassdoor_data_distilbert_finetuned['Cons']"
   ]
  },
  {
   "cell_type": "code",
   "execution_count": 18,
   "metadata": {
    "colab": {
     "base_uri": "https://localhost:8080/"
    },
    "executionInfo": {
     "elapsed": 2,
     "status": "ok",
     "timestamp": 1710618627048,
     "user": {
      "displayName": "Yeow Ming Xuan",
      "userId": "17214118926645109621"
     },
     "user_tz": -480
    },
    "id": "qqjvjXejsaBX",
    "outputId": "f8edf69b-c4b0-4ef6-9400-37980ad60584"
   },
   "outputs": [
    {
     "name": "stdout",
     "output_type": "stream",
     "text": [
      "<class 'pandas.core.frame.DataFrame'>\n",
      "RangeIndex: 18349 entries, 0 to 18348\n",
      "Data columns (total 10 columns):\n",
      " #   Column          Non-Null Count  Dtype  \n",
      "---  ------          --------------  -----  \n",
      " 0   Company Name    18349 non-null  object \n",
      " 1   Overall Rating  18349 non-null  float64\n",
      " 2   Review Date     18349 non-null  object \n",
      " 3   Review Title    18349 non-null  object \n",
      " 4   Job Title       18342 non-null  object \n",
      " 5   Job Details     18349 non-null  object \n",
      " 6   Location        13005 non-null  object \n",
      " 7   Pros            18349 non-null  object \n",
      " 8   Cons            18349 non-null  object \n",
      " 9   Overall Review  18349 non-null  object \n",
      "dtypes: float64(1), object(9)\n",
      "memory usage: 1.4+ MB\n"
     ]
    }
   ],
   "source": [
    "glassdoor_data_distilbert_finetuned.info()"
   ]
  },
  {
   "cell_type": "code",
   "execution_count": 19,
   "metadata": {
    "colab": {
     "base_uri": "https://localhost:8080/"
    },
    "executionInfo": {
     "elapsed": 542432,
     "status": "ok",
     "timestamp": 1710619169870,
     "user": {
      "displayName": "Yeow Ming Xuan",
      "userId": "17214118926645109621"
     },
     "user_tz": -480
    },
    "id": "Yxw-KdAyPOYo",
    "outputId": "b0134fe2-d52b-418b-dea0-1a87b46b2c25"
   },
   "outputs": [
    {
     "name": "stdout",
     "output_type": "stream",
     "text": [
      "<class 'pandas.core.frame.DataFrame'>\n",
      "RangeIndex: 18349 entries, 0 to 18348\n",
      "Data columns (total 11 columns):\n",
      " #   Column               Non-Null Count  Dtype  \n",
      "---  ------               --------------  -----  \n",
      " 0   Company Name         18349 non-null  object \n",
      " 1   Overall Rating       18349 non-null  float64\n",
      " 2   Review Date          18349 non-null  object \n",
      " 3   Review Title         18349 non-null  object \n",
      " 4   Job Title            18342 non-null  object \n",
      " 5   Job Details          18349 non-null  object \n",
      " 6   Location             13005 non-null  object \n",
      " 7   Pros                 18349 non-null  object \n",
      " 8   Cons                 18349 non-null  object \n",
      " 9   Overall Review       18349 non-null  object \n",
      " 10  Predicted Sentiment  18349 non-null  object \n",
      "dtypes: float64(1), object(10)\n",
      "memory usage: 1.5+ MB\n"
     ]
    }
   ],
   "source": [
    "#glassdoor_data_distilbert_finetuned[\"Pro's Sentiment\"] = glassdoor_data_distilbert_finetuned['Pros'].apply(lambda x: sentiment_score_finetuned(x[:512]))\n",
    "#glassdoor_data_distilbert_finetuned[\"Cons's Sentiment\"] = glassdoor_data_distilbert_finetuned['Cons'].apply(lambda x: sentiment_score_finetuned(x[:512]))\n",
    "glassdoor_data_distilbert_finetuned['Predicted Sentiment'] = glassdoor_data_distilbert_finetuned['Overall Review'].apply(lambda x: sentiment_score_finetuned(x[:512]))\n",
    "glassdoor_data_distilbert_finetuned.info()"
   ]
  },
  {
   "cell_type": "code",
   "execution_count": 20,
   "metadata": {
    "executionInfo": {
     "elapsed": 1181,
     "status": "ok",
     "timestamp": 1710619171049,
     "user": {
      "displayName": "Yeow Ming Xuan",
      "userId": "17214118926645109621"
     },
     "user_tz": -480
    },
    "id": "E4UUyybfPOYo"
   },
   "outputs": [],
   "source": [
    "# Export DataFrame to CSV\n",
    "glassdoor_data_distilbert_finetuned.to_csv('/content/drive/MyDrive/CZ4034/glassdoor_data_distilbert_finetuned.csv', index=False)"
   ]
  },
  {
   "cell_type": "code",
   "execution_count": null,
   "metadata": {
    "id": "ByAEry2nPOYo"
   },
   "outputs": [],
   "source": []
  },
  {
   "cell_type": "code",
   "execution_count": null,
   "metadata": {
    "id": "bLj83tcMPOYo"
   },
   "outputs": [],
   "source": []
  },
  {
   "cell_type": "code",
   "execution_count": null,
   "metadata": {
    "id": "R2iUAV-4POYo"
   },
   "outputs": [],
   "source": []
  },
  {
   "cell_type": "code",
   "execution_count": null,
   "metadata": {
    "id": "-UnxsjR1POYp"
   },
   "outputs": [],
   "source": []
  },
  {
   "cell_type": "code",
   "execution_count": null,
   "metadata": {
    "id": "1kU4jkl_POYp"
   },
   "outputs": [],
   "source": []
  },
  {
   "cell_type": "code",
   "execution_count": null,
   "metadata": {
    "id": "AyCucREpPOYp"
   },
   "outputs": [],
   "source": []
  },
  {
   "cell_type": "code",
   "execution_count": null,
   "metadata": {
    "id": "4WHn0EGZPOYp"
   },
   "outputs": [],
   "source": []
  },
  {
   "cell_type": "code",
   "execution_count": null,
   "metadata": {
    "id": "Nw2YyHqmPOYp"
   },
   "outputs": [],
   "source": []
  },
  {
   "cell_type": "code",
   "execution_count": null,
   "metadata": {
    "id": "lQc17TzMPOYp"
   },
   "outputs": [],
   "source": []
  },
  {
   "cell_type": "code",
   "execution_count": null,
   "metadata": {
    "id": "j_j3CW-UPOYp"
   },
   "outputs": [],
   "source": []
  },
  {
   "cell_type": "code",
   "execution_count": null,
   "metadata": {
    "id": "sTzAr4ssPOYq"
   },
   "outputs": [],
   "source": []
  },
  {
   "cell_type": "code",
   "execution_count": null,
   "metadata": {
    "id": "W4HKymVcPOYq"
   },
   "outputs": [],
   "source": []
  },
  {
   "cell_type": "code",
   "execution_count": null,
   "metadata": {
    "id": "WKuQOnFSPOYq"
   },
   "outputs": [],
   "source": []
  },
  {
   "cell_type": "code",
   "execution_count": null,
   "metadata": {
    "id": "Ka0RD8VKPOYq"
   },
   "outputs": [],
   "source": []
  },
  {
   "cell_type": "code",
   "execution_count": null,
   "metadata": {
    "id": "9hkzCtZCPOYq"
   },
   "outputs": [],
   "source": []
  },
  {
   "cell_type": "code",
   "execution_count": null,
   "metadata": {
    "id": "hqEi7A8iPOYq"
   },
   "outputs": [],
   "source": []
  },
  {
   "cell_type": "code",
   "execution_count": null,
   "metadata": {
    "id": "OkrjjZpxPOYq"
   },
   "outputs": [],
   "source": []
  },
  {
   "cell_type": "code",
   "execution_count": null,
   "metadata": {
    "id": "Ubol3YXDPOYq"
   },
   "outputs": [],
   "source": []
  },
  {
   "cell_type": "code",
   "execution_count": null,
   "metadata": {
    "id": "_irCUwa5POYq"
   },
   "outputs": [],
   "source": []
  },
  {
   "cell_type": "code",
   "execution_count": null,
   "metadata": {
    "id": "KaYSo3fhPOYq"
   },
   "outputs": [],
   "source": []
  },
  {
   "cell_type": "code",
   "execution_count": null,
   "metadata": {
    "id": "vPsiixaMPOYq"
   },
   "outputs": [],
   "source": []
  },
  {
   "cell_type": "code",
   "execution_count": null,
   "metadata": {
    "id": "OYjozkkBPOYr"
   },
   "outputs": [],
   "source": []
  },
  {
   "cell_type": "code",
   "execution_count": null,
   "metadata": {
    "id": "iLVrLHyEPOYr"
   },
   "outputs": [],
   "source": []
  },
  {
   "cell_type": "code",
   "execution_count": null,
   "metadata": {
    "id": "0X3lSflWPOYr"
   },
   "outputs": [],
   "source": []
  },
  {
   "cell_type": "code",
   "execution_count": null,
   "metadata": {
    "id": "MQVfiS9sPOYr"
   },
   "outputs": [],
   "source": []
  },
  {
   "cell_type": "code",
   "execution_count": null,
   "metadata": {
    "id": "glNDDPsbPOYr"
   },
   "outputs": [],
   "source": []
  },
  {
   "cell_type": "code",
   "execution_count": null,
   "metadata": {
    "id": "qtP9ERj5POYr"
   },
   "outputs": [],
   "source": []
  },
  {
   "cell_type": "code",
   "execution_count": null,
   "metadata": {
    "id": "Ttg7l_K9POYr"
   },
   "outputs": [],
   "source": []
  },
  {
   "cell_type": "code",
   "execution_count": null,
   "metadata": {
    "id": "c38jpqQlPOYr"
   },
   "outputs": [],
   "source": []
  },
  {
   "cell_type": "code",
   "execution_count": null,
   "metadata": {
    "id": "-TPZ8iWkPOYr"
   },
   "outputs": [],
   "source": []
  },
  {
   "cell_type": "code",
   "execution_count": null,
   "metadata": {
    "id": "Dhzh4eCuPOYr"
   },
   "outputs": [],
   "source": []
  },
  {
   "cell_type": "code",
   "execution_count": null,
   "metadata": {
    "id": "QOe9iJpKPOYs"
   },
   "outputs": [],
   "source": []
  },
  {
   "cell_type": "code",
   "execution_count": null,
   "metadata": {
    "id": "lbv-vLnvPOYs"
   },
   "outputs": [],
   "source": []
  },
  {
   "cell_type": "code",
   "execution_count": null,
   "metadata": {
    "id": "QAg1tBMvPOYs"
   },
   "outputs": [],
   "source": []
  }
 ],
 "metadata": {
  "colab": {
   "provenance": []
  },
  "kernelspec": {
   "display_name": "Python 3",
   "language": "python",
   "name": "python3"
  },
  "language_info": {
   "codemirror_mode": {
    "name": "ipython",
    "version": 3
   },
   "file_extension": ".py",
   "mimetype": "text/x-python",
   "name": "python",
   "nbconvert_exporter": "python",
   "pygments_lexer": "ipython3",
   "version": "3.8.5"
  },
  "widgets": {
   "application/vnd.jupyter.widget-state+json": {
    "04f1a07c218c43af9ca5c4d47f4696df": {
     "model_module": "@jupyter-widgets/base",
     "model_module_version": "1.2.0",
     "model_name": "LayoutModel",
     "state": {
      "_model_module": "@jupyter-widgets/base",
      "_model_module_version": "1.2.0",
      "_model_name": "LayoutModel",
      "_view_count": null,
      "_view_module": "@jupyter-widgets/base",
      "_view_module_version": "1.2.0",
      "_view_name": "LayoutView",
      "align_content": null,
      "align_items": null,
      "align_self": null,
      "border": null,
      "bottom": null,
      "display": null,
      "flex": null,
      "flex_flow": null,
      "grid_area": null,
      "grid_auto_columns": null,
      "grid_auto_flow": null,
      "grid_auto_rows": null,
      "grid_column": null,
      "grid_gap": null,
      "grid_row": null,
      "grid_template_areas": null,
      "grid_template_columns": null,
      "grid_template_rows": null,
      "height": null,
      "justify_content": null,
      "justify_items": null,
      "left": null,
      "margin": null,
      "max_height": null,
      "max_width": null,
      "min_height": null,
      "min_width": null,
      "object_fit": null,
      "object_position": null,
      "order": null,
      "overflow": null,
      "overflow_x": null,
      "overflow_y": null,
      "padding": null,
      "right": null,
      "top": null,
      "visibility": null,
      "width": null
     }
    },
    "09b13482362640dfafbb1521cf46edf5": {
     "model_module": "@jupyter-widgets/base",
     "model_module_version": "1.2.0",
     "model_name": "LayoutModel",
     "state": {
      "_model_module": "@jupyter-widgets/base",
      "_model_module_version": "1.2.0",
      "_model_name": "LayoutModel",
      "_view_count": null,
      "_view_module": "@jupyter-widgets/base",
      "_view_module_version": "1.2.0",
      "_view_name": "LayoutView",
      "align_content": null,
      "align_items": null,
      "align_self": null,
      "border": null,
      "bottom": null,
      "display": null,
      "flex": null,
      "flex_flow": null,
      "grid_area": null,
      "grid_auto_columns": null,
      "grid_auto_flow": null,
      "grid_auto_rows": null,
      "grid_column": null,
      "grid_gap": null,
      "grid_row": null,
      "grid_template_areas": null,
      "grid_template_columns": null,
      "grid_template_rows": null,
      "height": null,
      "justify_content": null,
      "justify_items": null,
      "left": null,
      "margin": null,
      "max_height": null,
      "max_width": null,
      "min_height": null,
      "min_width": null,
      "object_fit": null,
      "object_position": null,
      "order": null,
      "overflow": null,
      "overflow_x": null,
      "overflow_y": null,
      "padding": null,
      "right": null,
      "top": null,
      "visibility": null,
      "width": null
     }
    },
    "0d3e265cde294b1dab4c30470b49c36a": {
     "model_module": "@jupyter-widgets/controls",
     "model_module_version": "1.5.0",
     "model_name": "FloatProgressModel",
     "state": {
      "_dom_classes": [],
      "_model_module": "@jupyter-widgets/controls",
      "_model_module_version": "1.5.0",
      "_model_name": "FloatProgressModel",
      "_view_count": null,
      "_view_module": "@jupyter-widgets/controls",
      "_view_module_version": "1.5.0",
      "_view_name": "ProgressView",
      "bar_style": "success",
      "description": "",
      "description_tooltip": null,
      "layout": "IPY_MODEL_e28f1b9561164fb48de6896bd6f4e450",
      "max": 267832558,
      "min": 0,
      "orientation": "horizontal",
      "style": "IPY_MODEL_4759f7b03de4423ab4135b59f7cf9a26",
      "value": 267832558
     }
    },
    "14000e42d6f34f768242fd7c0d1c036e": {
     "model_module": "@jupyter-widgets/controls",
     "model_module_version": "1.5.0",
     "model_name": "HTMLModel",
     "state": {
      "_dom_classes": [],
      "_model_module": "@jupyter-widgets/controls",
      "_model_module_version": "1.5.0",
      "_model_name": "HTMLModel",
      "_view_count": null,
      "_view_module": "@jupyter-widgets/controls",
      "_view_module_version": "1.5.0",
      "_view_name": "HTMLView",
      "description": "",
      "description_tooltip": null,
      "layout": "IPY_MODEL_61a7b484cc994c83862a2e3e07be58fc",
      "placeholder": "​",
      "style": "IPY_MODEL_3b5a63468d24474fbe92c714e6de9a99",
      "value": "vocab.txt: 100%"
     }
    },
    "16ce479f69d641ccae3bc42131d26ef5": {
     "model_module": "@jupyter-widgets/controls",
     "model_module_version": "1.5.0",
     "model_name": "ProgressStyleModel",
     "state": {
      "_model_module": "@jupyter-widgets/controls",
      "_model_module_version": "1.5.0",
      "_model_name": "ProgressStyleModel",
      "_view_count": null,
      "_view_module": "@jupyter-widgets/base",
      "_view_module_version": "1.2.0",
      "_view_name": "StyleView",
      "bar_color": null,
      "description_width": ""
     }
    },
    "1907796c8a33455b99990c65b498f61f": {
     "model_module": "@jupyter-widgets/controls",
     "model_module_version": "1.5.0",
     "model_name": "HBoxModel",
     "state": {
      "_dom_classes": [],
      "_model_module": "@jupyter-widgets/controls",
      "_model_module_version": "1.5.0",
      "_model_name": "HBoxModel",
      "_view_count": null,
      "_view_module": "@jupyter-widgets/controls",
      "_view_module_version": "1.5.0",
      "_view_name": "HBoxView",
      "box_style": "",
      "children": [
       "IPY_MODEL_7bef59aab2a5487e8ce1ad76a0535559",
       "IPY_MODEL_0d3e265cde294b1dab4c30470b49c36a",
       "IPY_MODEL_1c7b1c2554c543c99e8dbffcd47a01cb"
      ],
      "layout": "IPY_MODEL_bb470ac5a2d140b18060060dc1538b65"
     }
    },
    "1919785bfba944eab1f9e360d4af5457": {
     "model_module": "@jupyter-widgets/controls",
     "model_module_version": "1.5.0",
     "model_name": "DescriptionStyleModel",
     "state": {
      "_model_module": "@jupyter-widgets/controls",
      "_model_module_version": "1.5.0",
      "_model_name": "DescriptionStyleModel",
      "_view_count": null,
      "_view_module": "@jupyter-widgets/base",
      "_view_module_version": "1.2.0",
      "_view_name": "StyleView",
      "description_width": ""
     }
    },
    "1c7b1c2554c543c99e8dbffcd47a01cb": {
     "model_module": "@jupyter-widgets/controls",
     "model_module_version": "1.5.0",
     "model_name": "HTMLModel",
     "state": {
      "_dom_classes": [],
      "_model_module": "@jupyter-widgets/controls",
      "_model_module_version": "1.5.0",
      "_model_name": "HTMLModel",
      "_view_count": null,
      "_view_module": "@jupyter-widgets/controls",
      "_view_module_version": "1.5.0",
      "_view_name": "HTMLView",
      "description": "",
      "description_tooltip": null,
      "layout": "IPY_MODEL_81be96e8201f4e779b783c8ccda9091a",
      "placeholder": "​",
      "style": "IPY_MODEL_7a09c0317883423ca21635efad766d6a",
      "value": " 268M/268M [00:01&lt;00:00, 232MB/s]"
     }
    },
    "1ce70a0fed0642709aca53115d010b44": {
     "model_module": "@jupyter-widgets/base",
     "model_module_version": "1.2.0",
     "model_name": "LayoutModel",
     "state": {
      "_model_module": "@jupyter-widgets/base",
      "_model_module_version": "1.2.0",
      "_model_name": "LayoutModel",
      "_view_count": null,
      "_view_module": "@jupyter-widgets/base",
      "_view_module_version": "1.2.0",
      "_view_name": "LayoutView",
      "align_content": null,
      "align_items": null,
      "align_self": null,
      "border": null,
      "bottom": null,
      "display": null,
      "flex": null,
      "flex_flow": null,
      "grid_area": null,
      "grid_auto_columns": null,
      "grid_auto_flow": null,
      "grid_auto_rows": null,
      "grid_column": null,
      "grid_gap": null,
      "grid_row": null,
      "grid_template_areas": null,
      "grid_template_columns": null,
      "grid_template_rows": null,
      "height": null,
      "justify_content": null,
      "justify_items": null,
      "left": null,
      "margin": null,
      "max_height": null,
      "max_width": null,
      "min_height": null,
      "min_width": null,
      "object_fit": null,
      "object_position": null,
      "order": null,
      "overflow": null,
      "overflow_x": null,
      "overflow_y": null,
      "padding": null,
      "right": null,
      "top": null,
      "visibility": null,
      "width": null
     }
    },
    "1eb1428e191d48928cc0540ae7a1458f": {
     "model_module": "@jupyter-widgets/base",
     "model_module_version": "1.2.0",
     "model_name": "LayoutModel",
     "state": {
      "_model_module": "@jupyter-widgets/base",
      "_model_module_version": "1.2.0",
      "_model_name": "LayoutModel",
      "_view_count": null,
      "_view_module": "@jupyter-widgets/base",
      "_view_module_version": "1.2.0",
      "_view_name": "LayoutView",
      "align_content": null,
      "align_items": null,
      "align_self": null,
      "border": null,
      "bottom": null,
      "display": null,
      "flex": null,
      "flex_flow": null,
      "grid_area": null,
      "grid_auto_columns": null,
      "grid_auto_flow": null,
      "grid_auto_rows": null,
      "grid_column": null,
      "grid_gap": null,
      "grid_row": null,
      "grid_template_areas": null,
      "grid_template_columns": null,
      "grid_template_rows": null,
      "height": null,
      "justify_content": null,
      "justify_items": null,
      "left": null,
      "margin": null,
      "max_height": null,
      "max_width": null,
      "min_height": null,
      "min_width": null,
      "object_fit": null,
      "object_position": null,
      "order": null,
      "overflow": null,
      "overflow_x": null,
      "overflow_y": null,
      "padding": null,
      "right": null,
      "top": null,
      "visibility": null,
      "width": null
     }
    },
    "24c6cec378cd47a980e1f1b3e43115e4": {
     "model_module": "@jupyter-widgets/controls",
     "model_module_version": "1.5.0",
     "model_name": "FloatProgressModel",
     "state": {
      "_dom_classes": [],
      "_model_module": "@jupyter-widgets/controls",
      "_model_module_version": "1.5.0",
      "_model_name": "FloatProgressModel",
      "_view_count": null,
      "_view_module": "@jupyter-widgets/controls",
      "_view_module_version": "1.5.0",
      "_view_name": "ProgressView",
      "bar_style": "success",
      "description": "",
      "description_tooltip": null,
      "layout": "IPY_MODEL_1ce70a0fed0642709aca53115d010b44",
      "max": 48,
      "min": 0,
      "orientation": "horizontal",
      "style": "IPY_MODEL_16ce479f69d641ccae3bc42131d26ef5",
      "value": 48
     }
    },
    "313a7b3a2a9947e58c01efbb1cf27225": {
     "model_module": "@jupyter-widgets/controls",
     "model_module_version": "1.5.0",
     "model_name": "DescriptionStyleModel",
     "state": {
      "_model_module": "@jupyter-widgets/controls",
      "_model_module_version": "1.5.0",
      "_model_name": "DescriptionStyleModel",
      "_view_count": null,
      "_view_module": "@jupyter-widgets/base",
      "_view_module_version": "1.2.0",
      "_view_name": "StyleView",
      "description_width": ""
     }
    },
    "3b0bfb25903b4dc3abe853af506e895a": {
     "model_module": "@jupyter-widgets/base",
     "model_module_version": "1.2.0",
     "model_name": "LayoutModel",
     "state": {
      "_model_module": "@jupyter-widgets/base",
      "_model_module_version": "1.2.0",
      "_model_name": "LayoutModel",
      "_view_count": null,
      "_view_module": "@jupyter-widgets/base",
      "_view_module_version": "1.2.0",
      "_view_name": "LayoutView",
      "align_content": null,
      "align_items": null,
      "align_self": null,
      "border": null,
      "bottom": null,
      "display": null,
      "flex": null,
      "flex_flow": null,
      "grid_area": null,
      "grid_auto_columns": null,
      "grid_auto_flow": null,
      "grid_auto_rows": null,
      "grid_column": null,
      "grid_gap": null,
      "grid_row": null,
      "grid_template_areas": null,
      "grid_template_columns": null,
      "grid_template_rows": null,
      "height": null,
      "justify_content": null,
      "justify_items": null,
      "left": null,
      "margin": null,
      "max_height": null,
      "max_width": null,
      "min_height": null,
      "min_width": null,
      "object_fit": null,
      "object_position": null,
      "order": null,
      "overflow": null,
      "overflow_x": null,
      "overflow_y": null,
      "padding": null,
      "right": null,
      "top": null,
      "visibility": null,
      "width": null
     }
    },
    "3b5a63468d24474fbe92c714e6de9a99": {
     "model_module": "@jupyter-widgets/controls",
     "model_module_version": "1.5.0",
     "model_name": "DescriptionStyleModel",
     "state": {
      "_model_module": "@jupyter-widgets/controls",
      "_model_module_version": "1.5.0",
      "_model_name": "DescriptionStyleModel",
      "_view_count": null,
      "_view_module": "@jupyter-widgets/base",
      "_view_module_version": "1.2.0",
      "_view_name": "StyleView",
      "description_width": ""
     }
    },
    "3d02fd8c8c2e491eb883b6e3c4fd8f34": {
     "model_module": "@jupyter-widgets/base",
     "model_module_version": "1.2.0",
     "model_name": "LayoutModel",
     "state": {
      "_model_module": "@jupyter-widgets/base",
      "_model_module_version": "1.2.0",
      "_model_name": "LayoutModel",
      "_view_count": null,
      "_view_module": "@jupyter-widgets/base",
      "_view_module_version": "1.2.0",
      "_view_name": "LayoutView",
      "align_content": null,
      "align_items": null,
      "align_self": null,
      "border": null,
      "bottom": null,
      "display": null,
      "flex": null,
      "flex_flow": null,
      "grid_area": null,
      "grid_auto_columns": null,
      "grid_auto_flow": null,
      "grid_auto_rows": null,
      "grid_column": null,
      "grid_gap": null,
      "grid_row": null,
      "grid_template_areas": null,
      "grid_template_columns": null,
      "grid_template_rows": null,
      "height": null,
      "justify_content": null,
      "justify_items": null,
      "left": null,
      "margin": null,
      "max_height": null,
      "max_width": null,
      "min_height": null,
      "min_width": null,
      "object_fit": null,
      "object_position": null,
      "order": null,
      "overflow": null,
      "overflow_x": null,
      "overflow_y": null,
      "padding": null,
      "right": null,
      "top": null,
      "visibility": null,
      "width": null
     }
    },
    "3f3b63b541484f9ab6ee664000459f19": {
     "model_module": "@jupyter-widgets/controls",
     "model_module_version": "1.5.0",
     "model_name": "HBoxModel",
     "state": {
      "_dom_classes": [],
      "_model_module": "@jupyter-widgets/controls",
      "_model_module_version": "1.5.0",
      "_model_name": "HBoxModel",
      "_view_count": null,
      "_view_module": "@jupyter-widgets/controls",
      "_view_module_version": "1.5.0",
      "_view_name": "HBoxView",
      "box_style": "",
      "children": [
       "IPY_MODEL_4e0369f294c94cafa5a363d8d34e9cd6",
       "IPY_MODEL_24c6cec378cd47a980e1f1b3e43115e4",
       "IPY_MODEL_6b18716d48f34761adc78cda4a19141b"
      ],
      "layout": "IPY_MODEL_71d1e0e52c3641b1876a9e9ca9d53a5b"
     }
    },
    "3f9adfa22e1f4c82bd8afb4e65e1d20c": {
     "model_module": "@jupyter-widgets/controls",
     "model_module_version": "1.5.0",
     "model_name": "DescriptionStyleModel",
     "state": {
      "_model_module": "@jupyter-widgets/controls",
      "_model_module_version": "1.5.0",
      "_model_name": "DescriptionStyleModel",
      "_view_count": null,
      "_view_module": "@jupyter-widgets/base",
      "_view_module_version": "1.2.0",
      "_view_name": "StyleView",
      "description_width": ""
     }
    },
    "4759f7b03de4423ab4135b59f7cf9a26": {
     "model_module": "@jupyter-widgets/controls",
     "model_module_version": "1.5.0",
     "model_name": "ProgressStyleModel",
     "state": {
      "_model_module": "@jupyter-widgets/controls",
      "_model_module_version": "1.5.0",
      "_model_name": "ProgressStyleModel",
      "_view_count": null,
      "_view_module": "@jupyter-widgets/base",
      "_view_module_version": "1.2.0",
      "_view_name": "StyleView",
      "bar_color": null,
      "description_width": ""
     }
    },
    "4e0369f294c94cafa5a363d8d34e9cd6": {
     "model_module": "@jupyter-widgets/controls",
     "model_module_version": "1.5.0",
     "model_name": "HTMLModel",
     "state": {
      "_dom_classes": [],
      "_model_module": "@jupyter-widgets/controls",
      "_model_module_version": "1.5.0",
      "_model_name": "HTMLModel",
      "_view_count": null,
      "_view_module": "@jupyter-widgets/controls",
      "_view_module_version": "1.5.0",
      "_view_name": "HTMLView",
      "description": "",
      "description_tooltip": null,
      "layout": "IPY_MODEL_3b0bfb25903b4dc3abe853af506e895a",
      "placeholder": "​",
      "style": "IPY_MODEL_68ecc9f72ad74172887badd0eecba968",
      "value": "tokenizer_config.json: 100%"
     }
    },
    "5bae9130a3df4522a4baac71a4c57460": {
     "model_module": "@jupyter-widgets/base",
     "model_module_version": "1.2.0",
     "model_name": "LayoutModel",
     "state": {
      "_model_module": "@jupyter-widgets/base",
      "_model_module_version": "1.2.0",
      "_model_name": "LayoutModel",
      "_view_count": null,
      "_view_module": "@jupyter-widgets/base",
      "_view_module_version": "1.2.0",
      "_view_name": "LayoutView",
      "align_content": null,
      "align_items": null,
      "align_self": null,
      "border": null,
      "bottom": null,
      "display": null,
      "flex": null,
      "flex_flow": null,
      "grid_area": null,
      "grid_auto_columns": null,
      "grid_auto_flow": null,
      "grid_auto_rows": null,
      "grid_column": null,
      "grid_gap": null,
      "grid_row": null,
      "grid_template_areas": null,
      "grid_template_columns": null,
      "grid_template_rows": null,
      "height": null,
      "justify_content": null,
      "justify_items": null,
      "left": null,
      "margin": null,
      "max_height": null,
      "max_width": null,
      "min_height": null,
      "min_width": null,
      "object_fit": null,
      "object_position": null,
      "order": null,
      "overflow": null,
      "overflow_x": null,
      "overflow_y": null,
      "padding": null,
      "right": null,
      "top": null,
      "visibility": null,
      "width": null
     }
    },
    "61a7b484cc994c83862a2e3e07be58fc": {
     "model_module": "@jupyter-widgets/base",
     "model_module_version": "1.2.0",
     "model_name": "LayoutModel",
     "state": {
      "_model_module": "@jupyter-widgets/base",
      "_model_module_version": "1.2.0",
      "_model_name": "LayoutModel",
      "_view_count": null,
      "_view_module": "@jupyter-widgets/base",
      "_view_module_version": "1.2.0",
      "_view_name": "LayoutView",
      "align_content": null,
      "align_items": null,
      "align_self": null,
      "border": null,
      "bottom": null,
      "display": null,
      "flex": null,
      "flex_flow": null,
      "grid_area": null,
      "grid_auto_columns": null,
      "grid_auto_flow": null,
      "grid_auto_rows": null,
      "grid_column": null,
      "grid_gap": null,
      "grid_row": null,
      "grid_template_areas": null,
      "grid_template_columns": null,
      "grid_template_rows": null,
      "height": null,
      "justify_content": null,
      "justify_items": null,
      "left": null,
      "margin": null,
      "max_height": null,
      "max_width": null,
      "min_height": null,
      "min_width": null,
      "object_fit": null,
      "object_position": null,
      "order": null,
      "overflow": null,
      "overflow_x": null,
      "overflow_y": null,
      "padding": null,
      "right": null,
      "top": null,
      "visibility": null,
      "width": null
     }
    },
    "68ecc9f72ad74172887badd0eecba968": {
     "model_module": "@jupyter-widgets/controls",
     "model_module_version": "1.5.0",
     "model_name": "DescriptionStyleModel",
     "state": {
      "_model_module": "@jupyter-widgets/controls",
      "_model_module_version": "1.5.0",
      "_model_name": "DescriptionStyleModel",
      "_view_count": null,
      "_view_module": "@jupyter-widgets/base",
      "_view_module_version": "1.2.0",
      "_view_name": "StyleView",
      "description_width": ""
     }
    },
    "690b9364bc9d479fadd038831e6bbcd7": {
     "model_module": "@jupyter-widgets/controls",
     "model_module_version": "1.5.0",
     "model_name": "HBoxModel",
     "state": {
      "_dom_classes": [],
      "_model_module": "@jupyter-widgets/controls",
      "_model_module_version": "1.5.0",
      "_model_name": "HBoxModel",
      "_view_count": null,
      "_view_module": "@jupyter-widgets/controls",
      "_view_module_version": "1.5.0",
      "_view_name": "HBoxView",
      "box_style": "",
      "children": [
       "IPY_MODEL_6ec987b3e01d4b2791b6c9d25508211b",
       "IPY_MODEL_dd7b724e426b41c9a72c69821055e80f",
       "IPY_MODEL_9cfcf31732974fc48bfd43c717b02478"
      ],
      "layout": "IPY_MODEL_5bae9130a3df4522a4baac71a4c57460"
     }
    },
    "6b18716d48f34761adc78cda4a19141b": {
     "model_module": "@jupyter-widgets/controls",
     "model_module_version": "1.5.0",
     "model_name": "HTMLModel",
     "state": {
      "_dom_classes": [],
      "_model_module": "@jupyter-widgets/controls",
      "_model_module_version": "1.5.0",
      "_model_name": "HTMLModel",
      "_view_count": null,
      "_view_module": "@jupyter-widgets/controls",
      "_view_module_version": "1.5.0",
      "_view_name": "HTMLView",
      "description": "",
      "description_tooltip": null,
      "layout": "IPY_MODEL_3d02fd8c8c2e491eb883b6e3c4fd8f34",
      "placeholder": "​",
      "style": "IPY_MODEL_313a7b3a2a9947e58c01efbb1cf27225",
      "value": " 48.0/48.0 [00:00&lt;00:00, 2.99kB/s]"
     }
    },
    "6ec987b3e01d4b2791b6c9d25508211b": {
     "model_module": "@jupyter-widgets/controls",
     "model_module_version": "1.5.0",
     "model_name": "HTMLModel",
     "state": {
      "_dom_classes": [],
      "_model_module": "@jupyter-widgets/controls",
      "_model_module_version": "1.5.0",
      "_model_name": "HTMLModel",
      "_view_count": null,
      "_view_module": "@jupyter-widgets/controls",
      "_view_module_version": "1.5.0",
      "_view_name": "HTMLView",
      "description": "",
      "description_tooltip": null,
      "layout": "IPY_MODEL_af4a38ca40b043db86572069af07fe66",
      "placeholder": "​",
      "style": "IPY_MODEL_1919785bfba944eab1f9e360d4af5457",
      "value": "config.json: 100%"
     }
    },
    "7156cc1e885644a6b9b072e3c48876e6": {
     "model_module": "@jupyter-widgets/base",
     "model_module_version": "1.2.0",
     "model_name": "LayoutModel",
     "state": {
      "_model_module": "@jupyter-widgets/base",
      "_model_module_version": "1.2.0",
      "_model_name": "LayoutModel",
      "_view_count": null,
      "_view_module": "@jupyter-widgets/base",
      "_view_module_version": "1.2.0",
      "_view_name": "LayoutView",
      "align_content": null,
      "align_items": null,
      "align_self": null,
      "border": null,
      "bottom": null,
      "display": null,
      "flex": null,
      "flex_flow": null,
      "grid_area": null,
      "grid_auto_columns": null,
      "grid_auto_flow": null,
      "grid_auto_rows": null,
      "grid_column": null,
      "grid_gap": null,
      "grid_row": null,
      "grid_template_areas": null,
      "grid_template_columns": null,
      "grid_template_rows": null,
      "height": null,
      "justify_content": null,
      "justify_items": null,
      "left": null,
      "margin": null,
      "max_height": null,
      "max_width": null,
      "min_height": null,
      "min_width": null,
      "object_fit": null,
      "object_position": null,
      "order": null,
      "overflow": null,
      "overflow_x": null,
      "overflow_y": null,
      "padding": null,
      "right": null,
      "top": null,
      "visibility": null,
      "width": null
     }
    },
    "71d1e0e52c3641b1876a9e9ca9d53a5b": {
     "model_module": "@jupyter-widgets/base",
     "model_module_version": "1.2.0",
     "model_name": "LayoutModel",
     "state": {
      "_model_module": "@jupyter-widgets/base",
      "_model_module_version": "1.2.0",
      "_model_name": "LayoutModel",
      "_view_count": null,
      "_view_module": "@jupyter-widgets/base",
      "_view_module_version": "1.2.0",
      "_view_name": "LayoutView",
      "align_content": null,
      "align_items": null,
      "align_self": null,
      "border": null,
      "bottom": null,
      "display": null,
      "flex": null,
      "flex_flow": null,
      "grid_area": null,
      "grid_auto_columns": null,
      "grid_auto_flow": null,
      "grid_auto_rows": null,
      "grid_column": null,
      "grid_gap": null,
      "grid_row": null,
      "grid_template_areas": null,
      "grid_template_columns": null,
      "grid_template_rows": null,
      "height": null,
      "justify_content": null,
      "justify_items": null,
      "left": null,
      "margin": null,
      "max_height": null,
      "max_width": null,
      "min_height": null,
      "min_width": null,
      "object_fit": null,
      "object_position": null,
      "order": null,
      "overflow": null,
      "overflow_x": null,
      "overflow_y": null,
      "padding": null,
      "right": null,
      "top": null,
      "visibility": null,
      "width": null
     }
    },
    "79c1c35bf0a0402eadad03b149fa69c7": {
     "model_module": "@jupyter-widgets/controls",
     "model_module_version": "1.5.0",
     "model_name": "HTMLModel",
     "state": {
      "_dom_classes": [],
      "_model_module": "@jupyter-widgets/controls",
      "_model_module_version": "1.5.0",
      "_model_name": "HTMLModel",
      "_view_count": null,
      "_view_module": "@jupyter-widgets/controls",
      "_view_module_version": "1.5.0",
      "_view_name": "HTMLView",
      "description": "",
      "description_tooltip": null,
      "layout": "IPY_MODEL_b4d948b2700641acbe69dc12ec7b25cd",
      "placeholder": "​",
      "style": "IPY_MODEL_855367e908a74b80b7136e98c0ee6411",
      "value": " 232k/232k [00:00&lt;00:00, 3.13MB/s]"
     }
    },
    "7a09c0317883423ca21635efad766d6a": {
     "model_module": "@jupyter-widgets/controls",
     "model_module_version": "1.5.0",
     "model_name": "DescriptionStyleModel",
     "state": {
      "_model_module": "@jupyter-widgets/controls",
      "_model_module_version": "1.5.0",
      "_model_name": "DescriptionStyleModel",
      "_view_count": null,
      "_view_module": "@jupyter-widgets/base",
      "_view_module_version": "1.2.0",
      "_view_name": "StyleView",
      "description_width": ""
     }
    },
    "7bef59aab2a5487e8ce1ad76a0535559": {
     "model_module": "@jupyter-widgets/controls",
     "model_module_version": "1.5.0",
     "model_name": "HTMLModel",
     "state": {
      "_dom_classes": [],
      "_model_module": "@jupyter-widgets/controls",
      "_model_module_version": "1.5.0",
      "_model_name": "HTMLModel",
      "_view_count": null,
      "_view_module": "@jupyter-widgets/controls",
      "_view_module_version": "1.5.0",
      "_view_name": "HTMLView",
      "description": "",
      "description_tooltip": null,
      "layout": "IPY_MODEL_04f1a07c218c43af9ca5c4d47f4696df",
      "placeholder": "​",
      "style": "IPY_MODEL_d67d4cc1cb714bd3b2e452b390f674ef",
      "value": "model.safetensors: 100%"
     }
    },
    "81be96e8201f4e779b783c8ccda9091a": {
     "model_module": "@jupyter-widgets/base",
     "model_module_version": "1.2.0",
     "model_name": "LayoutModel",
     "state": {
      "_model_module": "@jupyter-widgets/base",
      "_model_module_version": "1.2.0",
      "_model_name": "LayoutModel",
      "_view_count": null,
      "_view_module": "@jupyter-widgets/base",
      "_view_module_version": "1.2.0",
      "_view_name": "LayoutView",
      "align_content": null,
      "align_items": null,
      "align_self": null,
      "border": null,
      "bottom": null,
      "display": null,
      "flex": null,
      "flex_flow": null,
      "grid_area": null,
      "grid_auto_columns": null,
      "grid_auto_flow": null,
      "grid_auto_rows": null,
      "grid_column": null,
      "grid_gap": null,
      "grid_row": null,
      "grid_template_areas": null,
      "grid_template_columns": null,
      "grid_template_rows": null,
      "height": null,
      "justify_content": null,
      "justify_items": null,
      "left": null,
      "margin": null,
      "max_height": null,
      "max_width": null,
      "min_height": null,
      "min_width": null,
      "object_fit": null,
      "object_position": null,
      "order": null,
      "overflow": null,
      "overflow_x": null,
      "overflow_y": null,
      "padding": null,
      "right": null,
      "top": null,
      "visibility": null,
      "width": null
     }
    },
    "855367e908a74b80b7136e98c0ee6411": {
     "model_module": "@jupyter-widgets/controls",
     "model_module_version": "1.5.0",
     "model_name": "DescriptionStyleModel",
     "state": {
      "_model_module": "@jupyter-widgets/controls",
      "_model_module_version": "1.5.0",
      "_model_name": "DescriptionStyleModel",
      "_view_count": null,
      "_view_module": "@jupyter-widgets/base",
      "_view_module_version": "1.2.0",
      "_view_name": "StyleView",
      "description_width": ""
     }
    },
    "9358a2b56b0741d097bb9e433b4da227": {
     "model_module": "@jupyter-widgets/base",
     "model_module_version": "1.2.0",
     "model_name": "LayoutModel",
     "state": {
      "_model_module": "@jupyter-widgets/base",
      "_model_module_version": "1.2.0",
      "_model_name": "LayoutModel",
      "_view_count": null,
      "_view_module": "@jupyter-widgets/base",
      "_view_module_version": "1.2.0",
      "_view_name": "LayoutView",
      "align_content": null,
      "align_items": null,
      "align_self": null,
      "border": null,
      "bottom": null,
      "display": null,
      "flex": null,
      "flex_flow": null,
      "grid_area": null,
      "grid_auto_columns": null,
      "grid_auto_flow": null,
      "grid_auto_rows": null,
      "grid_column": null,
      "grid_gap": null,
      "grid_row": null,
      "grid_template_areas": null,
      "grid_template_columns": null,
      "grid_template_rows": null,
      "height": null,
      "justify_content": null,
      "justify_items": null,
      "left": null,
      "margin": null,
      "max_height": null,
      "max_width": null,
      "min_height": null,
      "min_width": null,
      "object_fit": null,
      "object_position": null,
      "order": null,
      "overflow": null,
      "overflow_x": null,
      "overflow_y": null,
      "padding": null,
      "right": null,
      "top": null,
      "visibility": null,
      "width": null
     }
    },
    "969af3ce31b5499187bf9596c0fb724c": {
     "model_module": "@jupyter-widgets/controls",
     "model_module_version": "1.5.0",
     "model_name": "ProgressStyleModel",
     "state": {
      "_model_module": "@jupyter-widgets/controls",
      "_model_module_version": "1.5.0",
      "_model_name": "ProgressStyleModel",
      "_view_count": null,
      "_view_module": "@jupyter-widgets/base",
      "_view_module_version": "1.2.0",
      "_view_name": "StyleView",
      "bar_color": null,
      "description_width": ""
     }
    },
    "9cfcf31732974fc48bfd43c717b02478": {
     "model_module": "@jupyter-widgets/controls",
     "model_module_version": "1.5.0",
     "model_name": "HTMLModel",
     "state": {
      "_dom_classes": [],
      "_model_module": "@jupyter-widgets/controls",
      "_model_module_version": "1.5.0",
      "_model_name": "HTMLModel",
      "_view_count": null,
      "_view_module": "@jupyter-widgets/controls",
      "_view_module_version": "1.5.0",
      "_view_name": "HTMLView",
      "description": "",
      "description_tooltip": null,
      "layout": "IPY_MODEL_7156cc1e885644a6b9b072e3c48876e6",
      "placeholder": "​",
      "style": "IPY_MODEL_3f9adfa22e1f4c82bd8afb4e65e1d20c",
      "value": " 629/629 [00:00&lt;00:00, 51.9kB/s]"
     }
    },
    "af4a38ca40b043db86572069af07fe66": {
     "model_module": "@jupyter-widgets/base",
     "model_module_version": "1.2.0",
     "model_name": "LayoutModel",
     "state": {
      "_model_module": "@jupyter-widgets/base",
      "_model_module_version": "1.2.0",
      "_model_name": "LayoutModel",
      "_view_count": null,
      "_view_module": "@jupyter-widgets/base",
      "_view_module_version": "1.2.0",
      "_view_name": "LayoutView",
      "align_content": null,
      "align_items": null,
      "align_self": null,
      "border": null,
      "bottom": null,
      "display": null,
      "flex": null,
      "flex_flow": null,
      "grid_area": null,
      "grid_auto_columns": null,
      "grid_auto_flow": null,
      "grid_auto_rows": null,
      "grid_column": null,
      "grid_gap": null,
      "grid_row": null,
      "grid_template_areas": null,
      "grid_template_columns": null,
      "grid_template_rows": null,
      "height": null,
      "justify_content": null,
      "justify_items": null,
      "left": null,
      "margin": null,
      "max_height": null,
      "max_width": null,
      "min_height": null,
      "min_width": null,
      "object_fit": null,
      "object_position": null,
      "order": null,
      "overflow": null,
      "overflow_x": null,
      "overflow_y": null,
      "padding": null,
      "right": null,
      "top": null,
      "visibility": null,
      "width": null
     }
    },
    "b4d948b2700641acbe69dc12ec7b25cd": {
     "model_module": "@jupyter-widgets/base",
     "model_module_version": "1.2.0",
     "model_name": "LayoutModel",
     "state": {
      "_model_module": "@jupyter-widgets/base",
      "_model_module_version": "1.2.0",
      "_model_name": "LayoutModel",
      "_view_count": null,
      "_view_module": "@jupyter-widgets/base",
      "_view_module_version": "1.2.0",
      "_view_name": "LayoutView",
      "align_content": null,
      "align_items": null,
      "align_self": null,
      "border": null,
      "bottom": null,
      "display": null,
      "flex": null,
      "flex_flow": null,
      "grid_area": null,
      "grid_auto_columns": null,
      "grid_auto_flow": null,
      "grid_auto_rows": null,
      "grid_column": null,
      "grid_gap": null,
      "grid_row": null,
      "grid_template_areas": null,
      "grid_template_columns": null,
      "grid_template_rows": null,
      "height": null,
      "justify_content": null,
      "justify_items": null,
      "left": null,
      "margin": null,
      "max_height": null,
      "max_width": null,
      "min_height": null,
      "min_width": null,
      "object_fit": null,
      "object_position": null,
      "order": null,
      "overflow": null,
      "overflow_x": null,
      "overflow_y": null,
      "padding": null,
      "right": null,
      "top": null,
      "visibility": null,
      "width": null
     }
    },
    "bb470ac5a2d140b18060060dc1538b65": {
     "model_module": "@jupyter-widgets/base",
     "model_module_version": "1.2.0",
     "model_name": "LayoutModel",
     "state": {
      "_model_module": "@jupyter-widgets/base",
      "_model_module_version": "1.2.0",
      "_model_name": "LayoutModel",
      "_view_count": null,
      "_view_module": "@jupyter-widgets/base",
      "_view_module_version": "1.2.0",
      "_view_name": "LayoutView",
      "align_content": null,
      "align_items": null,
      "align_self": null,
      "border": null,
      "bottom": null,
      "display": null,
      "flex": null,
      "flex_flow": null,
      "grid_area": null,
      "grid_auto_columns": null,
      "grid_auto_flow": null,
      "grid_auto_rows": null,
      "grid_column": null,
      "grid_gap": null,
      "grid_row": null,
      "grid_template_areas": null,
      "grid_template_columns": null,
      "grid_template_rows": null,
      "height": null,
      "justify_content": null,
      "justify_items": null,
      "left": null,
      "margin": null,
      "max_height": null,
      "max_width": null,
      "min_height": null,
      "min_width": null,
      "object_fit": null,
      "object_position": null,
      "order": null,
      "overflow": null,
      "overflow_x": null,
      "overflow_y": null,
      "padding": null,
      "right": null,
      "top": null,
      "visibility": null,
      "width": null
     }
    },
    "c639812e4f6640cb98278a5a762e7947": {
     "model_module": "@jupyter-widgets/controls",
     "model_module_version": "1.5.0",
     "model_name": "ProgressStyleModel",
     "state": {
      "_model_module": "@jupyter-widgets/controls",
      "_model_module_version": "1.5.0",
      "_model_name": "ProgressStyleModel",
      "_view_count": null,
      "_view_module": "@jupyter-widgets/base",
      "_view_module_version": "1.2.0",
      "_view_name": "StyleView",
      "bar_color": null,
      "description_width": ""
     }
    },
    "cdc8bc6f7bd6419b88a9a0cd67683b74": {
     "model_module": "@jupyter-widgets/controls",
     "model_module_version": "1.5.0",
     "model_name": "FloatProgressModel",
     "state": {
      "_dom_classes": [],
      "_model_module": "@jupyter-widgets/controls",
      "_model_module_version": "1.5.0",
      "_model_name": "FloatProgressModel",
      "_view_count": null,
      "_view_module": "@jupyter-widgets/controls",
      "_view_module_version": "1.5.0",
      "_view_name": "ProgressView",
      "bar_style": "success",
      "description": "",
      "description_tooltip": null,
      "layout": "IPY_MODEL_9358a2b56b0741d097bb9e433b4da227",
      "max": 231508,
      "min": 0,
      "orientation": "horizontal",
      "style": "IPY_MODEL_969af3ce31b5499187bf9596c0fb724c",
      "value": 231508
     }
    },
    "d67d4cc1cb714bd3b2e452b390f674ef": {
     "model_module": "@jupyter-widgets/controls",
     "model_module_version": "1.5.0",
     "model_name": "DescriptionStyleModel",
     "state": {
      "_model_module": "@jupyter-widgets/controls",
      "_model_module_version": "1.5.0",
      "_model_name": "DescriptionStyleModel",
      "_view_count": null,
      "_view_module": "@jupyter-widgets/base",
      "_view_module_version": "1.2.0",
      "_view_name": "StyleView",
      "description_width": ""
     }
    },
    "dd7b724e426b41c9a72c69821055e80f": {
     "model_module": "@jupyter-widgets/controls",
     "model_module_version": "1.5.0",
     "model_name": "FloatProgressModel",
     "state": {
      "_dom_classes": [],
      "_model_module": "@jupyter-widgets/controls",
      "_model_module_version": "1.5.0",
      "_model_name": "FloatProgressModel",
      "_view_count": null,
      "_view_module": "@jupyter-widgets/controls",
      "_view_module_version": "1.5.0",
      "_view_name": "ProgressView",
      "bar_style": "success",
      "description": "",
      "description_tooltip": null,
      "layout": "IPY_MODEL_1eb1428e191d48928cc0540ae7a1458f",
      "max": 629,
      "min": 0,
      "orientation": "horizontal",
      "style": "IPY_MODEL_c639812e4f6640cb98278a5a762e7947",
      "value": 629
     }
    },
    "e28f1b9561164fb48de6896bd6f4e450": {
     "model_module": "@jupyter-widgets/base",
     "model_module_version": "1.2.0",
     "model_name": "LayoutModel",
     "state": {
      "_model_module": "@jupyter-widgets/base",
      "_model_module_version": "1.2.0",
      "_model_name": "LayoutModel",
      "_view_count": null,
      "_view_module": "@jupyter-widgets/base",
      "_view_module_version": "1.2.0",
      "_view_name": "LayoutView",
      "align_content": null,
      "align_items": null,
      "align_self": null,
      "border": null,
      "bottom": null,
      "display": null,
      "flex": null,
      "flex_flow": null,
      "grid_area": null,
      "grid_auto_columns": null,
      "grid_auto_flow": null,
      "grid_auto_rows": null,
      "grid_column": null,
      "grid_gap": null,
      "grid_row": null,
      "grid_template_areas": null,
      "grid_template_columns": null,
      "grid_template_rows": null,
      "height": null,
      "justify_content": null,
      "justify_items": null,
      "left": null,
      "margin": null,
      "max_height": null,
      "max_width": null,
      "min_height": null,
      "min_width": null,
      "object_fit": null,
      "object_position": null,
      "order": null,
      "overflow": null,
      "overflow_x": null,
      "overflow_y": null,
      "padding": null,
      "right": null,
      "top": null,
      "visibility": null,
      "width": null
     }
    },
    "ea757c233ed24698a6fff70e2f9563f0": {
     "model_module": "@jupyter-widgets/controls",
     "model_module_version": "1.5.0",
     "model_name": "HBoxModel",
     "state": {
      "_dom_classes": [],
      "_model_module": "@jupyter-widgets/controls",
      "_model_module_version": "1.5.0",
      "_model_name": "HBoxModel",
      "_view_count": null,
      "_view_module": "@jupyter-widgets/controls",
      "_view_module_version": "1.5.0",
      "_view_name": "HBoxView",
      "box_style": "",
      "children": [
       "IPY_MODEL_14000e42d6f34f768242fd7c0d1c036e",
       "IPY_MODEL_cdc8bc6f7bd6419b88a9a0cd67683b74",
       "IPY_MODEL_79c1c35bf0a0402eadad03b149fa69c7"
      ],
      "layout": "IPY_MODEL_09b13482362640dfafbb1521cf46edf5"
     }
    }
   }
  }
 },
 "nbformat": 4,
 "nbformat_minor": 1
}
